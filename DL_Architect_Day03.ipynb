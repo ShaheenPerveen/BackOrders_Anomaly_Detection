{
  "nbformat": 4,
  "nbformat_minor": 0,
  "metadata": {
    "colab": {
      "name": "DL_Architect_Day03.ipynb",
      "version": "0.3.2",
      "provenance": [],
      "collapsed_sections": []
    },
    "kernelspec": {
      "name": "python3",
      "display_name": "Python 3"
    },
    "accelerator": "GPU"
  },
  "cells": [
    {
      "metadata": {
        "id": "212fsSXuBqvZ",
        "colab_type": "code",
        "colab": {
          "base_uri": "https://localhost:8080/",
          "height": 87
        },
        "outputId": "19dd42b7-d51d-42e9-cded-13f5bb630b2a"
      },
      "cell_type": "code",
      "source": [
        "\n",
        "import numpy as np\n",
        "import pandas as pd\n",
        "from sklearn.cross_validation import train_test_split\n",
        "\n",
        "from keras.preprocessing.image import ImageDataGenerator\n",
        "from keras.models import Sequential\n",
        "from keras.layers import Dense, Dropout, Activation, Flatten\n",
        "from keras.layers import Convolution2D, MaxPooling2D\n",
        "from keras.layers.convolutional import Convolution2D, MaxPooling2D, ZeroPadding2D\n",
        "from keras.optimizers import SGD\n",
        "from keras.utils import np_utils\n",
        "from keras.callbacks import LearningRateScheduler\n",
        "from keras.constraints import maxnorm\n",
        "from keras.regularizers import l2\n",
        "from random import shuffle\n",
        "\n",
        "from matplotlib import pyplot as plt\n",
        "%matplotlib inline\n",
        "\n",
        "import cv2\n",
        "import glob\n",
        "import os\n",
        "import re"
      ],
      "execution_count": 1,
      "outputs": [
        {
          "output_type": "stream",
          "text": [
            "/usr/local/lib/python3.6/dist-packages/sklearn/cross_validation.py:41: DeprecationWarning: This module was deprecated in version 0.18 in favor of the model_selection module into which all the refactored classes and functions are moved. Also note that the interface of the new CV iterators are different from that of this module. This module will be removed in 0.20.\n",
            "  \"This module will be removed in 0.20.\", DeprecationWarning)\n",
            "Using TensorFlow backend.\n"
          ],
          "name": "stderr"
        }
      ]
    },
    {
      "metadata": {
        "id": "iYxqRCsiCEOd",
        "colab_type": "code",
        "colab": {}
      },
      "cell_type": "code",
      "source": [
        "from google.colab import drive"
      ],
      "execution_count": 0,
      "outputs": []
    },
    {
      "metadata": {
        "id": "TwL4PQOlCEMS",
        "colab_type": "code",
        "colab": {
          "base_uri": "https://localhost:8080/",
          "height": 34
        },
        "outputId": "d1a4585a-f594-4b0b-f61b-b2e635d261cc"
      },
      "cell_type": "code",
      "source": [
        "drive.mount('/content/drive')"
      ],
      "execution_count": 4,
      "outputs": [
        {
          "output_type": "stream",
          "text": [
            "Drive already mounted at /content/drive; to attempt to forcibly remount, call drive.mount(\"/content/drive\", force_remount=True).\n"
          ],
          "name": "stdout"
        }
      ]
    },
    {
      "metadata": {
        "id": "jS27Fyy6CEHZ",
        "colab_type": "code",
        "colab": {
          "base_uri": "https://localhost:8080/",
          "height": 50
        },
        "outputId": "76398d74-2f1b-4697-e0ad-1f1ba4da1cca"
      },
      "cell_type": "code",
      "source": [
        "positive_path = \"/content/drive/My Drive/Colab_Folder/SMILES/positives\"\n",
        "negative_path = \"/content/drive/My Drive/Colab_Folder/SMILES/negatives\"\n",
        "\n",
        "ROWS = 32\n",
        "COLS = 32\n",
        "CHANNELS = 1\n",
        "\n",
        "# images = [img for img in os.listdir(train_path)]\n",
        "images_pos = [img for img in os.listdir(positive_path)]\n",
        "images_neg = [img for img in os.listdir(negative_path)]\n",
        "\n",
        "\n",
        "print(images_pos[:10])\n",
        "print(images_neg[:10])\n",
        "\n",
        "ps = len(images_pos)\n",
        "ng = len(images_neg)\n",
        "tot = ps + ng\n",
        "\n",
        "data = np.ndarray(shape=(tot,ROWS, COLS))\n",
        "labels = np.ndarray(tot)\n",
        "\n",
        "for t in range(0,tot):\n",
        "  if t < ps:\n",
        "    for i, img_path in enumerate(images_pos):\n",
        "#       print(\"pos\")\n",
        "#       print(i)\n",
        "      img_pos = cv2.imread(os.path.join(positive_path, img_path), 0)\n",
        "#     img_neg = cv2.imread(os.path.join(negative_path, img_path), 0)\n",
        "      img_pos = cv2.resize(img_pos, (ROWS, COLS), interpolation=cv2.INTER_CUBIC)\n",
        "    \n",
        "      data[i] = img_pos\n",
        "      labels[i] = 1\n",
        "      \n",
        "  elif t >= ps & t <= tot:\n",
        "    for i, img_path in enumerate(images_neg):\n",
        "#       print(\"neg\")\n",
        "#       print(i)\n",
        "      img_neg = cv2.imread(os.path.join(negative_path, img_path), 0)\n",
        "#     img_neg = cv2.imread(os.path.join(negative_path, img_path), 0)\n",
        "      img_neg = cv2.resize(img_neg, (ROWS, COLS), interpolation=cv2.INTER_CUBIC)\n",
        "  \n",
        "      data[ps + i] = img_neg\n",
        "      labels[ps + i] = 0\n",
        "      \n",
        "      \n",
        "# for i, img_path in enumerate(images_pos):\n",
        "#     print(\"pos\")\n",
        "#     print(i)\n",
        "#     img_pos = cv2.imread(os.path.join(positive_path, img_path), 0)\n",
        "# #     img_neg = cv2.imread(os.path.join(negative_path, img_path), 0)\n",
        "#     img_pos = cv2.resize(img_pos, (ROWS, COLS), interpolation=cv2.INTER_CUBIC)\n",
        "    \n",
        "#     pos[i] = img_pos\n",
        "#     labels_pos[i] = 1\n",
        "\n",
        "    \n",
        "# neg = np.ndarray(shape=(len(images_neg),ROWS, COLS))\n",
        "# labels_neg = np.ndarray(len(images_neg))\n",
        "\n",
        "# for i, img_path in enumerate(images_neg):\n",
        "#     print(\"neg\")\n",
        "#     print(i)\n",
        "#     img_neg = cv2.imread(os.path.join(negative_path, img_path), 0)\n",
        "# #     img_neg = cv2.imread(os.path.join(negative_path, img_path), 0)\n",
        "#     img_neg = cv2.resize(img_neg, (ROWS, COLS), interpolation=cv2.INTER_CUBIC)\n",
        "    \n",
        "#     neg[i] = img_neg\n",
        "#     labels_neg[i] = 0\n",
        "    \n",
        "    \n",
        "\n",
        "    \n",
        "# for i in range(0, )\n",
        "    \n",
        "# data = pos + neg\n",
        "# labels = labels_pos + labels_neg"
      ],
      "execution_count": 0,
      "outputs": [
        {
          "output_type": "stream",
          "text": [
            "['6649.jpg', '6654.jpg', '6670.jpg', '6666.jpg', '6669.jpg', '668.jpg', '6657.jpg', '6668.jpg', '6681.jpg', '6674.jpg']\n",
            "['8752.jpg', '8765.jpg', '8763.jpg', '8764.jpg', '8768.jpg', '8767.jpg', '8776.jpg', '8778.jpg', '8774.jpg', '8771.jpg']\n"
          ],
          "name": "stdout"
        }
      ]
    },
    {
      "metadata": {
        "id": "9tI-UhliosTz",
        "colab_type": "code",
        "colab": {}
      },
      "cell_type": "code",
      "source": [
        "ps = len(images_pos)\n",
        "ng = len(images_neg)\n",
        "tot = ps + ng\n",
        "\n",
        "data = np.ndarray(shape=(tot,ROWS, COLS))\n",
        "labels = np.ndarray(tot)\n",
        "\n",
        "\n",
        "for t in range(0,tot):\n",
        "  if t < ps:\n",
        "    data[t] = pos[t]\n",
        "    labels[t] = labels_pos[t]\n",
        "    \n",
        "        \n",
        "  elif t >= ps & t <= tot:\n",
        "      data[t] = neg[t-ps]\n",
        "      labels[t] = labels_neg[t-ps]\n",
        "  "
      ],
      "execution_count": 0,
      "outputs": []
    },
    {
      "metadata": {
        "id": "a3R9YqoIpAEN",
        "colab_type": "code",
        "colab": {
          "base_uri": "https://localhost:8080/",
          "height": 162
        },
        "outputId": "ada6bff9-c999-4876-c0de-5990af58b40f"
      },
      "cell_type": "code",
      "source": [
        "# data.shape\n",
        "data[:10]"
      ],
      "execution_count": 5,
      "outputs": [
        {
          "output_type": "error",
          "ename": "NameError",
          "evalue": "ignored",
          "traceback": [
            "\u001b[0;31m---------------------------------------------------------------------------\u001b[0m",
            "\u001b[0;31mNameError\u001b[0m                                 Traceback (most recent call last)",
            "\u001b[0;32m<ipython-input-5-f604c907738b>\u001b[0m in \u001b[0;36m<module>\u001b[0;34m()\u001b[0m\n\u001b[0;32m----> 1\u001b[0;31m \u001b[0mdata\u001b[0m\u001b[0;34m[\u001b[0m\u001b[0;34m:\u001b[0m\u001b[0;36m10\u001b[0m\u001b[0;34m]\u001b[0m\u001b[0;34m\u001b[0m\u001b[0m\n\u001b[0m",
            "\u001b[0;31mNameError\u001b[0m: name 'data' is not defined"
          ]
        }
      ]
    },
    {
      "metadata": {
        "id": "SyLgaR-ljAIV",
        "colab_type": "code",
        "colab": {
          "base_uri": "https://localhost:8080/",
          "height": 50
        },
        "outputId": "92363223-a7aa-45cc-f51c-6a66b132ea00"
      },
      "cell_type": "code",
      "source": [
        "img_pos_smpl = images_pos[:10]\n",
        "img_neg_smpl = images_neg[:10]\n",
        "print(img_pos_smpl)\n",
        "print(img_neg_smpl)"
      ],
      "execution_count": 28,
      "outputs": [
        {
          "output_type": "stream",
          "text": [
            "['6649.jpg', '6654.jpg', '6670.jpg', '6666.jpg', '6669.jpg', '668.jpg', '6657.jpg', '6668.jpg', '6681.jpg', '6674.jpg']\n",
            "['8752.jpg', '8765.jpg', '8763.jpg', '8764.jpg', '8768.jpg', '8767.jpg', '8776.jpg', '8778.jpg', '8774.jpg', '8771.jpg']\n"
          ],
          "name": "stdout"
        }
      ]
    },
    {
      "metadata": {
        "id": "-sDetOV9jY3d",
        "colab_type": "code",
        "colab": {
          "base_uri": "https://localhost:8080/",
          "height": 34
        },
        "outputId": "1a00de1c-0642-40eb-f2c1-ef66c49bd4ad"
      },
      "cell_type": "code",
      "source": [
        "ps = len(img_pos_smpl)\n",
        "ng = len(img_neg_smpl)\n",
        "tot = ps + ng\n",
        "print(tot)\n",
        "\n",
        "dt = np.ndarray(shape=(tot,ROWS, COLS))\n",
        "lbls = np.ndarray(tot)"
      ],
      "execution_count": 30,
      "outputs": [
        {
          "output_type": "stream",
          "text": [
            "20\n"
          ],
          "name": "stdout"
        }
      ]
    },
    {
      "metadata": {
        "id": "g4KHPu9PhmYZ",
        "colab_type": "code",
        "colab": {
          "base_uri": "https://localhost:8080/",
          "height": 6737
        },
        "outputId": "c221be7d-332a-4fcb-8333-699765badf02"
      },
      "cell_type": "code",
      "source": [
        "\n",
        "\n",
        "for t in range(0,tot):\n",
        "  if t <= ps:\n",
        "    for i, img_path in enumerate(img_pos_smpl):\n",
        "      print(\"pos\")\n",
        "      print(i)\n",
        "      img_pos = cv2.imread(os.path.join(positive_path, img_path), 0)\n",
        "#     img_neg = cv2.imread(os.path.join(negative_path, img_path), 0)\n",
        "      img_pos = cv2.resize(img_pos, (ROWS, COLS), interpolation=cv2.INTER_CUBIC)\n",
        "    \n",
        "      dt[i] = img_pos\n",
        "      lbls[i] = 1\n",
        "      \n",
        "  elif t > ps & t <= tot:\n",
        "    for i, img_path in enumerate(img_neg_smpl):\n",
        "      print(\"neg\")\n",
        "      print(i)\n",
        "      img_neg = cv2.imread(os.path.join(negative_path, img_path), 0)\n",
        "#     img_neg = cv2.imread(os.path.join(negative_path, img_path), 0)\n",
        "      img_neg = cv2.resize(img_neg, (ROWS, COLS), interpolation=cv2.INTER_CUBIC)\n",
        "  \n",
        "      dt[ps + i] = img_neg\n",
        "      lbls[ps + i] = 0\n",
        "  "
      ],
      "execution_count": 33,
      "outputs": [
        {
          "output_type": "stream",
          "text": [
            "pos\n",
            "0\n",
            "pos\n",
            "1\n",
            "pos\n",
            "2\n",
            "pos\n",
            "3\n",
            "pos\n",
            "4\n",
            "pos\n",
            "5\n",
            "pos\n",
            "6\n",
            "pos\n",
            "7\n",
            "pos\n",
            "8\n",
            "pos\n",
            "9\n",
            "pos\n",
            "0\n",
            "pos\n",
            "1\n",
            "pos\n",
            "2\n",
            "pos\n",
            "3\n",
            "pos\n",
            "4\n",
            "pos\n",
            "5\n",
            "pos\n",
            "6\n",
            "pos\n",
            "7\n",
            "pos\n",
            "8\n",
            "pos\n",
            "9\n",
            "pos\n",
            "0\n",
            "pos\n",
            "1\n",
            "pos\n",
            "2\n",
            "pos\n",
            "3\n",
            "pos\n",
            "4\n",
            "pos\n",
            "5\n",
            "pos\n",
            "6\n",
            "pos\n",
            "7\n",
            "pos\n",
            "8\n",
            "pos\n",
            "9\n",
            "pos\n",
            "0\n",
            "pos\n",
            "1\n",
            "pos\n",
            "2\n",
            "pos\n",
            "3\n",
            "pos\n",
            "4\n",
            "pos\n",
            "5\n",
            "pos\n",
            "6\n",
            "pos\n",
            "7\n",
            "pos\n",
            "8\n",
            "pos\n",
            "9\n",
            "pos\n",
            "0\n",
            "pos\n",
            "1\n",
            "pos\n",
            "2\n",
            "pos\n",
            "3\n",
            "pos\n",
            "4\n",
            "pos\n",
            "5\n",
            "pos\n",
            "6\n",
            "pos\n",
            "7\n",
            "pos\n",
            "8\n",
            "pos\n",
            "9\n",
            "pos\n",
            "0\n",
            "pos\n",
            "1\n",
            "pos\n",
            "2\n",
            "pos\n",
            "3\n",
            "pos\n",
            "4\n",
            "pos\n",
            "5\n",
            "pos\n",
            "6\n",
            "pos\n",
            "7\n",
            "pos\n",
            "8\n",
            "pos\n",
            "9\n",
            "pos\n",
            "0\n",
            "pos\n",
            "1\n",
            "pos\n",
            "2\n",
            "pos\n",
            "3\n",
            "pos\n",
            "4\n",
            "pos\n",
            "5\n",
            "pos\n",
            "6\n",
            "pos\n",
            "7\n",
            "pos\n",
            "8\n",
            "pos\n",
            "9\n",
            "pos\n",
            "0\n",
            "pos\n",
            "1\n",
            "pos\n",
            "2\n",
            "pos\n",
            "3\n",
            "pos\n",
            "4\n",
            "pos\n",
            "5\n",
            "pos\n",
            "6\n",
            "pos\n",
            "7\n",
            "pos\n",
            "8\n",
            "pos\n",
            "9\n",
            "pos\n",
            "0\n",
            "pos\n",
            "1\n",
            "pos\n",
            "2\n",
            "pos\n",
            "3\n",
            "pos\n",
            "4\n",
            "pos\n",
            "5\n",
            "pos\n",
            "6\n",
            "pos\n",
            "7\n",
            "pos\n",
            "8\n",
            "pos\n",
            "9\n",
            "pos\n",
            "0\n",
            "pos\n",
            "1\n",
            "pos\n",
            "2\n",
            "pos\n",
            "3\n",
            "pos\n",
            "4\n",
            "pos\n",
            "5\n",
            "pos\n",
            "6\n",
            "pos\n",
            "7\n",
            "pos\n",
            "8\n",
            "pos\n",
            "9\n",
            "pos\n",
            "0\n",
            "pos\n",
            "1\n",
            "pos\n",
            "2\n",
            "pos\n",
            "3\n",
            "pos\n",
            "4\n",
            "pos\n",
            "5\n",
            "pos\n",
            "6\n",
            "pos\n",
            "7\n",
            "pos\n",
            "8\n",
            "pos\n",
            "9\n",
            "neg\n",
            "0\n",
            "neg\n",
            "1\n",
            "neg\n",
            "2\n",
            "neg\n",
            "3\n",
            "neg\n",
            "4\n",
            "neg\n",
            "5\n",
            "neg\n",
            "6\n",
            "neg\n",
            "7\n",
            "neg\n",
            "8\n",
            "neg\n",
            "9\n",
            "neg\n",
            "0\n",
            "neg\n",
            "1\n",
            "neg\n",
            "2\n",
            "neg\n",
            "3\n",
            "neg\n",
            "4\n",
            "neg\n",
            "5\n",
            "neg\n",
            "6\n",
            "neg\n",
            "7\n",
            "neg\n",
            "8\n",
            "neg\n",
            "9\n",
            "neg\n",
            "0\n",
            "neg\n",
            "1\n",
            "neg\n",
            "2\n",
            "neg\n",
            "3\n",
            "neg\n",
            "4\n",
            "neg\n",
            "5\n",
            "neg\n",
            "6\n",
            "neg\n",
            "7\n",
            "neg\n",
            "8\n",
            "neg\n",
            "9\n",
            "neg\n",
            "0\n",
            "neg\n",
            "1\n",
            "neg\n",
            "2\n",
            "neg\n",
            "3\n",
            "neg\n",
            "4\n",
            "neg\n",
            "5\n",
            "neg\n",
            "6\n",
            "neg\n",
            "7\n",
            "neg\n",
            "8\n",
            "neg\n",
            "9\n",
            "neg\n",
            "0\n",
            "neg\n",
            "1\n",
            "neg\n",
            "2\n",
            "neg\n",
            "3\n",
            "neg\n",
            "4\n",
            "neg\n",
            "5\n",
            "neg\n",
            "6\n",
            "neg\n",
            "7\n",
            "neg\n",
            "8\n",
            "neg\n",
            "9\n",
            "neg\n",
            "0\n",
            "neg\n",
            "1\n",
            "neg\n",
            "2\n",
            "neg\n",
            "3\n",
            "neg\n",
            "4\n",
            "neg\n",
            "5\n",
            "neg\n",
            "6\n",
            "neg\n",
            "7\n",
            "neg\n",
            "8\n",
            "neg\n",
            "9\n",
            "neg\n",
            "0\n",
            "neg\n",
            "1\n",
            "neg\n",
            "2\n",
            "neg\n",
            "3\n",
            "neg\n",
            "4\n",
            "neg\n",
            "5\n",
            "neg\n",
            "6\n",
            "neg\n",
            "7\n",
            "neg\n",
            "8\n",
            "neg\n",
            "9\n",
            "neg\n",
            "0\n",
            "neg\n",
            "1\n",
            "neg\n",
            "2\n",
            "neg\n",
            "3\n",
            "neg\n",
            "4\n",
            "neg\n",
            "5\n",
            "neg\n",
            "6\n",
            "neg\n",
            "7\n",
            "neg\n",
            "8\n",
            "neg\n",
            "9\n",
            "neg\n",
            "0\n",
            "neg\n",
            "1\n",
            "neg\n",
            "2\n",
            "neg\n",
            "3\n",
            "neg\n",
            "4\n",
            "neg\n",
            "5\n",
            "neg\n",
            "6\n",
            "neg\n",
            "7\n",
            "neg\n",
            "8\n",
            "neg\n",
            "9\n"
          ],
          "name": "stdout"
        }
      ]
    },
    {
      "metadata": {
        "id": "sE8B4fksm9hF",
        "colab_type": "code",
        "colab": {}
      },
      "cell_type": "code",
      "source": [
        "for t in range(0,tot):\n",
        "  if t <= ps:\n",
        "    for i, img_path in enumerate(img_pos_smpl):\n",
        "      print(\"pos\")\n",
        "      print(i)\n",
        "      img_pos = cv2.imread(os.path.join(positive_path, img_path), 0)\n",
        "#     img_neg = cv2.imread(os.path.join(negative_path, img_path), 0)\n",
        "      img_pos = cv2.resize(img_pos, (ROWS, COLS), interpolation=cv2.INTER_CUBIC)\n",
        "    \n",
        "      dt[i] = img_pos\n",
        "      lbls[i] = 1\n",
        "      \n",
        "  elif t > ps & t <= tot:\n",
        "    for i, img_path in enumerate(img_neg_smpl):\n",
        "      print(\"neg\")\n",
        "      print(i)\n",
        "      img_neg = cv2.imread(os.path.join(negative_path, img_path), 0)\n",
        "#     img_neg = cv2.imread(os.path.join(negative_path, img_path), 0)\n",
        "      img_neg = cv2.resize(img_neg, (ROWS, COLS), interpolation=cv2.INTER_CUBIC)\n",
        "  \n",
        "      dt[ps + i] = img_pos\n",
        "      lbls[ps + i] = 0"
      ],
      "execution_count": 0,
      "outputs": []
    },
    {
      "metadata": {
        "id": "AEkBa1N7mp77",
        "colab_type": "code",
        "colab": {
          "base_uri": "https://localhost:8080/",
          "height": 34
        },
        "outputId": "028b66ca-a4be-4a8a-e5e4-07566096a22f"
      },
      "cell_type": "code",
      "source": [
        "dt.shape"
      ],
      "execution_count": 35,
      "outputs": [
        {
          "output_type": "execute_result",
          "data": {
            "text/plain": [
              "(20, 128, 128)"
            ]
          },
          "metadata": {
            "tags": []
          },
          "execution_count": 35
        }
      ]
    },
    {
      "metadata": {
        "id": "ylTRbCuMh8NI",
        "colab_type": "code",
        "colab": {
          "base_uri": "https://localhost:8080/",
          "height": 34
        },
        "outputId": "2c9e2198-78ee-4f4b-81e1-81467f1129af"
      },
      "cell_type": "code",
      "source": [
        "train_list[:10]"
      ],
      "execution_count": 26,
      "outputs": [
        {
          "output_type": "execute_result",
          "data": {
            "text/plain": [
              "['positives', 'negatives']"
            ]
          },
          "metadata": {
            "tags": []
          },
          "execution_count": 26
        }
      ]
    },
    {
      "metadata": {
        "id": "bpGynQwCgfsQ",
        "colab_type": "code",
        "colab": {}
      },
      "cell_type": "code",
      "source": [
        "ps = len(images_pos)\n",
        "ng = len(images_neg)\n",
        "tot = ps + ng\n",
        "\n",
        "data = np.ndarray(shape=(len(tot),ROWS, COLS))\n",
        "labels = np.ndarray(len(tot))\n",
        "\n",
        "for t in range(0,tot):\n",
        "  if t <= ps:\n",
        "    for i, img_path in enumerate(images_pos):\n",
        "      print(\"pos\")\n",
        "      print(i)\n",
        "      img_pos = cv2.imread(os.path.join(positive_path, img_path), 0)\n",
        "#     img_neg = cv2.imread(os.path.join(negative_path, img_path), 0)\n",
        "      img_pos = cv2.resize(img_pos, (ROWS, COLS), interpolation=cv2.INTER_CUBIC)\n",
        "    \n",
        "      data[i] = img_pos\n",
        "      labels[i] = 1\n",
        "      \n",
        "  elif t > ps & t <= tot:\n",
        "    for i, img_path in enumerate(images_neg):\n",
        "      print(\"neg\")\n",
        "      print(i)\n",
        "      img_neg = cv2.imread(os.path.join(negative_path, img_path), 0)\n",
        "#     img_neg = cv2.imread(os.path.join(negative_path, img_path), 0)\n",
        "      img_neg = cv2.resize(img_neg, (ROWS, COLS), interpolation=cv2.INTER_CUBIC)\n",
        "  "
      ],
      "execution_count": 0,
      "outputs": []
    },
    {
      "metadata": {
        "id": "Z9c3V3NECECR",
        "colab_type": "code",
        "colab": {
          "base_uri": "https://localhost:8080/",
          "height": 34
        },
        "outputId": "da642a58-2d18-4a1c-d86b-0ec13a7109fa"
      },
      "cell_type": "code",
      "source": [
        "sample = data[:100]\n",
        "\n",
        "sample1 = np.array(sample).reshape((-1, 1, 128, 128)).astype('float32')\n",
        "# print(labels[:10])\n",
        "sample1.shape"
      ],
      "execution_count": 40,
      "outputs": [
        {
          "output_type": "execute_result",
          "data": {
            "text/plain": [
              "(100, 1, 128, 128)"
            ]
          },
          "metadata": {
            "tags": []
          },
          "execution_count": 40
        }
      ]
    },
    {
      "metadata": {
        "id": "lWtI5wKtBpIs",
        "colab_type": "code",
        "colab": {
          "base_uri": "https://localhost:8080/",
          "height": 34
        },
        "outputId": "3b3594fe-d1c7-40c7-a141-ea66024df5d5"
      },
      "cell_type": "code",
      "source": [
        "np.unique(labels)"
      ],
      "execution_count": 48,
      "outputs": [
        {
          "output_type": "execute_result",
          "data": {
            "text/plain": [
              "array([0., 1.])"
            ]
          },
          "metadata": {
            "tags": []
          },
          "execution_count": 48
        }
      ]
    },
    {
      "metadata": {
        "id": "SJ8TKF92sK6a",
        "colab_type": "code",
        "colab": {
          "base_uri": "https://localhost:8080/",
          "height": 34
        },
        "outputId": "affcfc86-5350-4497-e67f-147117737283"
      },
      "cell_type": "code",
      "source": [
        "labels.astype('int')"
      ],
      "execution_count": 47,
      "outputs": [
        {
          "output_type": "execute_result",
          "data": {
            "text/plain": [
              "array([1, 1, 1, ..., 0, 0, 0])"
            ]
          },
          "metadata": {
            "tags": []
          },
          "execution_count": 47
        }
      ]
    },
    {
      "metadata": {
        "id": "J8wX4OdOs2lE",
        "colab_type": "text"
      },
      "cell_type": "markdown",
      "source": [
        "shuffling data"
      ]
    },
    {
      "metadata": {
        "id": "g4R9-MK9tHl7",
        "colab_type": "code",
        "colab": {}
      },
      "cell_type": "code",
      "source": [
        "## dividing by 255\n",
        "data /= 255"
      ],
      "execution_count": 0,
      "outputs": []
    },
    {
      "metadata": {
        "id": "nho4sum1sk3c",
        "colab_type": "code",
        "colab": {}
      },
      "cell_type": "code",
      "source": [
        "ind_list = [i for i in range(tot)]\n",
        "shuffle(ind_list)\n",
        "data_new  = data[ind_list,]\n",
        "labels_new = labels[ind_list,]"
      ],
      "execution_count": 0,
      "outputs": []
    },
    {
      "metadata": {
        "id": "OYb9SL4qskzg",
        "colab_type": "code",
        "colab": {
          "base_uri": "https://localhost:8080/",
          "height": 34
        },
        "outputId": "dab927e0-77be-4ed5-b06c-528f99bd35d0"
      },
      "cell_type": "code",
      "source": [
        "labels_new[:15]"
      ],
      "execution_count": 51,
      "outputs": [
        {
          "output_type": "execute_result",
          "data": {
            "text/plain": [
              "array([1., 1., 0., 1., 0., 0., 1., 0., 0., 0., 0., 0., 0., 1., 0.])"
            ]
          },
          "metadata": {
            "tags": []
          },
          "execution_count": 51
        }
      ]
    },
    {
      "metadata": {
        "id": "9SxZZ9oAskwQ",
        "colab_type": "code",
        "colab": {
          "base_uri": "https://localhost:8080/",
          "height": 34
        },
        "outputId": "3d8a6947-1258-4835-a4e6-ef76bd1b331f"
      },
      "cell_type": "code",
      "source": [
        "data_new.shape"
      ],
      "execution_count": 57,
      "outputs": [
        {
          "output_type": "execute_result",
          "data": {
            "text/plain": [
              "(13165, 128, 128)"
            ]
          },
          "metadata": {
            "tags": []
          },
          "execution_count": 57
        }
      ]
    },
    {
      "metadata": {
        "id": "XfW8GK9IthWq",
        "colab_type": "code",
        "colab": {}
      },
      "cell_type": "code",
      "source": [
        "data_new = np.array(data_new).reshape((-1, 1, 128, 128)).astype('float32')\n",
        "# print(labels[:10])"
      ],
      "execution_count": 0,
      "outputs": []
    },
    {
      "metadata": {
        "id": "HGwpNnKUtlrL",
        "colab_type": "code",
        "colab": {
          "base_uri": "https://localhost:8080/",
          "height": 34
        },
        "outputId": "737f0b68-7985-4b60-a8c4-5e501af9a4fc"
      },
      "cell_type": "code",
      "source": [
        "data_new.shape"
      ],
      "execution_count": 59,
      "outputs": [
        {
          "output_type": "execute_result",
          "data": {
            "text/plain": [
              "(13165, 1, 128, 128)"
            ]
          },
          "metadata": {
            "tags": []
          },
          "execution_count": 59
        }
      ]
    },
    {
      "metadata": {
        "id": "U1llEARB1FMd",
        "colab_type": "code",
        "colab": {}
      },
      "cell_type": "code",
      "source": [
        ""
      ],
      "execution_count": 0,
      "outputs": []
    }
  ]
}