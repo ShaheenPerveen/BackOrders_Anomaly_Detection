{
  "nbformat": 4,
  "nbformat_minor": 0,
  "metadata": {
    "colab": {
      "name": "Copy of DL_Architect_Day01.ipynb",
      "version": "0.3.2",
      "provenance": [],
      "collapsed_sections": []
    },
    "kernelspec": {
      "name": "python3",
      "display_name": "Python 3"
    },
    "accelerator": "GPU"
  },
  "cells": [
    {
      "metadata": {
        "id": "4j9_7AotGndr",
        "colab_type": "code",
        "colab": {}
      },
      "cell_type": "code",
      "source": [
        "# loading all libraries\n",
        "import pandas as pd\n",
        "import numpy as np\n",
        "import matplotlib.pyplot as plt\n",
        "import seaborn as sns\n",
        "from sklearn import preprocessing, metrics, cross_validation\n",
        "from sklearn.model_selection import train_test_split\n",
        "from keras.constraints import maxnorm\n",
        "from keras import optimizers\n",
        "from keras import regularizers\n",
        "from keras.constraints import maxnorm\n",
        "from keras.layers import Dropout, BatchNormalization\n",
        "from pylab import rcParams\n",
        "from keras.models import Sequential\n",
        "from keras.layers import Dense, Dropout\n"
      ],
      "execution_count": 0,
      "outputs": []
    },
    {
      "metadata": {
        "id": "D6uFWdjfryIX",
        "colab_type": "code",
        "colab": {}
      },
      "cell_type": "code",
      "source": [
        "from google.colab import drive"
      ],
      "execution_count": 0,
      "outputs": []
    },
    {
      "metadata": {
        "id": "0G2vb0x8ryBi",
        "colab_type": "code",
        "outputId": "8d72a44a-904a-4d51-f168-90344e39f06e",
        "colab": {
          "base_uri": "https://localhost:8080/",
          "height": 34
        }
      },
      "cell_type": "code",
      "source": [
        "drive.mount('/content/drive')"
      ],
      "execution_count": 38,
      "outputs": [
        {
          "output_type": "stream",
          "text": [
            "Drive already mounted at /content/drive; to attempt to forcibly remount, call drive.mount(\"/content/drive\", force_remount=True).\n"
          ],
          "name": "stdout"
        }
      ]
    },
    {
      "metadata": {
        "id": "Y1Br4RxfL6oj",
        "colab_type": "code",
        "outputId": "deab9d9d-e7e6-4b28-e268-14402ea330b1",
        "colab": {
          "base_uri": "https://localhost:8080/",
          "height": 253
        }
      },
      "cell_type": "code",
      "source": [
        "BackOrders = pd.read_csv(\"/content/drive/My Drive/Colab_Folder/BackOrders.csv\", na_values=[\"?\",\",\"])\n",
        "BackOrders.head(5)"
      ],
      "execution_count": 39,
      "outputs": [
        {
          "output_type": "execute_result",
          "data": {
            "text/html": [
              "<div>\n",
              "<style scoped>\n",
              "    .dataframe tbody tr th:only-of-type {\n",
              "        vertical-align: middle;\n",
              "    }\n",
              "\n",
              "    .dataframe tbody tr th {\n",
              "        vertical-align: top;\n",
              "    }\n",
              "\n",
              "    .dataframe thead th {\n",
              "        text-align: right;\n",
              "    }\n",
              "</style>\n",
              "<table border=\"1\" class=\"dataframe\">\n",
              "  <thead>\n",
              "    <tr style=\"text-align: right;\">\n",
              "      <th></th>\n",
              "      <th>sku</th>\n",
              "      <th>national_inv</th>\n",
              "      <th>lead_time</th>\n",
              "      <th>in_transit_qty</th>\n",
              "      <th>forecast_3_month</th>\n",
              "      <th>forecast_6_month</th>\n",
              "      <th>forecast_9_month</th>\n",
              "      <th>sales_1_month</th>\n",
              "      <th>sales_3_month</th>\n",
              "      <th>sales_6_month</th>\n",
              "      <th>...</th>\n",
              "      <th>pieces_past_due</th>\n",
              "      <th>perf_6_month_avg</th>\n",
              "      <th>perf_12_month_avg</th>\n",
              "      <th>local_bo_qty</th>\n",
              "      <th>deck_risk</th>\n",
              "      <th>oe_constraint</th>\n",
              "      <th>ppap_risk</th>\n",
              "      <th>stop_auto_buy</th>\n",
              "      <th>rev_stop</th>\n",
              "      <th>went_on_backorder</th>\n",
              "    </tr>\n",
              "  </thead>\n",
              "  <tbody>\n",
              "    <tr>\n",
              "      <th>0</th>\n",
              "      <td>1888279</td>\n",
              "      <td>117</td>\n",
              "      <td>NaN</td>\n",
              "      <td>0</td>\n",
              "      <td>0</td>\n",
              "      <td>0</td>\n",
              "      <td>0</td>\n",
              "      <td>0</td>\n",
              "      <td>0</td>\n",
              "      <td>15</td>\n",
              "      <td>...</td>\n",
              "      <td>0</td>\n",
              "      <td>-99.00</td>\n",
              "      <td>-99.00</td>\n",
              "      <td>0</td>\n",
              "      <td>No</td>\n",
              "      <td>No</td>\n",
              "      <td>Yes</td>\n",
              "      <td>Yes</td>\n",
              "      <td>No</td>\n",
              "      <td>No</td>\n",
              "    </tr>\n",
              "    <tr>\n",
              "      <th>1</th>\n",
              "      <td>1870557</td>\n",
              "      <td>7</td>\n",
              "      <td>2.0</td>\n",
              "      <td>0</td>\n",
              "      <td>0</td>\n",
              "      <td>0</td>\n",
              "      <td>0</td>\n",
              "      <td>0</td>\n",
              "      <td>0</td>\n",
              "      <td>0</td>\n",
              "      <td>...</td>\n",
              "      <td>0</td>\n",
              "      <td>0.50</td>\n",
              "      <td>0.28</td>\n",
              "      <td>0</td>\n",
              "      <td>Yes</td>\n",
              "      <td>No</td>\n",
              "      <td>No</td>\n",
              "      <td>Yes</td>\n",
              "      <td>No</td>\n",
              "      <td>No</td>\n",
              "    </tr>\n",
              "    <tr>\n",
              "      <th>2</th>\n",
              "      <td>1475481</td>\n",
              "      <td>258</td>\n",
              "      <td>15.0</td>\n",
              "      <td>10</td>\n",
              "      <td>10</td>\n",
              "      <td>77</td>\n",
              "      <td>184</td>\n",
              "      <td>46</td>\n",
              "      <td>132</td>\n",
              "      <td>256</td>\n",
              "      <td>...</td>\n",
              "      <td>0</td>\n",
              "      <td>0.54</td>\n",
              "      <td>0.70</td>\n",
              "      <td>0</td>\n",
              "      <td>No</td>\n",
              "      <td>No</td>\n",
              "      <td>No</td>\n",
              "      <td>Yes</td>\n",
              "      <td>No</td>\n",
              "      <td>No</td>\n",
              "    </tr>\n",
              "    <tr>\n",
              "      <th>3</th>\n",
              "      <td>1758220</td>\n",
              "      <td>46</td>\n",
              "      <td>2.0</td>\n",
              "      <td>0</td>\n",
              "      <td>0</td>\n",
              "      <td>0</td>\n",
              "      <td>0</td>\n",
              "      <td>1</td>\n",
              "      <td>2</td>\n",
              "      <td>6</td>\n",
              "      <td>...</td>\n",
              "      <td>0</td>\n",
              "      <td>0.75</td>\n",
              "      <td>0.90</td>\n",
              "      <td>0</td>\n",
              "      <td>Yes</td>\n",
              "      <td>No</td>\n",
              "      <td>No</td>\n",
              "      <td>Yes</td>\n",
              "      <td>No</td>\n",
              "      <td>No</td>\n",
              "    </tr>\n",
              "    <tr>\n",
              "      <th>4</th>\n",
              "      <td>1360312</td>\n",
              "      <td>2</td>\n",
              "      <td>2.0</td>\n",
              "      <td>0</td>\n",
              "      <td>4</td>\n",
              "      <td>6</td>\n",
              "      <td>10</td>\n",
              "      <td>2</td>\n",
              "      <td>2</td>\n",
              "      <td>5</td>\n",
              "      <td>...</td>\n",
              "      <td>0</td>\n",
              "      <td>0.97</td>\n",
              "      <td>0.92</td>\n",
              "      <td>0</td>\n",
              "      <td>No</td>\n",
              "      <td>No</td>\n",
              "      <td>No</td>\n",
              "      <td>Yes</td>\n",
              "      <td>No</td>\n",
              "      <td>No</td>\n",
              "    </tr>\n",
              "  </tbody>\n",
              "</table>\n",
              "<p>5 rows × 23 columns</p>\n",
              "</div>"
            ],
            "text/plain": [
              "       sku  national_inv  lead_time  in_transit_qty  forecast_3_month  \\\n",
              "0  1888279           117        NaN               0                 0   \n",
              "1  1870557             7        2.0               0                 0   \n",
              "2  1475481           258       15.0              10                10   \n",
              "3  1758220            46        2.0               0                 0   \n",
              "4  1360312             2        2.0               0                 4   \n",
              "\n",
              "   forecast_6_month  forecast_9_month  sales_1_month  sales_3_month  \\\n",
              "0                 0                 0              0              0   \n",
              "1                 0                 0              0              0   \n",
              "2                77               184             46            132   \n",
              "3                 0                 0              1              2   \n",
              "4                 6                10              2              2   \n",
              "\n",
              "   sales_6_month        ...         pieces_past_due  perf_6_month_avg  \\\n",
              "0             15        ...                       0            -99.00   \n",
              "1              0        ...                       0              0.50   \n",
              "2            256        ...                       0              0.54   \n",
              "3              6        ...                       0              0.75   \n",
              "4              5        ...                       0              0.97   \n",
              "\n",
              "  perf_12_month_avg  local_bo_qty  deck_risk  oe_constraint  ppap_risk  \\\n",
              "0            -99.00             0         No             No        Yes   \n",
              "1              0.28             0        Yes             No         No   \n",
              "2              0.70             0         No             No         No   \n",
              "3              0.90             0        Yes             No         No   \n",
              "4              0.92             0         No             No         No   \n",
              "\n",
              "  stop_auto_buy rev_stop went_on_backorder  \n",
              "0           Yes       No                No  \n",
              "1           Yes       No                No  \n",
              "2           Yes       No                No  \n",
              "3           Yes       No                No  \n",
              "4           Yes       No                No  \n",
              "\n",
              "[5 rows x 23 columns]"
            ]
          },
          "metadata": {
            "tags": []
          },
          "execution_count": 39
        }
      ]
    },
    {
      "metadata": {
        "id": "Z1ALbUsTMxjW",
        "colab_type": "code",
        "outputId": "de88c752-2526-412c-ae66-c257fe240a05",
        "colab": {
          "base_uri": "https://localhost:8080/",
          "height": 317
        }
      },
      "cell_type": "code",
      "source": [
        "BackOrders.describe() # missing values in lead_time"
      ],
      "execution_count": 40,
      "outputs": [
        {
          "output_type": "execute_result",
          "data": {
            "text/html": [
              "<div>\n",
              "<style scoped>\n",
              "    .dataframe tbody tr th:only-of-type {\n",
              "        vertical-align: middle;\n",
              "    }\n",
              "\n",
              "    .dataframe tbody tr th {\n",
              "        vertical-align: top;\n",
              "    }\n",
              "\n",
              "    .dataframe thead th {\n",
              "        text-align: right;\n",
              "    }\n",
              "</style>\n",
              "<table border=\"1\" class=\"dataframe\">\n",
              "  <thead>\n",
              "    <tr style=\"text-align: right;\">\n",
              "      <th></th>\n",
              "      <th>sku</th>\n",
              "      <th>national_inv</th>\n",
              "      <th>lead_time</th>\n",
              "      <th>in_transit_qty</th>\n",
              "      <th>forecast_3_month</th>\n",
              "      <th>forecast_6_month</th>\n",
              "      <th>forecast_9_month</th>\n",
              "      <th>sales_1_month</th>\n",
              "      <th>sales_3_month</th>\n",
              "      <th>sales_6_month</th>\n",
              "      <th>sales_9_month</th>\n",
              "      <th>min_bank</th>\n",
              "      <th>pieces_past_due</th>\n",
              "      <th>perf_6_month_avg</th>\n",
              "      <th>perf_12_month_avg</th>\n",
              "      <th>local_bo_qty</th>\n",
              "    </tr>\n",
              "  </thead>\n",
              "  <tbody>\n",
              "    <tr>\n",
              "      <th>count</th>\n",
              "      <td>6.158900e+04</td>\n",
              "      <td>61589.000000</td>\n",
              "      <td>58186.000000</td>\n",
              "      <td>61589.000000</td>\n",
              "      <td>6.158900e+04</td>\n",
              "      <td>6.158900e+04</td>\n",
              "      <td>6.158900e+04</td>\n",
              "      <td>61589.000000</td>\n",
              "      <td>61589.000000</td>\n",
              "      <td>6.158900e+04</td>\n",
              "      <td>6.158900e+04</td>\n",
              "      <td>61589.000000</td>\n",
              "      <td>61589.000000</td>\n",
              "      <td>61589.000000</td>\n",
              "      <td>61589.000000</td>\n",
              "      <td>61589.000000</td>\n",
              "    </tr>\n",
              "    <tr>\n",
              "      <th>mean</th>\n",
              "      <td>2.037188e+06</td>\n",
              "      <td>287.721882</td>\n",
              "      <td>7.559619</td>\n",
              "      <td>30.192843</td>\n",
              "      <td>1.692728e+02</td>\n",
              "      <td>3.150413e+02</td>\n",
              "      <td>4.535760e+02</td>\n",
              "      <td>44.742957</td>\n",
              "      <td>150.732631</td>\n",
              "      <td>2.835465e+02</td>\n",
              "      <td>4.196427e+02</td>\n",
              "      <td>43.087256</td>\n",
              "      <td>1.605400</td>\n",
              "      <td>-6.264182</td>\n",
              "      <td>-5.863664</td>\n",
              "      <td>1.205361</td>\n",
              "    </tr>\n",
              "    <tr>\n",
              "      <th>std</th>\n",
              "      <td>6.564178e+05</td>\n",
              "      <td>4233.906931</td>\n",
              "      <td>6.498952</td>\n",
              "      <td>792.869253</td>\n",
              "      <td>5.286742e+03</td>\n",
              "      <td>9.774362e+03</td>\n",
              "      <td>1.420201e+04</td>\n",
              "      <td>1373.805831</td>\n",
              "      <td>5224.959649</td>\n",
              "      <td>8.872270e+03</td>\n",
              "      <td>1.269858e+04</td>\n",
              "      <td>959.614135</td>\n",
              "      <td>42.309229</td>\n",
              "      <td>25.537906</td>\n",
              "      <td>24.844514</td>\n",
              "      <td>29.981155</td>\n",
              "    </tr>\n",
              "    <tr>\n",
              "      <th>min</th>\n",
              "      <td>1.068628e+06</td>\n",
              "      <td>-2999.000000</td>\n",
              "      <td>0.000000</td>\n",
              "      <td>0.000000</td>\n",
              "      <td>0.000000e+00</td>\n",
              "      <td>0.000000e+00</td>\n",
              "      <td>0.000000e+00</td>\n",
              "      <td>0.000000</td>\n",
              "      <td>0.000000</td>\n",
              "      <td>0.000000e+00</td>\n",
              "      <td>0.000000e+00</td>\n",
              "      <td>0.000000</td>\n",
              "      <td>0.000000</td>\n",
              "      <td>-99.000000</td>\n",
              "      <td>-99.000000</td>\n",
              "      <td>0.000000</td>\n",
              "    </tr>\n",
              "    <tr>\n",
              "      <th>25%</th>\n",
              "      <td>1.498574e+06</td>\n",
              "      <td>3.000000</td>\n",
              "      <td>4.000000</td>\n",
              "      <td>0.000000</td>\n",
              "      <td>0.000000e+00</td>\n",
              "      <td>0.000000e+00</td>\n",
              "      <td>0.000000e+00</td>\n",
              "      <td>0.000000</td>\n",
              "      <td>0.000000</td>\n",
              "      <td>0.000000e+00</td>\n",
              "      <td>0.000000e+00</td>\n",
              "      <td>0.000000</td>\n",
              "      <td>0.000000</td>\n",
              "      <td>0.620000</td>\n",
              "      <td>0.640000</td>\n",
              "      <td>0.000000</td>\n",
              "    </tr>\n",
              "    <tr>\n",
              "      <th>50%</th>\n",
              "      <td>1.898033e+06</td>\n",
              "      <td>10.000000</td>\n",
              "      <td>8.000000</td>\n",
              "      <td>0.000000</td>\n",
              "      <td>0.000000e+00</td>\n",
              "      <td>0.000000e+00</td>\n",
              "      <td>0.000000e+00</td>\n",
              "      <td>0.000000</td>\n",
              "      <td>2.000000</td>\n",
              "      <td>4.000000e+00</td>\n",
              "      <td>6.000000e+00</td>\n",
              "      <td>0.000000</td>\n",
              "      <td>0.000000</td>\n",
              "      <td>0.820000</td>\n",
              "      <td>0.800000</td>\n",
              "      <td>0.000000</td>\n",
              "    </tr>\n",
              "    <tr>\n",
              "      <th>75%</th>\n",
              "      <td>2.314826e+06</td>\n",
              "      <td>57.000000</td>\n",
              "      <td>8.000000</td>\n",
              "      <td>0.000000</td>\n",
              "      <td>1.200000e+01</td>\n",
              "      <td>2.500000e+01</td>\n",
              "      <td>3.600000e+01</td>\n",
              "      <td>6.000000</td>\n",
              "      <td>17.000000</td>\n",
              "      <td>3.400000e+01</td>\n",
              "      <td>5.100000e+01</td>\n",
              "      <td>3.000000</td>\n",
              "      <td>0.000000</td>\n",
              "      <td>0.960000</td>\n",
              "      <td>0.950000</td>\n",
              "      <td>0.000000</td>\n",
              "    </tr>\n",
              "    <tr>\n",
              "      <th>max</th>\n",
              "      <td>3.284895e+06</td>\n",
              "      <td>673445.000000</td>\n",
              "      <td>52.000000</td>\n",
              "      <td>170976.000000</td>\n",
              "      <td>1.126656e+06</td>\n",
              "      <td>2.094336e+06</td>\n",
              "      <td>3.062016e+06</td>\n",
              "      <td>295197.000000</td>\n",
              "      <td>934593.000000</td>\n",
              "      <td>1.799099e+06</td>\n",
              "      <td>2.631590e+06</td>\n",
              "      <td>192978.000000</td>\n",
              "      <td>7392.000000</td>\n",
              "      <td>1.000000</td>\n",
              "      <td>1.000000</td>\n",
              "      <td>2999.000000</td>\n",
              "    </tr>\n",
              "  </tbody>\n",
              "</table>\n",
              "</div>"
            ],
            "text/plain": [
              "                sku   national_inv     lead_time  in_transit_qty  \\\n",
              "count  6.158900e+04   61589.000000  58186.000000    61589.000000   \n",
              "mean   2.037188e+06     287.721882      7.559619       30.192843   \n",
              "std    6.564178e+05    4233.906931      6.498952      792.869253   \n",
              "min    1.068628e+06   -2999.000000      0.000000        0.000000   \n",
              "25%    1.498574e+06       3.000000      4.000000        0.000000   \n",
              "50%    1.898033e+06      10.000000      8.000000        0.000000   \n",
              "75%    2.314826e+06      57.000000      8.000000        0.000000   \n",
              "max    3.284895e+06  673445.000000     52.000000   170976.000000   \n",
              "\n",
              "       forecast_3_month  forecast_6_month  forecast_9_month  sales_1_month  \\\n",
              "count      6.158900e+04      6.158900e+04      6.158900e+04   61589.000000   \n",
              "mean       1.692728e+02      3.150413e+02      4.535760e+02      44.742957   \n",
              "std        5.286742e+03      9.774362e+03      1.420201e+04    1373.805831   \n",
              "min        0.000000e+00      0.000000e+00      0.000000e+00       0.000000   \n",
              "25%        0.000000e+00      0.000000e+00      0.000000e+00       0.000000   \n",
              "50%        0.000000e+00      0.000000e+00      0.000000e+00       0.000000   \n",
              "75%        1.200000e+01      2.500000e+01      3.600000e+01       6.000000   \n",
              "max        1.126656e+06      2.094336e+06      3.062016e+06  295197.000000   \n",
              "\n",
              "       sales_3_month  sales_6_month  sales_9_month       min_bank  \\\n",
              "count   61589.000000   6.158900e+04   6.158900e+04   61589.000000   \n",
              "mean      150.732631   2.835465e+02   4.196427e+02      43.087256   \n",
              "std      5224.959649   8.872270e+03   1.269858e+04     959.614135   \n",
              "min         0.000000   0.000000e+00   0.000000e+00       0.000000   \n",
              "25%         0.000000   0.000000e+00   0.000000e+00       0.000000   \n",
              "50%         2.000000   4.000000e+00   6.000000e+00       0.000000   \n",
              "75%        17.000000   3.400000e+01   5.100000e+01       3.000000   \n",
              "max    934593.000000   1.799099e+06   2.631590e+06  192978.000000   \n",
              "\n",
              "       pieces_past_due  perf_6_month_avg  perf_12_month_avg  local_bo_qty  \n",
              "count     61589.000000      61589.000000       61589.000000  61589.000000  \n",
              "mean          1.605400         -6.264182          -5.863664      1.205361  \n",
              "std          42.309229         25.537906          24.844514     29.981155  \n",
              "min           0.000000        -99.000000         -99.000000      0.000000  \n",
              "25%           0.000000          0.620000           0.640000      0.000000  \n",
              "50%           0.000000          0.820000           0.800000      0.000000  \n",
              "75%           0.000000          0.960000           0.950000      0.000000  \n",
              "max        7392.000000          1.000000           1.000000   2999.000000  "
            ]
          },
          "metadata": {
            "tags": []
          },
          "execution_count": 40
        }
      ]
    },
    {
      "metadata": {
        "id": "TiUhfqVmM4JD",
        "colab_type": "text"
      },
      "cell_type": "markdown",
      "source": [
        "Exploratory analysis to impute lead time"
      ]
    },
    {
      "metadata": {
        "id": "6rOia2s3NVpk",
        "colab_type": "code",
        "outputId": "460ed8ad-084a-46f3-e983-264bcd3b4821",
        "colab": {
          "base_uri": "https://localhost:8080/",
          "height": 2135
        }
      },
      "cell_type": "code",
      "source": [
        "columns = [\"went_on_backorder\", \"deck_risk\", \"oe_constraint\", \"ppap_risk\", \"stop_auto_buy\", \"rev_stop\"]\n",
        "\n",
        "for col in columns:\n",
        "  plt.figure()\n",
        "  sns.boxplot(x=\"lead_time\", y=col, data=BackOrders)\n",
        "\n"
      ],
      "execution_count": 11,
      "outputs": [
        {
          "output_type": "stream",
          "text": [
            "/usr/local/lib/python3.6/dist-packages/seaborn/categorical.py:454: FutureWarning: remove_na is deprecated and is a private function. Do not use.\n",
            "  box_data = remove_na(group_data)\n"
          ],
          "name": "stderr"
        },
        {
          "output_type": "display_data",
          "data": {
            "image/png": "[encoded data removed]",
            "text/plain": [
              "<matplotlib.figure.Figure at 0x7f7a90f6ee10>"
            ]
          },
          "metadata": {
            "tags": []
          }
        },
        {
          "output_type": "display_data",
          "data": {
            "image/png": "[encoded data removed]",
            "text/plain": [
              "<matplotlib.figure.Figure at 0x7f7a51684278>"
            ]
          },
          "metadata": {
            "tags": []
          }
        },
        {
          "output_type": "display_data",
          "data": {
            "image/png": "[encoded data removed]",
            "text/plain": [
              "<matplotlib.figure.Figure at 0x7f7a5155a160>"
            ]
          },
          "metadata": {
            "tags": []
          }
        },
        {
          "output_type": "display_data",
          "data": {
            "image/png": "[encoded data removed]",
            "text/plain": [
              "<matplotlib.figure.Figure at 0x7f7a51534550>"
            ]
          },
          "metadata": {
            "tags": []
          }
        },
        {
          "output_type": "display_data",
          "data": {
            "image/png": "[encoded data removed]",
            "text/plain": [
              "<matplotlib.figure.Figure at 0x7f7a514be6a0>"
            ]
          },
          "metadata": {
            "tags": []
          }
        },
        {
          "output_type": "display_data",
          "data": {
            "image/png": "[encoded data removed]",
            "text/plain": [
              "<matplotlib.figure.Figure at 0x7f7a5150a940>"
            ]
          },
          "metadata": {
            "tags": []
          }
        }
      ]
    },
    {
      "metadata": {
        "id": "Y3sAoBtwO7Zz",
        "colab_type": "text"
      },
      "cell_type": "markdown",
      "source": [
        "Evaluating fields hich can be used to impute lead time NA values"
      ]
    },
    {
      "metadata": {
        "id": "qLWARTG8O3r-",
        "colab_type": "code",
        "colab": {}
      },
      "cell_type": "code",
      "source": [
        "print(BackOrders.groupby('stop_auto_buy', as_index=False)['lead_time'].mean())\n",
        "print(BackOrders.groupby('rev_stop', as_index=False)['lead_time'].mean())\n",
        "print(BackOrders.groupby('oe_constraint', as_index=False)['lead_time'].mean())\n",
        "print(BackOrders.groupby(['stop_auto_buy', 'oe_constraint'], as_index=False)['lead_time'].mean())\n",
        "print(BackOrders.groupby(['stop_auto_buy', 'rev_stop'], as_index=False)['lead_time'].mean())\n",
        "print(BackOrders.groupby(['rev_stop', 'oe_constraint'], as_index=False)['lead_time'].mean())\n",
        "print(BackOrders.groupby(['stop_auto_buy', 'rev_stop', 'oe_constraint'], as_index=False)['lead_time'].mean())"
      ],
      "execution_count": 0,
      "outputs": []
    },
    {
      "metadata": {
        "id": "t-UV1wJYPKUG",
        "colab_type": "text"
      },
      "cell_type": "markdown",
      "source": [
        "Imputing lead_time"
      ]
    },
    {
      "metadata": {
        "id": "rPVmxtyiPIWD",
        "colab_type": "code",
        "colab": {}
      },
      "cell_type": "code",
      "source": [
        "\n",
        "BackOrders['lead_time'] = BackOrders.groupby(['stop_auto_buy', 'rev_stop', 'oe_constraint'])['lead_time'].transform(lambda x: x.fillna(x.mean()))\n"
      ],
      "execution_count": 0,
      "outputs": []
    },
    {
      "metadata": {
        "id": "I3dCZVj5Pc_U",
        "colab_type": "text"
      },
      "cell_type": "markdown",
      "source": [
        "Changing datatype of objects column to categories for dummification later on"
      ]
    },
    {
      "metadata": {
        "id": "CWseSxNVPd6s",
        "colab_type": "code",
        "colab": {}
      },
      "cell_type": "code",
      "source": [
        "\n",
        "def dtype_Convert(dtp1, col, data):\n",
        "    for i in range(len(dtp1)):\n",
        "        if dtp1[i] == \"object\":\n",
        "            data[col[i]]=data[col[i]].astype('category')"
      ],
      "execution_count": 0,
      "outputs": []
    },
    {
      "metadata": {
        "id": "tAAJ-sWGpUa3",
        "colab_type": "code",
        "colab": {}
      },
      "cell_type": "code",
      "source": [
        "dtp = pd.Series(BackOrders.dtypes)\n",
        "dtp1 = dtp.tolist()\n",
        "col = BackOrders.columns.tolist()"
      ],
      "execution_count": 0,
      "outputs": []
    },
    {
      "metadata": {
        "id": "QBQH_7_noI7j",
        "colab_type": "code",
        "colab": {}
      },
      "cell_type": "code",
      "source": [
        "dtype_Convert(dtp1, col, BackOrders)"
      ],
      "execution_count": 0,
      "outputs": []
    },
    {
      "metadata": {
        "id": "xbJim4Aephka",
        "colab_type": "text"
      },
      "cell_type": "markdown",
      "source": [
        "Outlier detection and treatment"
      ]
    },
    {
      "metadata": {
        "id": "ga4xY5k-pg87",
        "colab_type": "code",
        "colab": {}
      },
      "cell_type": "code",
      "source": [
        "cols = list(BackOrders.select_dtypes(include=['int', 'float']).columns)\n",
        "\n",
        "for col in cols:\n",
        "  plt.figure()\n",
        "  sns.boxplot(x=col, y=\"went_on_backorder\", data=BackOrders)"
      ],
      "execution_count": 0,
      "outputs": []
    },
    {
      "metadata": {
        "id": "Kn2wIdf6pg6p",
        "colab_type": "code",
        "colab": {}
      },
      "cell_type": "code",
      "source": [
        "cols = list(BackOrders.select_dtypes(include=['int', 'float']).columns)\n",
        "\n",
        "cols = [e for e in cols if e not in (\"local_bo_qty\", \"lead_time\", \"sku\")]\n"
      ],
      "execution_count": 0,
      "outputs": []
    },
    {
      "metadata": {
        "id": "svihfXUPpyVe",
        "colab_type": "text"
      },
      "cell_type": "markdown",
      "source": [
        "Using quantile methods for outier treatment.\n",
        "Outlier treatment on new data to compare with old dataset"
      ]
    },
    {
      "metadata": {
        "id": "XtT_VUxIpx9t",
        "colab_type": "code",
        "colab": {}
      },
      "cell_type": "code",
      "source": [
        "BackOrders_NoOut = pd.read_csv(\"/content/drive/My Drive/Colab_Folder/BackOrders.csv\", na_values=[\"?\",\",\"])\n",
        "BackOrders_NoOut['lead_time'] = BackOrders_NoOut.groupby(['stop_auto_buy', 'rev_stop', 'oe_constraint'])['lead_time'].transform(lambda x: x.fillna(x.mean()))"
      ],
      "execution_count": 0,
      "outputs": []
    },
    {
      "metadata": {
        "id": "9V9zAy8Npg4R",
        "colab_type": "code",
        "colab": {}
      },
      "cell_type": "code",
      "source": [
        "def outliers_iqr(cols, df):\n",
        "  for col in cols:\n",
        "    quartile_1 = df[col].quantile(0.25) \n",
        "    quartile_3 = df[col].quantile(0.75)\n",
        "    iqr = quartile_3 - quartile_1\n",
        "    lower_bound = quartile_1 - (iqr * 1.5)\n",
        "    upper_bound = quartile_3 + (iqr * 1.5)\n",
        "    median = df[col].median()\n",
        "    df[col] = df[col].mask(df[col] > upper_bound, median)\n",
        "    df[col] = df[col].mask(df[col] < lower_bound, median)   \n",
        "  return"
      ],
      "execution_count": 0,
      "outputs": []
    },
    {
      "metadata": {
        "id": "tTwO2eUbpg1K",
        "colab_type": "code",
        "colab": {}
      },
      "cell_type": "code",
      "source": [
        "outliers_iqr(cols, BackOrders_NoOut)"
      ],
      "execution_count": 0,
      "outputs": []
    },
    {
      "metadata": {
        "id": "BsC96-XIqyaA",
        "colab_type": "text"
      },
      "cell_type": "markdown",
      "source": [
        "Comparing summary to check effect of outlier treatment"
      ]
    },
    {
      "metadata": {
        "id": "kfQgtGQapgyU",
        "colab_type": "code",
        "outputId": "2b2bd5b4-f1f0-458b-9500-395e3e00c296",
        "colab": {
          "base_uri": "https://localhost:8080/",
          "height": 1224
        }
      },
      "cell_type": "code",
      "source": [
        "\n",
        "print(pd.concat([pd.DataFrame(BackOrders.describe()), pd.DataFrame(BackOrders_NoOut.describe())]))"
      ],
      "execution_count": 49,
      "outputs": [
        {
          "output_type": "stream",
          "text": [
            "                sku   national_inv     lead_time  in_transit_qty  \\\n",
            "count  6.158900e+04   61589.000000  61589.000000    61589.000000   \n",
            "mean   2.037188e+06     287.721882      7.679858       30.192843   \n",
            "std    6.564178e+05    4233.906931      6.414996      792.869253   \n",
            "min    1.068628e+06   -2999.000000      0.000000        0.000000   \n",
            "25%    1.498574e+06       3.000000      4.000000        0.000000   \n",
            "50%    1.898033e+06      10.000000      8.000000        0.000000   \n",
            "75%    2.314826e+06      57.000000      8.000000        0.000000   \n",
            "max    3.284895e+06  673445.000000     52.000000   170976.000000   \n",
            "count  6.158900e+04   61589.000000  61589.000000    61589.000000   \n",
            "mean   2.037188e+06      18.053646      7.679858        0.000000   \n",
            "std    6.564178e+05      27.157908      6.414996        0.000000   \n",
            "min    1.068628e+06     -75.000000      0.000000        0.000000   \n",
            "25%    1.498574e+06       3.000000      4.000000        0.000000   \n",
            "50%    1.898033e+06      10.000000      8.000000        0.000000   \n",
            "75%    2.314826e+06      18.000000      8.000000        0.000000   \n",
            "max    3.284895e+06     138.000000     52.000000        0.000000   \n",
            "\n",
            "       forecast_3_month  forecast_6_month  forecast_9_month  sales_1_month  \\\n",
            "count      6.158900e+04      6.158900e+04      6.158900e+04   61589.000000   \n",
            "mean       1.692728e+02      3.150413e+02      4.535760e+02      44.742957   \n",
            "std        5.286742e+03      9.774362e+03      1.420201e+04    1373.805831   \n",
            "min        0.000000e+00      0.000000e+00      0.000000e+00       0.000000   \n",
            "25%        0.000000e+00      0.000000e+00      0.000000e+00       0.000000   \n",
            "50%        0.000000e+00      0.000000e+00      0.000000e+00       0.000000   \n",
            "75%        1.200000e+01      2.500000e+01      3.600000e+01       6.000000   \n",
            "max        1.126656e+06      2.094336e+06      3.062016e+06  295197.000000   \n",
            "count      6.158900e+04      6.158900e+04      6.158900e+04   61589.000000   \n",
            "mean       2.320950e+00      4.951923e+00      7.165874e+00       1.457013   \n",
            "std        5.767793e+00      1.163105e+01      1.664275e+01       2.981867   \n",
            "min        0.000000e+00      0.000000e+00      0.000000e+00       0.000000   \n",
            "25%        0.000000e+00      0.000000e+00      0.000000e+00       0.000000   \n",
            "50%        0.000000e+00      0.000000e+00      0.000000e+00       0.000000   \n",
            "75%        0.000000e+00      2.000000e+00      4.000000e+00       1.000000   \n",
            "max        3.000000e+01      6.200000e+01      9.000000e+01      15.000000   \n",
            "\n",
            "       sales_3_month  sales_6_month  sales_9_month       min_bank  \\\n",
            "count   61589.000000   6.158900e+04   6.158900e+04   61589.000000   \n",
            "mean      150.732631   2.835465e+02   4.196427e+02      43.087256   \n",
            "std      5224.959649   8.872270e+03   1.269858e+04     959.614135   \n",
            "min         0.000000   0.000000e+00   0.000000e+00       0.000000   \n",
            "25%         0.000000   0.000000e+00   0.000000e+00       0.000000   \n",
            "50%         2.000000   4.000000e+00   6.000000e+00       0.000000   \n",
            "75%        17.000000   3.400000e+01   5.100000e+01       3.000000   \n",
            "max    934593.000000   1.799099e+06   2.631590e+06  192978.000000   \n",
            "count   61589.000000   6.158900e+04   6.158900e+04   61589.000000   \n",
            "mean        4.641300   9.253958e+00   1.379295e+01       0.560636   \n",
            "std         8.218458   1.626324e+01   2.417860e+01       1.196627   \n",
            "min         0.000000   0.000000e+00   0.000000e+00       0.000000   \n",
            "25%         0.000000   0.000000e+00   0.000000e+00       0.000000   \n",
            "50%         2.000000   4.000000e+00   6.000000e+00       0.000000   \n",
            "75%         4.000000   9.000000e+00   1.300000e+01       1.000000   \n",
            "max        42.000000   8.500000e+01   1.270000e+02       7.000000   \n",
            "\n",
            "       pieces_past_due  perf_6_month_avg  perf_12_month_avg  local_bo_qty  \n",
            "count     61589.000000      61589.000000       61589.000000  61589.000000  \n",
            "mean          1.605400         -6.264182          -5.863664      1.205361  \n",
            "std          42.309229         25.537906          24.844514     29.981155  \n",
            "min           0.000000        -99.000000         -99.000000      0.000000  \n",
            "25%           0.000000          0.620000           0.640000      0.000000  \n",
            "50%           0.000000          0.820000           0.800000      0.000000  \n",
            "75%           0.000000          0.960000           0.950000      0.000000  \n",
            "max        7392.000000          1.000000           1.000000   2999.000000  \n",
            "count     61589.000000      61589.000000       61589.000000  61589.000000  \n",
            "mean          0.000000          0.803452           0.801813      1.205361  \n",
            "std           0.000000          0.187847           0.171256     29.981155  \n",
            "min           0.000000          0.110000           0.180000      0.000000  \n",
            "25%           0.000000          0.730000           0.740000      0.000000  \n",
            "50%           0.000000          0.820000           0.800000      0.000000  \n",
            "75%           0.000000          0.960000           0.950000      0.000000  \n",
            "max           0.000000          1.000000           1.000000   2999.000000  \n"
          ],
          "name": "stdout"
        }
      ]
    },
    {
      "metadata": {
        "id": "ItUXsIPvYdf7",
        "colab_type": "code",
        "colab": {}
      },
      "cell_type": "code",
      "source": [
        "mapping_dictionary = {\"went_on_backorder\":{ \"Yes\": 1, \"No\": 0}}\n",
        "BackOrders_NoOut1 = BackOrders_NoOut.replace(mapping_dictionary)"
      ],
      "execution_count": 0,
      "outputs": []
    },
    {
      "metadata": {
        "id": "FhzuL047oPIn",
        "colab_type": "code",
        "colab": {
          "base_uri": "https://localhost:8080/",
          "height": 427
        },
        "outputId": "304fdb12-d438-4957-d66d-064cbb435321"
      },
      "cell_type": "code",
      "source": [
        "#Plotting the frequencies of orders which went into backorder and which did not\n",
        "count_classes = pd.value_counts(BackOrders_NoOut1['went_on_backorder'], sort = True)\n",
        "print(count_classes)\n",
        "\n",
        "#Drawing a barplot\n",
        "count_classes.plot(kind = 'bar', rot=0)\n",
        "\n",
        "#Giving titles and labels to the plot\n",
        "plt.title(\"Transaction class distribution\")\n",
        "plt.xlabel(\"Class\")\n",
        "plt.ylabel(\"Frequency\");"
      ],
      "execution_count": 51,
      "outputs": [
        {
          "output_type": "stream",
          "text": [
            "0    50296\n",
            "1    11293\n",
            "Name: went_on_backorder, dtype: int64\n"
          ],
          "name": "stdout"
        },
        {
          "output_type": "display_data",
          "data": {
            "image/png": "[encoded data removed]",
            "text/plain": [
              "<matplotlib.figure.Figure at 0x7fc7aa949278>"
            ]
          },
          "metadata": {
            "tags": []
          }
        }
      ]
    },
    {
      "metadata": {
        "id": "k5HrX75_ZTDN",
        "colab_type": "code",
        "colab": {
          "base_uri": "https://localhost:8080/",
          "height": 51
        },
        "outputId": "5db08756-f7d5-4f8a-d3c4-845c94da9e50"
      },
      "cell_type": "code",
      "source": [
        "print(BackOrders_NoOut1.shape)\n",
        "print(BackOrders_NoOut.shape)"
      ],
      "execution_count": 21,
      "outputs": [
        {
          "output_type": "stream",
          "text": [
            "(61589, 23)\n",
            "(61589, 23)\n"
          ],
          "name": "stdout"
        }
      ]
    },
    {
      "metadata": {
        "id": "k_JCyQ4stIJL",
        "colab_type": "code",
        "colab": {}
      },
      "cell_type": "code",
      "source": [
        "BackOrders_NoOut2 = pd.get_dummies(BackOrders_NoOut1)"
      ],
      "execution_count": 0,
      "outputs": []
    },
    {
      "metadata": {
        "id": "0hC672IsWRiB",
        "colab_type": "code",
        "colab": {
          "base_uri": "https://localhost:8080/",
          "height": 346
        },
        "outputId": "931c7938-f3c5-43b3-83e1-18af87f78122"
      },
      "cell_type": "code",
      "source": [
        "BackOrders_NoOut2.describe(include = 'all')"
      ],
      "execution_count": 53,
      "outputs": [
        {
          "output_type": "execute_result",
          "data": {
            "text/html": [
              "<div>\n",
              "<style scoped>\n",
              "    .dataframe tbody tr th:only-of-type {\n",
              "        vertical-align: middle;\n",
              "    }\n",
              "\n",
              "    .dataframe tbody tr th {\n",
              "        vertical-align: top;\n",
              "    }\n",
              "\n",
              "    .dataframe thead th {\n",
              "        text-align: right;\n",
              "    }\n",
              "</style>\n",
              "<table border=\"1\" class=\"dataframe\">\n",
              "  <thead>\n",
              "    <tr style=\"text-align: right;\">\n",
              "      <th></th>\n",
              "      <th>sku</th>\n",
              "      <th>national_inv</th>\n",
              "      <th>lead_time</th>\n",
              "      <th>in_transit_qty</th>\n",
              "      <th>forecast_3_month</th>\n",
              "      <th>forecast_6_month</th>\n",
              "      <th>forecast_9_month</th>\n",
              "      <th>sales_1_month</th>\n",
              "      <th>sales_3_month</th>\n",
              "      <th>sales_6_month</th>\n",
              "      <th>...</th>\n",
              "      <th>deck_risk_No</th>\n",
              "      <th>deck_risk_Yes</th>\n",
              "      <th>oe_constraint_No</th>\n",
              "      <th>oe_constraint_Yes</th>\n",
              "      <th>ppap_risk_No</th>\n",
              "      <th>ppap_risk_Yes</th>\n",
              "      <th>stop_auto_buy_No</th>\n",
              "      <th>stop_auto_buy_Yes</th>\n",
              "      <th>rev_stop_No</th>\n",
              "      <th>rev_stop_Yes</th>\n",
              "    </tr>\n",
              "  </thead>\n",
              "  <tbody>\n",
              "    <tr>\n",
              "      <th>count</th>\n",
              "      <td>6.158900e+04</td>\n",
              "      <td>61589.000000</td>\n",
              "      <td>61589.000000</td>\n",
              "      <td>61589.0</td>\n",
              "      <td>61589.000000</td>\n",
              "      <td>61589.000000</td>\n",
              "      <td>61589.000000</td>\n",
              "      <td>61589.000000</td>\n",
              "      <td>61589.000000</td>\n",
              "      <td>61589.000000</td>\n",
              "      <td>...</td>\n",
              "      <td>61589.000000</td>\n",
              "      <td>61589.000000</td>\n",
              "      <td>61589.000000</td>\n",
              "      <td>61589.000000</td>\n",
              "      <td>61589.000000</td>\n",
              "      <td>61589.000000</td>\n",
              "      <td>61589.000000</td>\n",
              "      <td>61589.000000</td>\n",
              "      <td>61589.000000</td>\n",
              "      <td>61589.000000</td>\n",
              "    </tr>\n",
              "    <tr>\n",
              "      <th>mean</th>\n",
              "      <td>2.037188e+06</td>\n",
              "      <td>18.053646</td>\n",
              "      <td>7.679858</td>\n",
              "      <td>0.0</td>\n",
              "      <td>2.320950</td>\n",
              "      <td>4.951923</td>\n",
              "      <td>7.165874</td>\n",
              "      <td>1.457013</td>\n",
              "      <td>4.641300</td>\n",
              "      <td>9.253958</td>\n",
              "      <td>...</td>\n",
              "      <td>0.781714</td>\n",
              "      <td>0.218286</td>\n",
              "      <td>0.999805</td>\n",
              "      <td>0.000195</td>\n",
              "      <td>0.873403</td>\n",
              "      <td>0.126597</td>\n",
              "      <td>0.037117</td>\n",
              "      <td>0.962883</td>\n",
              "      <td>0.999675</td>\n",
              "      <td>0.000325</td>\n",
              "    </tr>\n",
              "    <tr>\n",
              "      <th>std</th>\n",
              "      <td>6.564178e+05</td>\n",
              "      <td>27.157908</td>\n",
              "      <td>6.414996</td>\n",
              "      <td>0.0</td>\n",
              "      <td>5.767793</td>\n",
              "      <td>11.631048</td>\n",
              "      <td>16.642746</td>\n",
              "      <td>2.981867</td>\n",
              "      <td>8.218458</td>\n",
              "      <td>16.263241</td>\n",
              "      <td>...</td>\n",
              "      <td>0.413086</td>\n",
              "      <td>0.413086</td>\n",
              "      <td>0.013957</td>\n",
              "      <td>0.013957</td>\n",
              "      <td>0.332524</td>\n",
              "      <td>0.332524</td>\n",
              "      <td>0.189050</td>\n",
              "      <td>0.189050</td>\n",
              "      <td>0.018018</td>\n",
              "      <td>0.018018</td>\n",
              "    </tr>\n",
              "    <tr>\n",
              "      <th>min</th>\n",
              "      <td>1.068628e+06</td>\n",
              "      <td>-75.000000</td>\n",
              "      <td>0.000000</td>\n",
              "      <td>0.0</td>\n",
              "      <td>0.000000</td>\n",
              "      <td>0.000000</td>\n",
              "      <td>0.000000</td>\n",
              "      <td>0.000000</td>\n",
              "      <td>0.000000</td>\n",
              "      <td>0.000000</td>\n",
              "      <td>...</td>\n",
              "      <td>0.000000</td>\n",
              "      <td>0.000000</td>\n",
              "      <td>0.000000</td>\n",
              "      <td>0.000000</td>\n",
              "      <td>0.000000</td>\n",
              "      <td>0.000000</td>\n",
              "      <td>0.000000</td>\n",
              "      <td>0.000000</td>\n",
              "      <td>0.000000</td>\n",
              "      <td>0.000000</td>\n",
              "    </tr>\n",
              "    <tr>\n",
              "      <th>25%</th>\n",
              "      <td>1.498574e+06</td>\n",
              "      <td>3.000000</td>\n",
              "      <td>4.000000</td>\n",
              "      <td>0.0</td>\n",
              "      <td>0.000000</td>\n",
              "      <td>0.000000</td>\n",
              "      <td>0.000000</td>\n",
              "      <td>0.000000</td>\n",
              "      <td>0.000000</td>\n",
              "      <td>0.000000</td>\n",
              "      <td>...</td>\n",
              "      <td>1.000000</td>\n",
              "      <td>0.000000</td>\n",
              "      <td>1.000000</td>\n",
              "      <td>0.000000</td>\n",
              "      <td>1.000000</td>\n",
              "      <td>0.000000</td>\n",
              "      <td>0.000000</td>\n",
              "      <td>1.000000</td>\n",
              "      <td>1.000000</td>\n",
              "      <td>0.000000</td>\n",
              "    </tr>\n",
              "    <tr>\n",
              "      <th>50%</th>\n",
              "      <td>1.898033e+06</td>\n",
              "      <td>10.000000</td>\n",
              "      <td>8.000000</td>\n",
              "      <td>0.0</td>\n",
              "      <td>0.000000</td>\n",
              "      <td>0.000000</td>\n",
              "      <td>0.000000</td>\n",
              "      <td>0.000000</td>\n",
              "      <td>2.000000</td>\n",
              "      <td>4.000000</td>\n",
              "      <td>...</td>\n",
              "      <td>1.000000</td>\n",
              "      <td>0.000000</td>\n",
              "      <td>1.000000</td>\n",
              "      <td>0.000000</td>\n",
              "      <td>1.000000</td>\n",
              "      <td>0.000000</td>\n",
              "      <td>0.000000</td>\n",
              "      <td>1.000000</td>\n",
              "      <td>1.000000</td>\n",
              "      <td>0.000000</td>\n",
              "    </tr>\n",
              "    <tr>\n",
              "      <th>75%</th>\n",
              "      <td>2.314826e+06</td>\n",
              "      <td>18.000000</td>\n",
              "      <td>8.000000</td>\n",
              "      <td>0.0</td>\n",
              "      <td>0.000000</td>\n",
              "      <td>2.000000</td>\n",
              "      <td>4.000000</td>\n",
              "      <td>1.000000</td>\n",
              "      <td>4.000000</td>\n",
              "      <td>9.000000</td>\n",
              "      <td>...</td>\n",
              "      <td>1.000000</td>\n",
              "      <td>0.000000</td>\n",
              "      <td>1.000000</td>\n",
              "      <td>0.000000</td>\n",
              "      <td>1.000000</td>\n",
              "      <td>0.000000</td>\n",
              "      <td>0.000000</td>\n",
              "      <td>1.000000</td>\n",
              "      <td>1.000000</td>\n",
              "      <td>0.000000</td>\n",
              "    </tr>\n",
              "    <tr>\n",
              "      <th>max</th>\n",
              "      <td>3.284895e+06</td>\n",
              "      <td>138.000000</td>\n",
              "      <td>52.000000</td>\n",
              "      <td>0.0</td>\n",
              "      <td>30.000000</td>\n",
              "      <td>62.000000</td>\n",
              "      <td>90.000000</td>\n",
              "      <td>15.000000</td>\n",
              "      <td>42.000000</td>\n",
              "      <td>85.000000</td>\n",
              "      <td>...</td>\n",
              "      <td>1.000000</td>\n",
              "      <td>1.000000</td>\n",
              "      <td>1.000000</td>\n",
              "      <td>1.000000</td>\n",
              "      <td>1.000000</td>\n",
              "      <td>1.000000</td>\n",
              "      <td>1.000000</td>\n",
              "      <td>1.000000</td>\n",
              "      <td>1.000000</td>\n",
              "      <td>1.000000</td>\n",
              "    </tr>\n",
              "  </tbody>\n",
              "</table>\n",
              "<p>8 rows × 29 columns</p>\n",
              "</div>"
            ],
            "text/plain": [
              "                sku  national_inv     lead_time  in_transit_qty  \\\n",
              "count  6.158900e+04  61589.000000  61589.000000         61589.0   \n",
              "mean   2.037188e+06     18.053646      7.679858             0.0   \n",
              "std    6.564178e+05     27.157908      6.414996             0.0   \n",
              "min    1.068628e+06    -75.000000      0.000000             0.0   \n",
              "25%    1.498574e+06      3.000000      4.000000             0.0   \n",
              "50%    1.898033e+06     10.000000      8.000000             0.0   \n",
              "75%    2.314826e+06     18.000000      8.000000             0.0   \n",
              "max    3.284895e+06    138.000000     52.000000             0.0   \n",
              "\n",
              "       forecast_3_month  forecast_6_month  forecast_9_month  sales_1_month  \\\n",
              "count      61589.000000      61589.000000      61589.000000   61589.000000   \n",
              "mean           2.320950          4.951923          7.165874       1.457013   \n",
              "std            5.767793         11.631048         16.642746       2.981867   \n",
              "min            0.000000          0.000000          0.000000       0.000000   \n",
              "25%            0.000000          0.000000          0.000000       0.000000   \n",
              "50%            0.000000          0.000000          0.000000       0.000000   \n",
              "75%            0.000000          2.000000          4.000000       1.000000   \n",
              "max           30.000000         62.000000         90.000000      15.000000   \n",
              "\n",
              "       sales_3_month  sales_6_month      ...       deck_risk_No  \\\n",
              "count   61589.000000   61589.000000      ...       61589.000000   \n",
              "mean        4.641300       9.253958      ...           0.781714   \n",
              "std         8.218458      16.263241      ...           0.413086   \n",
              "min         0.000000       0.000000      ...           0.000000   \n",
              "25%         0.000000       0.000000      ...           1.000000   \n",
              "50%         2.000000       4.000000      ...           1.000000   \n",
              "75%         4.000000       9.000000      ...           1.000000   \n",
              "max        42.000000      85.000000      ...           1.000000   \n",
              "\n",
              "       deck_risk_Yes  oe_constraint_No  oe_constraint_Yes  ppap_risk_No  \\\n",
              "count   61589.000000      61589.000000       61589.000000  61589.000000   \n",
              "mean        0.218286          0.999805           0.000195      0.873403   \n",
              "std         0.413086          0.013957           0.013957      0.332524   \n",
              "min         0.000000          0.000000           0.000000      0.000000   \n",
              "25%         0.000000          1.000000           0.000000      1.000000   \n",
              "50%         0.000000          1.000000           0.000000      1.000000   \n",
              "75%         0.000000          1.000000           0.000000      1.000000   \n",
              "max         1.000000          1.000000           1.000000      1.000000   \n",
              "\n",
              "       ppap_risk_Yes  stop_auto_buy_No  stop_auto_buy_Yes   rev_stop_No  \\\n",
              "count   61589.000000      61589.000000       61589.000000  61589.000000   \n",
              "mean        0.126597          0.037117           0.962883      0.999675   \n",
              "std         0.332524          0.189050           0.189050      0.018018   \n",
              "min         0.000000          0.000000           0.000000      0.000000   \n",
              "25%         0.000000          0.000000           1.000000      1.000000   \n",
              "50%         0.000000          0.000000           1.000000      1.000000   \n",
              "75%         0.000000          0.000000           1.000000      1.000000   \n",
              "max         1.000000          1.000000           1.000000      1.000000   \n",
              "\n",
              "       rev_stop_Yes  \n",
              "count  61589.000000  \n",
              "mean       0.000325  \n",
              "std        0.018018  \n",
              "min        0.000000  \n",
              "25%        0.000000  \n",
              "50%        0.000000  \n",
              "75%        0.000000  \n",
              "max        1.000000  \n",
              "\n",
              "[8 rows x 29 columns]"
            ]
          },
          "metadata": {
            "tags": []
          },
          "execution_count": 53
        }
      ]
    },
    {
      "metadata": {
        "id": "4PztfKGhZb2K",
        "colab_type": "code",
        "colab": {
          "base_uri": "https://localhost:8080/",
          "height": 187
        },
        "outputId": "2750f522-dc8f-4d63-f9f9-41ffb10ca414"
      },
      "cell_type": "code",
      "source": [
        "BackOrders_NoOut2.columns"
      ],
      "execution_count": 54,
      "outputs": [
        {
          "output_type": "execute_result",
          "data": {
            "text/plain": [
              "Index(['sku', 'national_inv', 'lead_time', 'in_transit_qty',\n",
              "       'forecast_3_month', 'forecast_6_month', 'forecast_9_month',\n",
              "       'sales_1_month', 'sales_3_month', 'sales_6_month', 'sales_9_month',\n",
              "       'min_bank', 'pieces_past_due', 'perf_6_month_avg', 'perf_12_month_avg',\n",
              "       'local_bo_qty', 'went_on_backorder', 'potential_issue_No',\n",
              "       'potential_issue_Yes', 'deck_risk_No', 'deck_risk_Yes',\n",
              "       'oe_constraint_No', 'oe_constraint_Yes', 'ppap_risk_No',\n",
              "       'ppap_risk_Yes', 'stop_auto_buy_No', 'stop_auto_buy_Yes', 'rev_stop_No',\n",
              "       'rev_stop_Yes'],\n",
              "      dtype='object')"
            ]
          },
          "metadata": {
            "tags": []
          },
          "execution_count": 54
        }
      ]
    },
    {
      "metadata": {
        "id": "yFG0U8HZwCQV",
        "colab_type": "text"
      },
      "cell_type": "markdown",
      "source": [
        "Creating training and test set\n",
        "\n",
        "\n"
      ]
    },
    {
      "metadata": {
        "id": "yLnd-3WWRj5l",
        "colab_type": "code",
        "colab": {}
      },
      "cell_type": "code",
      "source": [
        "# Divide in to train and test\n",
        "y=BackOrders_NoOut2[\"went_on_backorder\"]\n",
        "X=BackOrders_NoOut2.drop('went_on_backorder', axis=1)\n",
        "\n",
        "#from sklearn.model_selection import train_test_split  \n",
        "X_train, X_test, y_train, y_test = train_test_split(X, y, test_size=0.20)  "
      ],
      "execution_count": 0,
      "outputs": []
    },
    {
      "metadata": {
        "id": "ic2Usr8hRjyu",
        "colab_type": "code",
        "colab": {
          "base_uri": "https://localhost:8080/",
          "height": 85
        },
        "outputId": "61ba7415-5598-43f5-a209-60dc266befd7"
      },
      "cell_type": "code",
      "source": [
        "print(X_train.shape)\n",
        "print(X_test.shape)\n",
        "print(y_train.shape)\n",
        "print(y_test.shape)"
      ],
      "execution_count": 26,
      "outputs": [
        {
          "output_type": "stream",
          "text": [
            "(49271, 28)\n",
            "(12318, 28)\n",
            "(49271,)\n",
            "(12318,)\n"
          ],
          "name": "stdout"
        }
      ]
    },
    {
      "metadata": {
        "id": "FA1RP_NPanAs",
        "colab_type": "code",
        "colab": {}
      },
      "cell_type": "code",
      "source": [
        "from sklearn.preprocessing import StandardScaler"
      ],
      "execution_count": 0,
      "outputs": []
    },
    {
      "metadata": {
        "id": "swraFcCXRuHM",
        "colab_type": "code",
        "colab": {
          "base_uri": "https://localhost:8080/",
          "height": 34
        },
        "outputId": "a4ab603f-4db8-4f75-dc4b-bfc936bcbb3c"
      },
      "cell_type": "code",
      "source": [
        "scaler = StandardScaler()\n",
        "scaler.fit(X_train)"
      ],
      "execution_count": 57,
      "outputs": [
        {
          "output_type": "execute_result",
          "data": {
            "text/plain": [
              "StandardScaler(copy=True, with_mean=True, with_std=True)"
            ]
          },
          "metadata": {
            "tags": []
          },
          "execution_count": 57
        }
      ]
    },
    {
      "metadata": {
        "id": "JnILh0PBRuD8",
        "colab_type": "code",
        "colab": {}
      },
      "cell_type": "code",
      "source": [
        "X_train=scaler.transform(X_train)\n",
        "X_test=scaler.transform(X_test)"
      ],
      "execution_count": 0,
      "outputs": []
    },
    {
      "metadata": {
        "id": "HBE0kekeSTJt",
        "colab_type": "code",
        "colab": {
          "base_uri": "https://localhost:8080/",
          "height": 34
        },
        "outputId": "9d4a213b-a103-45fd-ddfe-fa6f1f202ca6"
      },
      "cell_type": "code",
      "source": [
        "input_dim = X_train.shape[1]\n",
        "print(input_dim)\n",
        "# encoding_dim = 15"
      ],
      "execution_count": 59,
      "outputs": [
        {
          "output_type": "stream",
          "text": [
            "28\n"
          ],
          "name": "stdout"
        }
      ]
    },
    {
      "metadata": {
        "id": "59ahWZqbSTGs",
        "colab_type": "code",
        "colab": {}
      },
      "cell_type": "code",
      "source": [
        "model = Sequential()\n",
        "model.add(Dense(1,input_dim=input_dim, activation='sigmoid', kernel_initializer='random_normal',kernel_regularizer=\"l1\"))\n",
        "model.compile(loss='binary_crossentropy', optimizer=\"sgd\", metrics=['accuracy'])"
      ],
      "execution_count": 0,
      "outputs": []
    },
    {
      "metadata": {
        "id": "ZQBbd2R6Sow8",
        "colab_type": "code",
        "colab": {
          "base_uri": "https://localhost:8080/",
          "height": 1714
        },
        "outputId": "f3c4219a-281a-483b-d757-b8bc6ee8302e"
      },
      "cell_type": "code",
      "source": [
        "model.fit(X_train, y_train, epochs=50, batch_size=64)"
      ],
      "execution_count": 52,
      "outputs": [
        {
          "output_type": "stream",
          "text": [
            "Epoch 1/50\n",
            "49271/49271 [==============================] - 9s 190us/step - loss: 0.4993 - acc: 0.8101\n",
            "Epoch 2/50\n",
            "49271/49271 [==============================] - 6s 126us/step - loss: 0.4161 - acc: 0.8302\n",
            "Epoch 3/50\n",
            "49271/49271 [==============================] - 5s 109us/step - loss: 0.4051 - acc: 0.8328\n",
            "Epoch 4/50\n",
            "49271/49271 [==============================] - 5s 106us/step - loss: 0.4015 - acc: 0.8344\n",
            "Epoch 5/50\n",
            "49271/49271 [==============================] - 5s 103us/step - loss: 0.4000 - acc: 0.8361\n",
            "Epoch 6/50\n",
            "49271/49271 [==============================] - 6s 127us/step - loss: 0.3990 - acc: 0.8370\n",
            "Epoch 7/50\n",
            "49271/49271 [==============================] - 7s 149us/step - loss: 0.3986 - acc: 0.8383\n",
            "Epoch 8/50\n",
            "49271/49271 [==============================] - 8s 153us/step - loss: 0.3983 - acc: 0.8387\n",
            "Epoch 9/50\n",
            "49271/49271 [==============================] - 8s 156us/step - loss: 0.3981 - acc: 0.8395\n",
            "Epoch 10/50\n",
            "49271/49271 [==============================] - 6s 128us/step - loss: 0.3979 - acc: 0.8395\n",
            "Epoch 11/50\n",
            "49271/49271 [==============================] - 5s 108us/step - loss: 0.3978 - acc: 0.8404\n",
            "Epoch 12/50\n",
            "49271/49271 [==============================] - 5s 110us/step - loss: 0.3978 - acc: 0.8403\n",
            "Epoch 13/50\n",
            "49271/49271 [==============================] - 6s 119us/step - loss: 0.3977 - acc: 0.8404\n",
            "Epoch 14/50\n",
            "49271/49271 [==============================] - 7s 135us/step - loss: 0.3977 - acc: 0.8404\n",
            "Epoch 15/50\n",
            "49271/49271 [==============================] - 8s 153us/step - loss: 0.3977 - acc: 0.8408\n",
            "Epoch 16/50\n",
            "49271/49271 [==============================] - 7s 150us/step - loss: 0.3977 - acc: 0.8411\n",
            "Epoch 17/50\n",
            "49271/49271 [==============================] - 8s 157us/step - loss: 0.3976 - acc: 0.8412\n",
            "Epoch 18/50\n",
            "49271/49271 [==============================] - 6s 129us/step - loss: 0.3977 - acc: 0.8408\n",
            "Epoch 19/50\n",
            "49271/49271 [==============================] - 5s 105us/step - loss: 0.3976 - acc: 0.8410\n",
            "Epoch 20/50\n",
            "49271/49271 [==============================] - 5s 108us/step - loss: 0.3977 - acc: 0.8412\n",
            "Epoch 21/50\n",
            "49271/49271 [==============================] - 5s 102us/step - loss: 0.3977 - acc: 0.8414\n",
            "Epoch 22/50\n",
            "49271/49271 [==============================] - 6s 127us/step - loss: 0.3976 - acc: 0.8411\n",
            "Epoch 23/50\n",
            "49271/49271 [==============================] - 8s 156us/step - loss: 0.3976 - acc: 0.8416\n",
            "Epoch 24/50\n",
            "49271/49271 [==============================] - 8s 153us/step - loss: 0.3977 - acc: 0.8410\n",
            "Epoch 25/50\n",
            "49271/49271 [==============================] - 7s 146us/step - loss: 0.3976 - acc: 0.8411\n",
            "Epoch 26/50\n",
            "49271/49271 [==============================] - 6s 131us/step - loss: 0.3977 - acc: 0.8412\n",
            "Epoch 27/50\n",
            "49271/49271 [==============================] - 6s 113us/step - loss: 0.3977 - acc: 0.8416\n",
            "Epoch 28/50\n",
            "49271/49271 [==============================] - 5s 105us/step - loss: 0.3976 - acc: 0.8416\n",
            "Epoch 29/50\n",
            "49271/49271 [==============================] - 5s 111us/step - loss: 0.3976 - acc: 0.8413\n",
            "Epoch 30/50\n",
            "49271/49271 [==============================] - 5s 107us/step - loss: 0.3976 - acc: 0.8415\n",
            "Epoch 31/50\n",
            "49271/49271 [==============================] - 7s 145us/step - loss: 0.3976 - acc: 0.8416\n",
            "Epoch 32/50\n",
            "49271/49271 [==============================] - 8s 152us/step - loss: 0.3977 - acc: 0.8414\n",
            "Epoch 33/50\n",
            "49271/49271 [==============================] - 8s 158us/step - loss: 0.3977 - acc: 0.8411\n",
            "Epoch 34/50\n",
            "49271/49271 [==============================] - 8s 153us/step - loss: 0.3976 - acc: 0.8418\n",
            "Epoch 35/50\n",
            "49271/49271 [==============================] - 6s 130us/step - loss: 0.3977 - acc: 0.8417\n",
            "Epoch 36/50\n",
            "49271/49271 [==============================] - 6s 114us/step - loss: 0.3977 - acc: 0.8415\n",
            "Epoch 37/50\n",
            "49271/49271 [==============================] - 6s 112us/step - loss: 0.3976 - acc: 0.8413\n",
            "Epoch 38/50\n",
            "49271/49271 [==============================] - 6s 113us/step - loss: 0.3976 - acc: 0.8411\n",
            "Epoch 39/50\n",
            "49271/49271 [==============================] - 7s 145us/step - loss: 0.3976 - acc: 0.8415\n",
            "Epoch 40/50\n",
            "49271/49271 [==============================] - 8s 153us/step - loss: 0.3976 - acc: 0.8411\n",
            "Epoch 41/50\n",
            "49271/49271 [==============================] - 8s 155us/step - loss: 0.3977 - acc: 0.8412\n",
            "Epoch 42/50\n",
            "49271/49271 [==============================] - 7s 145us/step - loss: 0.3977 - acc: 0.8416\n",
            "Epoch 43/50\n",
            "49271/49271 [==============================] - 6s 112us/step - loss: 0.3977 - acc: 0.8420\n",
            "Epoch 44/50\n",
            "49271/49271 [==============================] - 4s 76us/step - loss: 0.3976 - acc: 0.8413\n",
            "Epoch 45/50\n",
            "49271/49271 [==============================] - 4s 76us/step - loss: 0.3976 - acc: 0.8416\n",
            "Epoch 46/50\n",
            "49271/49271 [==============================] - 4s 76us/step - loss: 0.3977 - acc: 0.8414\n",
            "Epoch 47/50\n",
            "49271/49271 [==============================] - 4s 76us/step - loss: 0.3977 - acc: 0.8416\n",
            "Epoch 48/50\n",
            "49271/49271 [==============================] - 4s 76us/step - loss: 0.3977 - acc: 0.8413\n",
            "Epoch 49/50\n",
            "49271/49271 [==============================] - 4s 75us/step - loss: 0.3977 - acc: 0.8416\n",
            "Epoch 50/50\n",
            "49271/49271 [==============================] - 4s 74us/step - loss: 0.3976 - acc: 0.8415\n"
          ],
          "name": "stdout"
        },
        {
          "output_type": "execute_result",
          "data": {
            "text/plain": [
              "<keras.callbacks.History at 0x7f7a1cc3a048>"
            ]
          },
          "metadata": {
            "tags": []
          },
          "execution_count": 52
        }
      ]
    },
    {
      "metadata": {
        "id": "wO0j3W3YSTDq",
        "colab_type": "code",
        "colab": {
          "base_uri": "https://localhost:8080/",
          "height": 50
        },
        "outputId": "018ccbf2-98ef-4fc2-e860-f643142873a9"
      },
      "cell_type": "code",
      "source": [
        "scores = model.evaluate(X_train, y_train)\n",
        "print(\"%s: %.2f%%\" % (model.metrics_names[1], scores[1]*100))"
      ],
      "execution_count": 53,
      "outputs": [
        {
          "output_type": "stream",
          "text": [
            "49271/49271 [==============================] - 4s 73us/step\n",
            "acc: 84.15%\n"
          ],
          "name": "stdout"
        }
      ]
    },
    {
      "metadata": {
        "id": "8-YDwMlRSTAf",
        "colab_type": "code",
        "colab": {}
      },
      "cell_type": "code",
      "source": [
        "y_pred_class = model.predict_classes(X_test)"
      ],
      "execution_count": 0,
      "outputs": []
    },
    {
      "metadata": {
        "id": "YUDwcXULVe58",
        "colab_type": "code",
        "colab": {
          "base_uri": "https://localhost:8080/",
          "height": 34
        },
        "outputId": "ca0e5476-5556-4f6d-bbe2-42541389bcc8"
      },
      "cell_type": "code",
      "source": [
        "from sklearn import metrics\n",
        "metrics.accuracy_score(y_test, y_pred_class)"
      ],
      "execution_count": 55,
      "outputs": [
        {
          "output_type": "execute_result",
          "data": {
            "text/plain": [
              "0.8420198084104562"
            ]
          },
          "metadata": {
            "tags": []
          },
          "execution_count": 55
        }
      ]
    },
    {
      "metadata": {
        "id": "Msaug_36Ve3l",
        "colab_type": "code",
        "colab": {}
      },
      "cell_type": "code",
      "source": [
        "# print the confusion matrix\n",
        "confusion_matrix_test=metrics.confusion_matrix(y_test, y_pred_class)"
      ],
      "execution_count": 0,
      "outputs": []
    },
    {
      "metadata": {
        "id": "xr8TQnWXVe08",
        "colab_type": "code",
        "colab": {
          "base_uri": "https://localhost:8080/",
          "height": 50
        },
        "outputId": "ea3e457a-38f8-491b-cbf3-57ac96ae598e"
      },
      "cell_type": "code",
      "source": [
        "confusion_matrix_test"
      ],
      "execution_count": 57,
      "outputs": [
        {
          "output_type": "execute_result",
          "data": {
            "text/plain": [
              "array([[9852,  197],\n",
              "       [1749,  520]])"
            ]
          },
          "metadata": {
            "tags": []
          },
          "execution_count": 57
        }
      ]
    },
    {
      "metadata": {
        "id": "tgSOctTvVezF",
        "colab_type": "code",
        "colab": {
          "base_uri": "https://localhost:8080/",
          "height": 67
        },
        "outputId": "e8c9c0a7-feef-420f-d524-c14b7838f396"
      },
      "cell_type": "code",
      "source": [
        "Accuracy_Test=(confusion_matrix_test[0,0]+confusion_matrix_test[1,1])/(confusion_matrix_test[0,0]+confusion_matrix_test[0,1]+confusion_matrix_test[1,0]+confusion_matrix_test[1,1])\n",
        "TNR_Test= confusion_matrix_test[0,0]/(confusion_matrix_test[0,0] +confusion_matrix_test[0,1])\n",
        "TPR_Test= confusion_matrix_test[1,1]/(confusion_matrix_test[1,0] +confusion_matrix_test[1,1])\n",
        "\n",
        "print(\"Test TNR: \",TNR_Test)\n",
        "print(\"Test TPR: \",TPR_Test)\n",
        "print(\"Test Accuracy: \",Accuracy_Test)"
      ],
      "execution_count": 58,
      "outputs": [
        {
          "output_type": "stream",
          "text": [
            "Test TNR:  0.980396059309384\n",
            "Test TPR:  0.22917584839136185\n",
            "Test Accuracy:  0.8420198084104562\n"
          ],
          "name": "stdout"
        }
      ]
    },
    {
      "metadata": {
        "id": "aXR30_vQVevt",
        "colab_type": "code",
        "colab": {}
      },
      "cell_type": "code",
      "source": [
        "model_MLP = Sequential()\n",
        "model_MLP.add(Dense(4,input_dim=input_dim, activation='tanh', kernel_initializer='random_normal',kernel_regularizer=\"l1\"))\n",
        "model_MLP.add(Dense(1,activation='sigmoid'))\n",
        "model_MLP.compile(loss='binary_crossentropy', optimizer=\"sgd\", metrics=['accuracy'])"
      ],
      "execution_count": 0,
      "outputs": []
    },
    {
      "metadata": {
        "id": "LYn2HPE9fIbe",
        "colab_type": "code",
        "colab": {}
      },
      "cell_type": "code",
      "source": [
        "model_MLP = Sequential()\n",
        "model_MLP.add(Dense(14,input_dim=input_dim, activation='tanh', kernel_initializer='random_normal',kernel_regularizer=\"l1\"))\n",
        "model_MLP.add(Dropout(0.2))\n",
        "model_MLP.add(Dense(4, activation='relu', kernel_constraint=maxnorm(3)))\n",
        "model_MLP.add(BatchNormalization())\n",
        "model_MLP.add(Dense(1,activation='sigmoid'))\n",
        "model_MLP.compile(loss='binary_crossentropy', optimizer=\"sgd\", metrics=['accuracy'])"
      ],
      "execution_count": 0,
      "outputs": []
    },
    {
      "metadata": {
        "id": "CeuOKKDdjU5R",
        "colab_type": "code",
        "colab": {}
      },
      "cell_type": "code",
      "source": [
        "model_MLP = Sequential()\n",
        "model_MLP.add(Dense(14,input_dim=input_dim, activation='tanh', kernel_initializer='random_normal',kernel_regularizer=\"l2\"))\n",
        "# model_MLP.add(Dropout(0.2))\n",
        "model_MLP.add(Dense(4, activation='relu', kernel_constraint=maxnorm(3)))\n",
        "# model_MLP.add(BatchNormalization())\n",
        "model_MLP.add(Dense(1,activation='sigmoid'))\n"
      ],
      "execution_count": 0,
      "outputs": []
    },
    {
      "metadata": {
        "id": "b0c9qmD5ry1t",
        "colab_type": "code",
        "colab": {}
      },
      "cell_type": "code",
      "source": [
        "model_MLP.compile(loss='binary_crossentropy', optimizer=\"adam\", metrics=['accuracy'])"
      ],
      "execution_count": 0,
      "outputs": []
    },
    {
      "metadata": {
        "id": "9Z6jI5MiVs7A",
        "colab_type": "code",
        "colab": {
          "base_uri": "https://localhost:8080/",
          "height": 1734
        },
        "outputId": "99629f5a-ca20-4946-96f0-5e24d0a86f38"
      },
      "cell_type": "code",
      "source": [
        "model_MLP.fit(X_train, y_train, epochs=50, batch_size=32)"
      ],
      "execution_count": 53,
      "outputs": [
        {
          "output_type": "stream",
          "text": [
            "Epoch 1/50\n",
            "49271/49271 [==============================] - 10s 206us/step - loss: 0.4005 - acc: 0.8511\n",
            "Epoch 2/50\n",
            "49271/49271 [==============================] - 10s 198us/step - loss: 0.3557 - acc: 0.8689\n",
            "Epoch 3/50\n",
            "49271/49271 [==============================] - 10s 195us/step - loss: 0.3450 - acc: 0.8744\n",
            "Epoch 4/50\n",
            "49271/49271 [==============================] - 10s 202us/step - loss: 0.3390 - acc: 0.8792\n",
            "Epoch 5/50\n",
            "49271/49271 [==============================] - 10s 205us/step - loss: 0.3336 - acc: 0.8807\n",
            "Epoch 6/50\n",
            "49271/49271 [==============================] - 10s 195us/step - loss: 0.3296 - acc: 0.8837\n",
            "Epoch 7/50\n",
            "49271/49271 [==============================] - 10s 195us/step - loss: 0.3263 - acc: 0.8832\n",
            "Epoch 8/50\n",
            "49271/49271 [==============================] - 10s 198us/step - loss: 0.3245 - acc: 0.8844\n",
            "Epoch 9/50\n",
            "49271/49271 [==============================] - 10s 196us/step - loss: 0.3216 - acc: 0.8850\n",
            "Epoch 10/50\n",
            "49271/49271 [==============================] - 10s 196us/step - loss: 0.3211 - acc: 0.8849\n",
            "Epoch 11/50\n",
            "49271/49271 [==============================] - 10s 195us/step - loss: 0.3190 - acc: 0.8859\n",
            "Epoch 12/50\n",
            "49271/49271 [==============================] - 10s 196us/step - loss: 0.3169 - acc: 0.8855\n",
            "Epoch 13/50\n",
            "49271/49271 [==============================] - 10s 196us/step - loss: 0.3175 - acc: 0.8857\n",
            "Epoch 14/50\n",
            "49271/49271 [==============================] - 10s 195us/step - loss: 0.3160 - acc: 0.8863\n",
            "Epoch 15/50\n",
            "49271/49271 [==============================] - 10s 195us/step - loss: 0.3140 - acc: 0.8870\n",
            "Epoch 16/50\n",
            "49271/49271 [==============================] - 10s 197us/step - loss: 0.3133 - acc: 0.8870\n",
            "Epoch 17/50\n",
            "49271/49271 [==============================] - 10s 195us/step - loss: 0.3117 - acc: 0.8868\n",
            "Epoch 18/50\n",
            "49271/49271 [==============================] - 10s 196us/step - loss: 0.3087 - acc: 0.8869\n",
            "Epoch 19/50\n",
            "49271/49271 [==============================] - 10s 197us/step - loss: 0.3100 - acc: 0.8877\n",
            "Epoch 20/50\n",
            "49271/49271 [==============================] - 10s 196us/step - loss: 0.3094 - acc: 0.8873\n",
            "Epoch 21/50\n",
            "49271/49271 [==============================] - 10s 196us/step - loss: 0.3090 - acc: 0.8876\n",
            "Epoch 22/50\n",
            "49271/49271 [==============================] - 10s 196us/step - loss: 0.3063 - acc: 0.8877\n",
            "Epoch 23/50\n",
            "49271/49271 [==============================] - 10s 197us/step - loss: 0.3069 - acc: 0.8875\n",
            "Epoch 24/50\n",
            "49271/49271 [==============================] - 10s 197us/step - loss: 0.3070 - acc: 0.8875\n",
            "Epoch 25/50\n",
            "49271/49271 [==============================] - 10s 195us/step - loss: 0.3060 - acc: 0.8884\n",
            "Epoch 26/50\n",
            "49271/49271 [==============================] - 10s 197us/step - loss: 0.3058 - acc: 0.8884\n",
            "Epoch 27/50\n",
            "49271/49271 [==============================] - 10s 196us/step - loss: 0.3051 - acc: 0.8889\n",
            "Epoch 28/50\n",
            "49271/49271 [==============================] - 10s 203us/step - loss: 0.3053 - acc: 0.8880\n",
            "Epoch 29/50\n",
            "49271/49271 [==============================] - 10s 204us/step - loss: 0.3057 - acc: 0.8879\n",
            "Epoch 30/50\n",
            "49271/49271 [==============================] - 10s 202us/step - loss: 0.3046 - acc: 0.8878\n",
            "Epoch 31/50\n",
            "49271/49271 [==============================] - 10s 202us/step - loss: 0.3042 - acc: 0.8882\n",
            "Epoch 32/50\n",
            "49271/49271 [==============================] - 10s 204us/step - loss: 0.3053 - acc: 0.8877\n",
            "Epoch 33/50\n",
            "49271/49271 [==============================] - 10s 204us/step - loss: 0.3042 - acc: 0.8862\n",
            "Epoch 34/50\n",
            "49271/49271 [==============================] - 10s 205us/step - loss: 0.3036 - acc: 0.8876\n",
            "Epoch 35/50\n",
            "49271/49271 [==============================] - 10s 204us/step - loss: 0.3052 - acc: 0.8877\n",
            "Epoch 36/50\n",
            "49271/49271 [==============================] - 10s 212us/step - loss: 0.3032 - acc: 0.8885\n",
            "Epoch 37/50\n",
            "49271/49271 [==============================] - 10s 199us/step - loss: 0.3039 - acc: 0.8871\n",
            "Epoch 38/50\n",
            "49271/49271 [==============================] - 9s 192us/step - loss: 0.3031 - acc: 0.8876\n",
            "Epoch 39/50\n",
            "49271/49271 [==============================] - 10s 193us/step - loss: 0.3048 - acc: 0.8886\n",
            "Epoch 40/50\n",
            "49271/49271 [==============================] - 9s 193us/step - loss: 0.3035 - acc: 0.8881\n",
            "Epoch 41/50\n",
            "49271/49271 [==============================] - 9s 192us/step - loss: 0.3024 - acc: 0.8880\n",
            "Epoch 42/50\n",
            "49271/49271 [==============================] - 9s 193us/step - loss: 0.3030 - acc: 0.8873\n",
            "Epoch 43/50\n",
            "49271/49271 [==============================] - 10s 194us/step - loss: 0.3032 - acc: 0.8881\n",
            "Epoch 44/50\n",
            "49271/49271 [==============================] - 9s 193us/step - loss: 0.3030 - acc: 0.8879\n",
            "Epoch 45/50\n",
            "49271/49271 [==============================] - 9s 192us/step - loss: 0.3028 - acc: 0.8878\n",
            "Epoch 46/50\n",
            "49271/49271 [==============================] - 10s 194us/step - loss: 0.3027 - acc: 0.8878\n",
            "Epoch 47/50\n",
            "49271/49271 [==============================] - 9s 192us/step - loss: 0.3030 - acc: 0.8878\n",
            "Epoch 48/50\n",
            "49271/49271 [==============================] - 9s 192us/step - loss: 0.3033 - acc: 0.8872\n",
            "Epoch 49/50\n",
            "49271/49271 [==============================] - 9s 193us/step - loss: 0.3040 - acc: 0.8885\n",
            "Epoch 50/50\n",
            "49271/49271 [==============================] - 9s 192us/step - loss: 0.3038 - acc: 0.8887\n"
          ],
          "name": "stdout"
        },
        {
          "output_type": "execute_result",
          "data": {
            "text/plain": [
              "<keras.callbacks.History at 0x7f7f85a0bcc0>"
            ]
          },
          "metadata": {
            "tags": []
          },
          "execution_count": 53
        }
      ]
    },
    {
      "metadata": {
        "id": "wCzcKMD4jfWw",
        "colab_type": "code",
        "colab": {
          "base_uri": "https://localhost:8080/",
          "height": 34
        },
        "outputId": "566339bc-aba9-42f3-8460-0c31bfb233ef"
      },
      "cell_type": "code",
      "source": [
        "lr_values = np.logspace(-4, -1, num=5)\n",
        "lr_values"
      ],
      "execution_count": 56,
      "outputs": [
        {
          "output_type": "execute_result",
          "data": {
            "text/plain": [
              "array([0.0001    , 0.00056234, 0.00316228, 0.01778279, 0.1       ])"
            ]
          },
          "metadata": {
            "tags": []
          },
          "execution_count": 56
        }
      ]
    },
    {
      "metadata": {
        "id": "ZXLhxWVerrmy",
        "colab_type": "code",
        "colab": {}
      },
      "cell_type": "code",
      "source": [
        "lr_values = [0.003]"
      ],
      "execution_count": 0,
      "outputs": []
    },
    {
      "metadata": {
        "id": "fZXJEAyajegp",
        "colab_type": "code",
        "colab": {
          "base_uri": "https://localhost:8080/",
          "height": 731
        },
        "outputId": "3473d03a-fb79-4394-9001-bdbb5238697b"
      },
      "cell_type": "code",
      "source": [
        "nb_epoch = 20\n",
        "batch_size = 32\n",
        "\n",
        "def compile_fit(model, X, Y, lr_value):\n",
        "    \n",
        "    adam = optimizers.Adam(lr=lr_value)\n",
        "    \n",
        "    model_MLP.compile(optimizer=adam, \n",
        "                    loss='binary_crossentropy', metrics=['accuracy'])\n",
        "    \n",
        "    history = model_MLP.fit(X, Y,\n",
        "                    epochs=nb_epoch,\n",
        "                    batch_size=batch_size,\n",
        "                    shuffle=True,\n",
        "                     validation_split=0.3,\n",
        "                    verbose=1)    \n",
        "    return history\n",
        "  \n",
        "hist = []\n",
        "training_loss = []\n",
        "val_loss = []\n",
        "\n",
        "\n",
        "for lr_value in lr_values:\n",
        "    print(lr_value)\n",
        "    history = (compile_fit(model_MLP, X_train, y_train, lr_value))\n",
        "  \n",
        "    hist.append(history)\n",
        "  \n",
        "    training_loss.append(history.history['loss'])\n",
        "    val_loss.append(history.history['val_loss'])\n",
        "  "
      ],
      "execution_count": 66,
      "outputs": [
        {
          "output_type": "stream",
          "text": [
            "0.003\n",
            "Train on 34489 samples, validate on 14782 samples\n",
            "Epoch 1/20\n",
            "34489/34489 [==============================] - 9s 251us/step - loss: 0.3592 - acc: 0.8559 - val_loss: 0.3445 - val_acc: 0.8499\n",
            "Epoch 2/20\n",
            "34489/34489 [==============================] - 8s 224us/step - loss: 0.3257 - acc: 0.8726 - val_loss: 0.3155 - val_acc: 0.8775\n",
            "Epoch 3/20\n",
            "34489/34489 [==============================] - 8s 227us/step - loss: 0.3171 - acc: 0.8766 - val_loss: 0.3127 - val_acc: 0.8767\n",
            "Epoch 4/20\n",
            "34489/34489 [==============================] - 8s 230us/step - loss: 0.3126 - acc: 0.8804 - val_loss: 0.3076 - val_acc: 0.8809\n",
            "Epoch 5/20\n",
            "34489/34489 [==============================] - 8s 229us/step - loss: 0.3099 - acc: 0.8807 - val_loss: 0.3074 - val_acc: 0.8791\n",
            "Epoch 6/20\n",
            "34489/34489 [==============================] - 8s 222us/step - loss: 0.3081 - acc: 0.8819 - val_loss: 0.3136 - val_acc: 0.8771\n",
            "Epoch 7/20\n",
            "34489/34489 [==============================] - 8s 222us/step - loss: 0.3090 - acc: 0.8828 - val_loss: 0.2999 - val_acc: 0.8845\n",
            "Epoch 8/20\n",
            "34489/34489 [==============================] - 8s 230us/step - loss: 0.3085 - acc: 0.8820 - val_loss: 0.3033 - val_acc: 0.8844\n",
            "Epoch 9/20\n",
            "34489/34489 [==============================] - 8s 223us/step - loss: 0.3071 - acc: 0.8824 - val_loss: 0.3007 - val_acc: 0.8845\n",
            "Epoch 10/20\n",
            "34489/34489 [==============================] - 8s 224us/step - loss: 0.3058 - acc: 0.8816 - val_loss: 0.2976 - val_acc: 0.8861\n",
            "Epoch 11/20\n",
            "34489/34489 [==============================] - 8s 227us/step - loss: 0.3039 - acc: 0.8833 - val_loss: 0.2951 - val_acc: 0.8870\n",
            "Epoch 12/20\n",
            "34489/34489 [==============================] - 8s 226us/step - loss: 0.3048 - acc: 0.8832 - val_loss: 0.2982 - val_acc: 0.8861\n",
            "Epoch 13/20\n",
            "34489/34489 [==============================] - 8s 225us/step - loss: 0.3044 - acc: 0.8844 - val_loss: 0.3002 - val_acc: 0.8818\n",
            "Epoch 14/20\n",
            "34489/34489 [==============================] - 8s 224us/step - loss: 0.3034 - acc: 0.8830 - val_loss: 0.3013 - val_acc: 0.8807\n",
            "Epoch 15/20\n",
            "34489/34489 [==============================] - 8s 224us/step - loss: 0.3031 - acc: 0.8846 - val_loss: 0.3056 - val_acc: 0.8826\n",
            "Epoch 16/20\n",
            "34489/34489 [==============================] - 8s 223us/step - loss: 0.3026 - acc: 0.8841 - val_loss: 0.3010 - val_acc: 0.8857\n",
            "Epoch 17/20\n",
            "34489/34489 [==============================] - 8s 223us/step - loss: 0.3026 - acc: 0.8835 - val_loss: 0.2972 - val_acc: 0.8834\n",
            "Epoch 18/20\n",
            "34489/34489 [==============================] - 8s 222us/step - loss: 0.3023 - acc: 0.8832 - val_loss: 0.2950 - val_acc: 0.8871\n",
            "Epoch 19/20\n",
            "34489/34489 [==============================] - 8s 227us/step - loss: 0.3023 - acc: 0.8827 - val_loss: 0.2919 - val_acc: 0.8875\n",
            "Epoch 20/20\n",
            "34489/34489 [==============================] - 8s 224us/step - loss: 0.3017 - acc: 0.8827 - val_loss: 0.2998 - val_acc: 0.8829\n"
          ],
          "name": "stdout"
        }
      ]
    },
    {
      "metadata": {
        "id": "SRGsEByxn2qu",
        "colab_type": "code",
        "colab": {
          "base_uri": "https://localhost:8080/",
          "height": 361
        },
        "outputId": "74a3b7eb-2ab0-4976-fbe4-d443ed4c3a2f"
      },
      "cell_type": "code",
      "source": [
        "# Create count of the number of epochs\n",
        "epoch_count = range(1, len(nb_epoch))\n",
        "\n",
        "# Visualize loss history\n",
        "plt.plot(epoch_count, training_loss, 'r--')\n",
        "plt.plot(epoch_count, val_loss, 'b-')\n",
        "plt.legend(['Training Loss', 'Validation Loss'])\n",
        "plt.xlabel('Epoch')\n",
        "plt.ylabel('Loss')\n",
        "plt.show();"
      ],
      "execution_count": 58,
      "outputs": [
        {
          "output_type": "display_data",
          "data": {
            "image/png": "[encoded data removed]",
            "text/plain": [
              "<matplotlib.figure.Figure at 0x7f7f85471940>"
            ]
          },
          "metadata": {
            "tags": []
          }
        }
      ]
    },
    {
      "metadata": {
        "id": "IoGW-XkYVs27",
        "colab_type": "code",
        "colab": {
          "base_uri": "https://localhost:8080/",
          "height": 51
        },
        "outputId": "5014b276-15f6-4488-ef19-a148539099b6"
      },
      "cell_type": "code",
      "source": [
        "scores = model_MLP.evaluate(X_train, y_train)\n",
        "print(\"%s: %.2f%%\" % (model_MLP.metrics_names[1], scores[1]*100))"
      ],
      "execution_count": 45,
      "outputs": [
        {
          "output_type": "stream",
          "text": [
            "49271/49271 [==============================] - 3s 67us/step\n",
            "acc: 89.10%\n"
          ],
          "name": "stdout"
        }
      ]
    },
    {
      "metadata": {
        "id": "KeZ5PiUBVs08",
        "colab_type": "code",
        "colab": {}
      },
      "cell_type": "code",
      "source": [
        "y_pred_class_MLP = model_MLP.predict_classes(X_test)"
      ],
      "execution_count": 0,
      "outputs": []
    },
    {
      "metadata": {
        "id": "Aqmj025hVsxK",
        "colab_type": "code",
        "colab": {
          "base_uri": "https://localhost:8080/",
          "height": 34
        },
        "outputId": "64e91ebe-4b91-4dfc-96ca-6b82ee868089"
      },
      "cell_type": "code",
      "source": [
        "from sklearn import metrics\n",
        "metrics.accuracy_score(y_test,y_pred_class_MLP)"
      ],
      "execution_count": 47,
      "outputs": [
        {
          "output_type": "execute_result",
          "data": {
            "text/plain": [
              "0.885046273745738"
            ]
          },
          "metadata": {
            "tags": []
          },
          "execution_count": 47
        }
      ]
    },
    {
      "metadata": {
        "id": "dfoG0ptddokl",
        "colab_type": "code",
        "colab": {}
      },
      "cell_type": "code",
      "source": [
        "# print the confusion matrix\n",
        "confusion_matrix_test_mlp=metrics.confusion_matrix(y_test,y_pred_class_MLP)"
      ],
      "execution_count": 0,
      "outputs": []
    },
    {
      "metadata": {
        "id": "B_PdQzMudoim",
        "colab_type": "code",
        "colab": {
          "base_uri": "https://localhost:8080/",
          "height": 68
        },
        "outputId": "c10bef3d-258b-4126-e03d-ec866f6e3301"
      },
      "cell_type": "code",
      "source": [
        "Accuracy_Test=(confusion_matrix_test_mlp[0,0]+confusion_matrix_test_mlp[1,1])/(confusion_matrix_test_mlp[0,0]+confusion_matrix_test_mlp[0,1]+confusion_matrix_test_mlp[1,0]+confusion_matrix_test_mlp[1,1])\n",
        "TNR_Test= confusion_matrix_test_mlp[0,0]/(confusion_matrix_test_mlp[0,0] +confusion_matrix_test_mlp[0,1])\n",
        "TPR_Test= confusion_matrix_test_mlp[1,1]/(confusion_matrix_test_mlp[1,0] +confusion_matrix_test_mlp[1,1])\n",
        "\n",
        "print(\"Test TNR: \",TNR_Test)\n",
        "print(\"Test TPR: \",TPR_Test)\n",
        "print(\"Test Accuracy: \",Accuracy_Test)"
      ],
      "execution_count": 49,
      "outputs": [
        {
          "output_type": "stream",
          "text": [
            "Test TNR:  0.9581594116477837\n",
            "Test TPR:  0.5589539007092199\n",
            "Test Accuracy:  0.885046273745738\n"
          ],
          "name": "stdout"
        }
      ]
    },
    {
      "metadata": {
        "id": "TpTsxweFoT5x",
        "colab_type": "text"
      },
      "cell_type": "markdown",
      "source": [
        "using grid search approach to find the best model"
      ]
    },
    {
      "metadata": {
        "id": "m78FjXPtoaME",
        "colab_type": "code",
        "colab": {}
      },
      "cell_type": "code",
      "source": [
        "from sklearn.model_selection import GridSearchCV\n",
        "from keras.wrappers.scikit_learn import KerasClassifier\n",
        "from keras import regularizers\n",
        "\n",
        "from sklearn.model_selection import StratifiedKFold\n",
        "from sklearn.model_selection import cross_val_score"
      ],
      "execution_count": 0,
      "outputs": []
    },
    {
      "metadata": {
        "id": "jkUmDRA-on_v",
        "colab_type": "code",
        "colab": {}
      },
      "cell_type": "code",
      "source": [
        "def create_model(init_mode, activation, kernel_regularizer, neurons, learn_rate):\n",
        "    \n",
        "#     # create model\n",
        "#     model = Sequential()\n",
        "#     model.add(Dense(4, input_dim=15, kernel_initializer=init_mode, activation='tanh'))\n",
        "#     model.add(Dense(1, kernel_initializer=init_mode, activation='sigmoid'))\n",
        "    \n",
        "#     # Compile model\n",
        "#     sgd=optimizers.SGD(0.001)\n",
        "#     model.compile(loss='binary_crossentropy', optimizer=sgd, metrics=['accuracy'])\n",
        "    \n",
        "    # create model\n",
        "    adam = optimizers.Adam(lr=learn_rate)\n",
        "    \n",
        "    \n",
        "    model_MLP = Sequential()\n",
        "    model_MLP.add(Dense(neurons,input_dim=input_dim, activation=activation, kernel_initializer=init_mode,kernel_regularizer=kernel_regularizer))\n",
        "    model_MLP.add(Dense(4, activation='relu', kernel_constraint=maxnorm(3)))\n",
        "    model_MLP.add(Dense(1,activation='sigmoid'))\n",
        "    \n",
        "    # compile model\n",
        "    model_MLP.compile(loss='binary_crossentropy', optimizer=adam, metrics=['accuracy'])\n",
        "    return model_MLP\n"
      ],
      "execution_count": 0,
      "outputs": []
    },
    {
      "metadata": {
        "id": "OlA1ipKHoswX",
        "colab_type": "code",
        "colab": {}
      },
      "cell_type": "code",
      "source": [
        "model = KerasClassifier(build_fn=create_model, epochs=25, verbose=1)"
      ],
      "execution_count": 0,
      "outputs": []
    },
    {
      "metadata": {
        "id": "5HYjDXQgdogj",
        "colab_type": "code",
        "colab": {
          "base_uri": "https://localhost:8080/",
          "height": 221
        },
        "outputId": "cd5c9e4f-9524-4f63-d53e-155e00ec2512"
      },
      "cell_type": "code",
      "source": [
        "init_mode = ['uniform', 'lecun_uniform']\n",
        "kernel_regularizer = ['l1', 'l2']\n",
        "activation = ['softmax', 'softplus', 'softsign', 'relu', 'tanh', 'sigmoid', 'linear']\n",
        "batch_size = [32, 64]\n",
        "learn_rate = [0.003, 0.006]\n",
        "# epochs=[20,30]\n",
        "neurons = [10, 14, 20]\n",
        "# batch_size=[32]\n",
        "param_grid = dict(init_mode=init_mode,\n",
        "                  kernel_regularizer = kernel_regularizer, \n",
        "                  batch_size=batch_size,\n",
        "                  activation = activation, \n",
        "                  learn_rate = learn_rate, neurons=neurons\n",
        "                 )\n",
        "param_grid"
      ],
      "execution_count": 63,
      "outputs": [
        {
          "output_type": "execute_result",
          "data": {
            "text/plain": [
              "{'activation': ['softmax',\n",
              "  'softplus',\n",
              "  'softsign',\n",
              "  'relu',\n",
              "  'tanh',\n",
              "  'sigmoid',\n",
              "  'linear'],\n",
              " 'batch_size': [32, 64],\n",
              " 'init_mode': ['uniform', 'lecun_uniform'],\n",
              " 'kernel_regularizer': ['l1', 'l2'],\n",
              " 'learn_rate': [0.003, 0.006],\n",
              " 'neurons': [10, 14, 20]}"
            ]
          },
          "metadata": {
            "tags": []
          },
          "execution_count": 63
        }
      ]
    },
    {
      "metadata": {
        "id": "5FI6ty0BdodO",
        "colab_type": "code",
        "colab": {
          "base_uri": "https://localhost:8080/",
          "height": 17309
        },
        "outputId": "3af64a85-89cf-40fd-9b78-1d2067ffaea4"
      },
      "cell_type": "code",
      "source": [
        "grid = GridSearchCV(estimator=model, param_grid=param_grid,scoring='f1')\n",
        "grid_result = grid.fit(X_train, y_train)"
      ],
      "execution_count": 0,
      "outputs": [
        {
          "output_type": "stream",
          "text": [
            "Epoch 1/25\n",
            "32847/32847 [==============================] - 10s 302us/step - loss: 0.4531 - acc: 0.8196\n",
            "Epoch 2/25\n",
            "32847/32847 [==============================] - 7s 220us/step - loss: 0.3637 - acc: 0.8571\n",
            "Epoch 3/25\n",
            "32847/32847 [==============================] - 7s 221us/step - loss: 0.3523 - acc: 0.8672\n",
            "Epoch 4/25\n",
            "32847/32847 [==============================] - 7s 222us/step - loss: 0.3496 - acc: 0.8704\n",
            "Epoch 5/25\n",
            "32847/32847 [==============================] - 7s 216us/step - loss: 0.3487 - acc: 0.8727\n",
            "Epoch 6/25\n",
            "32847/32847 [==============================] - 7s 218us/step - loss: 0.3487 - acc: 0.8730\n",
            "Epoch 7/25\n",
            "32847/32847 [==============================] - 7s 221us/step - loss: 0.3479 - acc: 0.8733\n",
            "Epoch 8/25\n",
            "32847/32847 [==============================] - 7s 219us/step - loss: 0.3469 - acc: 0.8733\n",
            "Epoch 9/25\n",
            "32847/32847 [==============================] - 7s 220us/step - loss: 0.3483 - acc: 0.8736\n",
            "Epoch 10/25\n",
            "32847/32847 [==============================] - 7s 218us/step - loss: 0.3469 - acc: 0.8726\n",
            "Epoch 11/25\n",
            "32847/32847 [==============================] - 7s 220us/step - loss: 0.3454 - acc: 0.8750\n",
            "Epoch 12/25\n",
            "32847/32847 [==============================] - 7s 218us/step - loss: 0.3474 - acc: 0.8747\n",
            "Epoch 13/25\n",
            "32847/32847 [==============================] - 7s 217us/step - loss: 0.3470 - acc: 0.8732\n",
            "Epoch 14/25\n",
            "32847/32847 [==============================] - 7s 217us/step - loss: 0.3460 - acc: 0.8742\n",
            "Epoch 15/25\n",
            "32847/32847 [==============================] - 7s 216us/step - loss: 0.3467 - acc: 0.8731\n",
            "Epoch 16/25\n",
            "32847/32847 [==============================] - 7s 219us/step - loss: 0.3467 - acc: 0.8743\n",
            "Epoch 17/25\n",
            "32847/32847 [==============================] - 7s 222us/step - loss: 0.3460 - acc: 0.8734\n",
            "Epoch 18/25\n",
            "32847/32847 [==============================] - 7s 221us/step - loss: 0.3473 - acc: 0.8732\n",
            "Epoch 19/25\n",
            "32847/32847 [==============================] - 7s 218us/step - loss: 0.3455 - acc: 0.8741\n",
            "Epoch 20/25\n",
            "32847/32847 [==============================] - 7s 217us/step - loss: 0.3469 - acc: 0.8734\n",
            "Epoch 21/25\n",
            "32847/32847 [==============================] - 7s 218us/step - loss: 0.3472 - acc: 0.8750\n",
            "Epoch 22/25\n",
            "32847/32847 [==============================] - 7s 217us/step - loss: 0.3449 - acc: 0.8744\n",
            "Epoch 23/25\n",
            "32847/32847 [==============================] - 7s 217us/step - loss: 0.3451 - acc: 0.8751\n",
            "Epoch 24/25\n",
            "32847/32847 [==============================] - 7s 217us/step - loss: 0.3468 - acc: 0.8753\n",
            "Epoch 25/25\n",
            "32847/32847 [==============================] - 7s 222us/step - loss: 0.3471 - acc: 0.8741\n",
            "16424/16424 [==============================] - 2s 116us/step\n",
            "32847/32847 [==============================] - 2s 52us/step\n",
            "Epoch 1/25\n",
            "32847/32847 [==============================] - 10s 300us/step - loss: 0.5204 - acc: 0.8150\n",
            "Epoch 2/25\n",
            "32847/32847 [==============================] - 7s 219us/step - loss: 0.4779 - acc: 0.8164\n",
            "Epoch 3/25\n",
            "32847/32847 [==============================] - 7s 217us/step - loss: 0.4779 - acc: 0.8164\n",
            "Epoch 4/25\n",
            "32847/32847 [==============================] - 7s 218us/step - loss: 0.4779 - acc: 0.8164\n",
            "Epoch 5/25\n",
            "32847/32847 [==============================] - 7s 217us/step - loss: 0.4779 - acc: 0.8164\n",
            "Epoch 6/25\n",
            "32847/32847 [==============================] - 7s 215us/step - loss: 0.4779 - acc: 0.8164\n",
            "Epoch 7/25\n",
            "32847/32847 [==============================] - 7s 216us/step - loss: 0.4779 - acc: 0.8164\n",
            "Epoch 8/25\n",
            "32847/32847 [==============================] - 7s 222us/step - loss: 0.4779 - acc: 0.8164\n",
            "Epoch 9/25\n",
            "32847/32847 [==============================] - 7s 219us/step - loss: 0.4779 - acc: 0.8164\n",
            "Epoch 10/25\n",
            "32847/32847 [==============================] - 7s 219us/step - loss: 0.4779 - acc: 0.8164\n",
            "Epoch 11/25\n",
            "32847/32847 [==============================] - 7s 217us/step - loss: 0.4779 - acc: 0.8164\n",
            "Epoch 12/25\n",
            "32847/32847 [==============================] - 7s 215us/step - loss: 0.4779 - acc: 0.8164\n",
            "Epoch 13/25\n",
            "32847/32847 [==============================] - 7s 219us/step - loss: 0.4779 - acc: 0.8164\n",
            "Epoch 14/25\n",
            "32847/32847 [==============================] - 7s 217us/step - loss: 0.4779 - acc: 0.8164\n",
            "Epoch 15/25\n",
            "32847/32847 [==============================] - 7s 216us/step - loss: 0.4779 - acc: 0.8164\n",
            "Epoch 16/25\n",
            "32847/32847 [==============================] - 7s 217us/step - loss: 0.4779 - acc: 0.8164\n",
            "Epoch 17/25\n",
            "32847/32847 [==============================] - 7s 217us/step - loss: 0.4779 - acc: 0.8164\n",
            "Epoch 18/25\n",
            "32847/32847 [==============================] - 7s 215us/step - loss: 0.4779 - acc: 0.8164\n",
            "Epoch 19/25\n",
            "32847/32847 [==============================] - 7s 218us/step - loss: 0.4779 - acc: 0.8164\n",
            "Epoch 20/25\n",
            "32847/32847 [==============================] - 7s 221us/step - loss: 0.4779 - acc: 0.8164\n",
            "Epoch 21/25\n",
            "32847/32847 [==============================] - 7s 223us/step - loss: 0.4779 - acc: 0.8164\n",
            "Epoch 22/25\n",
            "32847/32847 [==============================] - 7s 219us/step - loss: 0.4779 - acc: 0.8164\n",
            "Epoch 23/25\n",
            "32847/32847 [==============================] - 7s 219us/step - loss: 0.4779 - acc: 0.8164\n",
            "Epoch 24/25\n",
            "32847/32847 [==============================] - 7s 217us/step - loss: 0.4779 - acc: 0.8164\n",
            "Epoch 25/25\n",
            "32847/32847 [==============================] - 7s 219us/step - loss: 0.4779 - acc: 0.8164\n",
            "16424/16424 [==============================] - 2s 118us/step\n",
            " 2880/32847 [=>............................] - ETA: 1s"
          ],
          "name": "stdout"
        },
        {
          "output_type": "stream",
          "text": [
            "/usr/local/lib/python3.6/dist-packages/sklearn/metrics/classification.py:1135: UndefinedMetricWarning: F-score is ill-defined and being set to 0.0 due to no predicted samples.\n",
            "  'precision', 'predicted', average, warn_for)\n"
          ],
          "name": "stderr"
        },
        {
          "output_type": "stream",
          "text": [
            "32847/32847 [==============================] - 2s 52us/step\n",
            "Epoch 1/25\n",
            "32848/32848 [==============================] - 10s 298us/step - loss: 0.4651 - acc: 0.8186\n",
            "Epoch 2/25\n",
            "32848/32848 [==============================] - 7s 217us/step - loss: 0.3880 - acc: 0.8386\n",
            "Epoch 3/25\n",
            "32848/32848 [==============================] - 7s 216us/step - loss: 0.3769 - acc: 0.8514\n",
            "Epoch 4/25\n",
            "32848/32848 [==============================] - 7s 219us/step - loss: 0.3721 - acc: 0.8551\n",
            "Epoch 5/25\n",
            "32848/32848 [==============================] - 7s 216us/step - loss: 0.3684 - acc: 0.8581\n",
            "Epoch 6/25\n",
            "32848/32848 [==============================] - 7s 216us/step - loss: 0.3662 - acc: 0.8616\n",
            "Epoch 7/25\n",
            "32848/32848 [==============================] - 7s 219us/step - loss: 0.3654 - acc: 0.8618\n",
            "Epoch 8/25\n",
            "32848/32848 [==============================] - 7s 217us/step - loss: 0.3641 - acc: 0.8625\n",
            "Epoch 9/25\n",
            "32848/32848 [==============================] - 7s 218us/step - loss: 0.3633 - acc: 0.8648\n",
            "Epoch 10/25\n",
            "32848/32848 [==============================] - 7s 216us/step - loss: 0.3619 - acc: 0.8654\n",
            "Epoch 11/25\n",
            "32848/32848 [==============================] - 7s 219us/step - loss: 0.3616 - acc: 0.8661\n",
            "Epoch 12/25\n",
            "32848/32848 [==============================] - 7s 220us/step - loss: 0.3615 - acc: 0.8663\n",
            "Epoch 13/25\n",
            "32848/32848 [==============================] - 7s 218us/step - loss: 0.3615 - acc: 0.8663\n",
            "Epoch 14/25\n",
            "32848/32848 [==============================] - 7s 219us/step - loss: 0.3619 - acc: 0.8669\n",
            "Epoch 15/25\n",
            "32848/32848 [==============================] - 7s 218us/step - loss: 0.3614 - acc: 0.8672\n",
            "Epoch 16/25\n",
            "32848/32848 [==============================] - 7s 221us/step - loss: 0.3618 - acc: 0.8681\n",
            "Epoch 17/25\n",
            "32848/32848 [==============================] - 7s 219us/step - loss: 0.3608 - acc: 0.8672\n",
            "Epoch 18/25\n",
            "32848/32848 [==============================] - 7s 217us/step - loss: 0.3603 - acc: 0.8678\n",
            "Epoch 19/25\n",
            "32848/32848 [==============================] - 7s 217us/step - loss: 0.3606 - acc: 0.8675\n",
            "Epoch 20/25\n",
            "32848/32848 [==============================] - 7s 218us/step - loss: 0.3608 - acc: 0.8678\n",
            "Epoch 21/25\n",
            "32848/32848 [==============================] - 7s 217us/step - loss: 0.3608 - acc: 0.8685\n",
            "Epoch 22/25\n",
            "32848/32848 [==============================] - 7s 218us/step - loss: 0.3599 - acc: 0.8689\n",
            "Epoch 23/25\n",
            "32848/32848 [==============================] - 7s 216us/step - loss: 0.3611 - acc: 0.8696\n",
            "Epoch 24/25\n",
            "32848/32848 [==============================] - 7s 219us/step - loss: 0.3610 - acc: 0.8677\n",
            "Epoch 25/25\n",
            "32848/32848 [==============================] - 7s 220us/step - loss: 0.3599 - acc: 0.8692\n",
            "16423/16423 [==============================] - 2s 121us/step\n",
            "32848/32848 [==============================] - 2s 53us/step\n",
            "Epoch 1/25\n",
            "32847/32847 [==============================] - 10s 312us/step - loss: 0.5211 - acc: 0.8169\n",
            "Epoch 2/25\n",
            "32847/32847 [==============================] - 7s 219us/step - loss: 0.4764 - acc: 0.8178\n",
            "Epoch 3/25\n",
            "32847/32847 [==============================] - 7s 221us/step - loss: 0.4763 - acc: 0.8178\n",
            "Epoch 4/25\n",
            "32847/32847 [==============================] - 7s 219us/step - loss: 0.4763 - acc: 0.8178\n",
            "Epoch 5/25\n",
            "32847/32847 [==============================] - 7s 218us/step - loss: 0.4763 - acc: 0.8178\n",
            "Epoch 6/25\n",
            "32847/32847 [==============================] - 7s 220us/step - loss: 0.4763 - acc: 0.8178\n",
            "Epoch 7/25\n",
            "32847/32847 [==============================] - 7s 222us/step - loss: 0.4763 - acc: 0.8178\n",
            "Epoch 8/25\n",
            "32847/32847 [==============================] - 7s 219us/step - loss: 0.4763 - acc: 0.8178\n",
            "Epoch 9/25\n",
            "32847/32847 [==============================] - 7s 219us/step - loss: 0.4763 - acc: 0.8178\n",
            "Epoch 10/25\n",
            "32847/32847 [==============================] - 7s 219us/step - loss: 0.4763 - acc: 0.8178\n",
            "Epoch 11/25\n",
            "32847/32847 [==============================] - 7s 223us/step - loss: 0.4763 - acc: 0.8178\n",
            "Epoch 12/25\n",
            "32847/32847 [==============================] - 7s 226us/step - loss: 0.4763 - acc: 0.8178\n",
            "Epoch 13/25\n",
            "32847/32847 [==============================] - 7s 220us/step - loss: 0.4763 - acc: 0.8178\n",
            "Epoch 14/25\n",
            "32847/32847 [==============================] - 7s 220us/step - loss: 0.4763 - acc: 0.8178\n",
            "Epoch 15/25\n",
            "32847/32847 [==============================] - 7s 220us/step - loss: 0.4763 - acc: 0.8178\n",
            "Epoch 16/25\n",
            "32847/32847 [==============================] - 7s 220us/step - loss: 0.4763 - acc: 0.8178\n",
            "Epoch 17/25\n",
            "32847/32847 [==============================] - 7s 219us/step - loss: 0.4763 - acc: 0.8178\n",
            "Epoch 18/25\n",
            "32847/32847 [==============================] - 7s 219us/step - loss: 0.4763 - acc: 0.8178\n",
            "Epoch 19/25\n",
            "32847/32847 [==============================] - 7s 217us/step - loss: 0.4763 - acc: 0.8178\n",
            "Epoch 20/25\n",
            "32847/32847 [==============================] - 7s 214us/step - loss: 0.4763 - acc: 0.8178\n",
            "Epoch 21/25\n",
            "32847/32847 [==============================] - 7s 217us/step - loss: 0.4763 - acc: 0.8178\n",
            "Epoch 22/25\n",
            "32847/32847 [==============================] - 7s 218us/step - loss: 0.4763 - acc: 0.8178\n",
            "Epoch 23/25\n",
            "32847/32847 [==============================] - 7s 220us/step - loss: 0.4763 - acc: 0.8178\n",
            "Epoch 24/25\n",
            "32847/32847 [==============================] - 7s 219us/step - loss: 0.4763 - acc: 0.8178\n",
            "Epoch 25/25\n",
            "32847/32847 [==============================] - 7s 217us/step - loss: 0.4763 - acc: 0.8178\n",
            "16424/16424 [==============================] - 2s 123us/step\n",
            "32847/32847 [==============================] - 2s 52us/step\n",
            "Epoch 1/25\n",
            "32847/32847 [==============================] - 10s 304us/step - loss: 0.4871 - acc: 0.8164\n",
            "Epoch 2/25\n",
            "32847/32847 [==============================] - 7s 219us/step - loss: 0.4789 - acc: 0.8164\n",
            "Epoch 3/25\n",
            "32847/32847 [==============================] - 7s 220us/step - loss: 0.4367 - acc: 0.8295\n",
            "Epoch 4/25\n",
            "32847/32847 [==============================] - 7s 220us/step - loss: 0.3640 - acc: 0.8632\n",
            "Epoch 5/25\n",
            "32847/32847 [==============================] - 7s 220us/step - loss: 0.3607 - acc: 0.8690\n",
            "Epoch 6/25\n",
            "32847/32847 [==============================] - 7s 221us/step - loss: 0.3586 - acc: 0.8696\n",
            "Epoch 7/25\n",
            "32847/32847 [==============================] - 7s 217us/step - loss: 0.3576 - acc: 0.8711\n",
            "Epoch 8/25\n",
            "32847/32847 [==============================] - 7s 216us/step - loss: 0.3577 - acc: 0.8715\n",
            "Epoch 9/25\n",
            "32847/32847 [==============================] - 7s 217us/step - loss: 0.3561 - acc: 0.8708\n",
            "Epoch 10/25\n",
            "32847/32847 [==============================] - 7s 220us/step - loss: 0.3557 - acc: 0.8727\n",
            "Epoch 11/25\n",
            "32847/32847 [==============================] - 7s 216us/step - loss: 0.3543 - acc: 0.8733\n",
            "Epoch 12/25\n",
            "32847/32847 [==============================] - 7s 216us/step - loss: 0.3562 - acc: 0.8706\n",
            "Epoch 13/25\n",
            "32847/32847 [==============================] - 7s 217us/step - loss: 0.3540 - acc: 0.8725\n",
            "Epoch 14/25\n",
            "32847/32847 [==============================] - 7s 218us/step - loss: 0.3512 - acc: 0.8731\n",
            "Epoch 15/25\n",
            "32847/32847 [==============================] - 7s 216us/step - loss: 0.3487 - acc: 0.8742\n",
            "Epoch 16/25\n",
            "32847/32847 [==============================] - 7s 217us/step - loss: 0.3487 - acc: 0.8741\n",
            "Epoch 17/25\n",
            "32847/32847 [==============================] - 7s 217us/step - loss: 0.3454 - acc: 0.8750\n",
            "Epoch 18/25\n",
            "32847/32847 [==============================] - 7s 217us/step - loss: 0.3468 - acc: 0.8757\n",
            "Epoch 19/25\n",
            "32847/32847 [==============================] - 7s 218us/step - loss: 0.3461 - acc: 0.8753\n",
            "Epoch 20/25\n",
            "32847/32847 [==============================] - 7s 217us/step - loss: 0.3462 - acc: 0.8752\n",
            "Epoch 21/25\n",
            "32847/32847 [==============================] - 7s 219us/step - loss: 0.3462 - acc: 0.8762\n",
            "Epoch 22/25\n",
            "32847/32847 [==============================] - 7s 220us/step - loss: 0.3457 - acc: 0.8761\n",
            "Epoch 23/25\n",
            "32847/32847 [==============================] - 7s 227us/step - loss: 0.3445 - acc: 0.8755\n",
            "Epoch 24/25\n",
            "32847/32847 [==============================] - 7s 220us/step - loss: 0.3462 - acc: 0.8744\n",
            "Epoch 25/25\n",
            "32847/32847 [==============================] - 7s 219us/step - loss: 0.3446 - acc: 0.8745\n",
            "16424/16424 [==============================] - 2s 126us/step\n",
            "32847/32847 [==============================] - 2s 53us/step\n",
            "Epoch 1/25\n",
            "32848/32848 [==============================] - 10s 307us/step - loss: 0.5184 - acc: 0.8148\n",
            "Epoch 2/25\n",
            "32848/32848 [==============================] - 7s 224us/step - loss: 0.4749 - acc: 0.8187\n",
            "Epoch 3/25\n",
            "32848/32848 [==============================] - 7s 225us/step - loss: 0.4749 - acc: 0.8187\n",
            "Epoch 4/25\n",
            "32848/32848 [==============================] - 7s 219us/step - loss: 0.4749 - acc: 0.8187\n",
            "Epoch 5/25\n",
            "32848/32848 [==============================] - 7s 219us/step - loss: 0.4748 - acc: 0.8187\n",
            "Epoch 6/25\n",
            "32848/32848 [==============================] - 7s 217us/step - loss: 0.4749 - acc: 0.8187\n",
            "Epoch 7/25\n",
            "32848/32848 [==============================] - 7s 216us/step - loss: 0.4749 - acc: 0.8187\n",
            "Epoch 8/25\n",
            "32848/32848 [==============================] - 7s 220us/step - loss: 0.4749 - acc: 0.8187\n",
            "Epoch 9/25\n",
            "32848/32848 [==============================] - 7s 219us/step - loss: 0.4749 - acc: 0.8187\n",
            "Epoch 10/25\n",
            "32848/32848 [==============================] - 7s 220us/step - loss: 0.4749 - acc: 0.8187\n",
            "Epoch 11/25\n",
            "32848/32848 [==============================] - 7s 219us/step - loss: 0.4749 - acc: 0.8187\n",
            "Epoch 12/25\n",
            "32848/32848 [==============================] - 7s 221us/step - loss: 0.4749 - acc: 0.8187\n",
            "Epoch 13/25\n",
            "32848/32848 [==============================] - 7s 219us/step - loss: 0.4749 - acc: 0.8187\n",
            "Epoch 14/25\n",
            "32848/32848 [==============================] - 7s 219us/step - loss: 0.4749 - acc: 0.8187\n",
            "Epoch 15/25\n",
            "32848/32848 [==============================] - 7s 217us/step - loss: 0.4749 - acc: 0.8187\n",
            "Epoch 16/25\n",
            "32848/32848 [==============================] - 7s 217us/step - loss: 0.4749 - acc: 0.8187\n",
            "Epoch 17/25\n",
            "32848/32848 [==============================] - 7s 218us/step - loss: 0.4749 - acc: 0.8187\n",
            "Epoch 18/25\n",
            "32848/32848 [==============================] - 7s 219us/step - loss: 0.4748 - acc: 0.8187\n",
            "Epoch 19/25\n",
            "32848/32848 [==============================] - 7s 219us/step - loss: 0.4748 - acc: 0.8187\n",
            "Epoch 20/25\n",
            "32848/32848 [==============================] - 7s 216us/step - loss: 0.4749 - acc: 0.8187\n",
            "Epoch 21/25\n",
            "32848/32848 [==============================] - 7s 217us/step - loss: 0.4749 - acc: 0.8187\n",
            "Epoch 22/25\n",
            "32848/32848 [==============================] - 7s 220us/step - loss: 0.4749 - acc: 0.8187\n",
            "Epoch 23/25\n",
            "32848/32848 [==============================] - 7s 219us/step - loss: 0.4749 - acc: 0.8187\n",
            "Epoch 24/25\n",
            "32848/32848 [==============================] - 7s 219us/step - loss: 0.4749 - acc: 0.8187\n",
            "Epoch 25/25\n",
            "32848/32848 [==============================] - 7s 218us/step - loss: 0.4748 - acc: 0.8187\n",
            "16423/16423 [==============================] - 2s 131us/step\n",
            "32848/32848 [==============================] - 2s 55us/step\n",
            "Epoch 1/25\n",
            "32847/32847 [==============================] - 10s 319us/step - loss: 0.4927 - acc: 0.8144\n",
            "Epoch 2/25\n",
            "32847/32847 [==============================] - 7s 220us/step - loss: 0.4772 - acc: 0.8178\n",
            "Epoch 3/25\n",
            "32847/32847 [==============================] - 7s 220us/step - loss: 0.4771 - acc: 0.8178\n",
            "Epoch 4/25\n",
            "32847/32847 [==============================] - 7s 223us/step - loss: 0.4772 - acc: 0.8178\n",
            "Epoch 5/25\n",
            "32847/32847 [==============================] - 7s 219us/step - loss: 0.4772 - acc: 0.8178\n",
            "Epoch 6/25\n",
            "32847/32847 [==============================] - 7s 218us/step - loss: 0.4772 - acc: 0.8178\n",
            "Epoch 7/25\n",
            "32847/32847 [==============================] - 7s 218us/step - loss: 0.4772 - acc: 0.8178\n",
            "Epoch 8/25\n",
            "32847/32847 [==============================] - 7s 221us/step - loss: 0.4772 - acc: 0.8178\n",
            "Epoch 9/25\n",
            "32847/32847 [==============================] - 7s 221us/step - loss: 0.4773 - acc: 0.8178\n",
            "Epoch 10/25\n",
            "32847/32847 [==============================] - 7s 220us/step - loss: 0.4773 - acc: 0.8178\n",
            "Epoch 11/25\n",
            "32847/32847 [==============================] - 7s 220us/step - loss: 0.4773 - acc: 0.8178\n",
            "Epoch 12/25\n",
            "32847/32847 [==============================] - 7s 221us/step - loss: 0.4772 - acc: 0.8178\n",
            "Epoch 13/25\n",
            "32847/32847 [==============================] - 7s 222us/step - loss: 0.4773 - acc: 0.8178\n",
            "Epoch 14/25\n",
            "32847/32847 [==============================] - 7s 220us/step - loss: 0.4774 - acc: 0.8178\n",
            "Epoch 15/25\n",
            "32847/32847 [==============================] - 7s 219us/step - loss: 0.4772 - acc: 0.8178\n",
            "Epoch 16/25\n",
            "32847/32847 [==============================] - 7s 219us/step - loss: 0.4773 - acc: 0.8178\n",
            "Epoch 17/25\n",
            "32847/32847 [==============================] - 7s 221us/step - loss: 0.4772 - acc: 0.8178\n",
            "Epoch 18/25\n",
            "32847/32847 [==============================] - 7s 219us/step - loss: 0.4773 - acc: 0.8178\n",
            "Epoch 19/25\n",
            "32847/32847 [==============================] - 7s 223us/step - loss: 0.4773 - acc: 0.8178\n",
            "Epoch 20/25\n",
            "32847/32847 [==============================] - 7s 224us/step - loss: 0.4773 - acc: 0.8178\n",
            "Epoch 21/25\n",
            "32847/32847 [==============================] - 7s 220us/step - loss: 0.4772 - acc: 0.8178\n",
            "Epoch 22/25\n",
            "32847/32847 [==============================] - 7s 220us/step - loss: 0.4771 - acc: 0.8178\n",
            "Epoch 23/25\n",
            "32847/32847 [==============================] - 7s 218us/step - loss: 0.4773 - acc: 0.8178\n",
            "Epoch 24/25\n",
            "32847/32847 [==============================] - 7s 220us/step - loss: 0.4773 - acc: 0.8178\n",
            "Epoch 25/25\n",
            "32847/32847 [==============================] - 7s 219us/step - loss: 0.4773 - acc: 0.8178\n",
            "16424/16424 [==============================] - 2s 129us/step\n",
            "32847/32847 [==============================] - 2s 55us/step\n",
            "Epoch 1/25\n",
            "32847/32847 [==============================] - 10s 311us/step - loss: 0.4860 - acc: 0.8164\n",
            "Epoch 2/25\n",
            "32847/32847 [==============================] - 7s 218us/step - loss: 0.4794 - acc: 0.8164\n",
            "Epoch 3/25\n",
            "32847/32847 [==============================] - 7s 218us/step - loss: 0.4794 - acc: 0.8164\n",
            "Epoch 4/25\n",
            "32847/32847 [==============================] - 7s 220us/step - loss: 0.4793 - acc: 0.8164\n",
            "Epoch 5/25\n",
            "32847/32847 [==============================] - 7s 218us/step - loss: 0.4795 - acc: 0.8164\n",
            "Epoch 6/25\n",
            "32847/32847 [==============================] - 7s 224us/step - loss: 0.4794 - acc: 0.8164\n",
            "Epoch 7/25\n",
            "32847/32847 [==============================] - 7s 223us/step - loss: 0.4793 - acc: 0.8164\n",
            "Epoch 8/25\n",
            "32847/32847 [==============================] - 7s 221us/step - loss: 0.4795 - acc: 0.8164\n",
            "Epoch 9/25\n",
            "32847/32847 [==============================] - 7s 218us/step - loss: 0.4792 - acc: 0.8164\n",
            "Epoch 10/25\n",
            "32847/32847 [==============================] - 7s 225us/step - loss: 0.4796 - acc: 0.8164\n",
            "Epoch 11/25\n",
            "32847/32847 [==============================] - 7s 224us/step - loss: 0.4388 - acc: 0.8189\n",
            "Epoch 12/25\n",
            "32847/32847 [==============================] - 7s 224us/step - loss: 0.3873 - acc: 0.8432\n",
            "Epoch 13/25\n",
            "32847/32847 [==============================] - 7s 223us/step - loss: 0.3779 - acc: 0.8526\n",
            "Epoch 14/25\n",
            "32847/32847 [==============================] - 7s 222us/step - loss: 0.3738 - acc: 0.8566\n",
            "Epoch 15/25\n",
            "32847/32847 [==============================] - 7s 216us/step - loss: 0.3702 - acc: 0.8600\n",
            "Epoch 16/25\n",
            "32847/32847 [==============================] - 7s 222us/step - loss: 0.3689 - acc: 0.8606\n",
            "Epoch 17/25\n",
            "32847/32847 [==============================] - 7s 220us/step - loss: 0.3681 - acc: 0.8611\n",
            "Epoch 18/25\n",
            "32847/32847 [==============================] - 7s 222us/step - loss: 0.3659 - acc: 0.8647\n",
            "Epoch 19/25\n",
            "32847/32847 [==============================] - 7s 222us/step - loss: 0.3658 - acc: 0.8643\n",
            "Epoch 20/25\n",
            "32847/32847 [==============================] - 7s 223us/step - loss: 0.3659 - acc: 0.8647\n",
            "Epoch 21/25\n",
            "32847/32847 [==============================] - 7s 221us/step - loss: 0.3647 - acc: 0.8660\n",
            "Epoch 22/25\n",
            "32847/32847 [==============================] - 7s 222us/step - loss: 0.3651 - acc: 0.8663\n",
            "Epoch 23/25\n",
            "32847/32847 [==============================] - 7s 216us/step - loss: 0.3656 - acc: 0.8671\n",
            "Epoch 24/25\n",
            "32847/32847 [==============================] - 7s 221us/step - loss: 0.3657 - acc: 0.8674\n",
            "Epoch 25/25\n",
            "32847/32847 [==============================] - 7s 223us/step - loss: 0.3639 - acc: 0.8675\n",
            "16424/16424 [==============================] - 2s 137us/step\n",
            "32847/32847 [==============================] - 2s 56us/step\n",
            "Epoch 1/25\n",
            "32848/32848 [==============================] - 11s 321us/step - loss: 0.5177 - acc: 0.8176\n",
            "Epoch 2/25\n",
            "32848/32848 [==============================] - 7s 228us/step - loss: 0.4756 - acc: 0.8187\n",
            "Epoch 3/25\n",
            "32848/32848 [==============================] - 7s 227us/step - loss: 0.4755 - acc: 0.8187\n",
            "Epoch 4/25\n",
            "32848/32848 [==============================] - 7s 225us/step - loss: 0.4755 - acc: 0.8187\n",
            "Epoch 5/25\n",
            "32848/32848 [==============================] - 7s 223us/step - loss: 0.4755 - acc: 0.8187\n",
            "Epoch 6/25\n",
            "32848/32848 [==============================] - 7s 224us/step - loss: 0.4756 - acc: 0.8187\n",
            "Epoch 7/25\n",
            "32848/32848 [==============================] - 7s 224us/step - loss: 0.4756 - acc: 0.8187\n",
            "Epoch 8/25\n",
            "32848/32848 [==============================] - 7s 224us/step - loss: 0.4756 - acc: 0.8187\n",
            "Epoch 9/25\n",
            "32848/32848 [==============================] - 7s 227us/step - loss: 0.4756 - acc: 0.8187\n",
            "Epoch 10/25\n",
            "32848/32848 [==============================] - 7s 228us/step - loss: 0.4755 - acc: 0.8187\n",
            "Epoch 11/25\n",
            "32848/32848 [==============================] - 8s 228us/step - loss: 0.4756 - acc: 0.8187\n",
            "Epoch 12/25\n",
            "32848/32848 [==============================] - 7s 222us/step - loss: 0.4755 - acc: 0.8187\n",
            "Epoch 13/25\n",
            "32848/32848 [==============================] - 7s 224us/step - loss: 0.4756 - acc: 0.8187\n",
            "Epoch 14/25\n",
            "32848/32848 [==============================] - 7s 227us/step - loss: 0.4756 - acc: 0.8187\n",
            "Epoch 15/25\n",
            "32848/32848 [==============================] - 7s 227us/step - loss: 0.4756 - acc: 0.8187\n",
            "Epoch 16/25\n",
            "32848/32848 [==============================] - 7s 226us/step - loss: 0.4756 - acc: 0.8187\n",
            "Epoch 17/25\n",
            "32848/32848 [==============================] - 7s 226us/step - loss: 0.4756 - acc: 0.8187\n",
            "Epoch 18/25\n",
            "32848/32848 [==============================] - 7s 227us/step - loss: 0.4756 - acc: 0.8187\n",
            "Epoch 19/25\n",
            "32848/32848 [==============================] - 7s 226us/step - loss: 0.4755 - acc: 0.8187\n",
            "Epoch 20/25\n",
            "32848/32848 [==============================] - 7s 224us/step - loss: 0.4756 - acc: 0.8187\n",
            "Epoch 21/25\n",
            "32848/32848 [==============================] - 7s 222us/step - loss: 0.4756 - acc: 0.8187\n",
            "Epoch 22/25\n",
            "32848/32848 [==============================] - 7s 226us/step - loss: 0.4756 - acc: 0.8187\n",
            "Epoch 23/25\n",
            "32848/32848 [==============================] - 7s 224us/step - loss: 0.4756 - acc: 0.8187\n",
            "Epoch 24/25\n",
            "32848/32848 [==============================] - 7s 226us/step - loss: 0.4756 - acc: 0.8187\n",
            "Epoch 25/25\n",
            "32848/32848 [==============================] - 8s 229us/step - loss: 0.4755 - acc: 0.8187\n",
            "16423/16423 [==============================] - 2s 138us/step\n",
            "32848/32848 [==============================] - 2s 57us/step\n",
            "Epoch 1/25\n",
            "32847/32847 [==============================] - 11s 322us/step - loss: 0.4395 - acc: 0.8206\n",
            "Epoch 2/25\n",
            "32847/32847 [==============================] - 7s 224us/step - loss: 0.3827 - acc: 0.8561\n",
            "Epoch 3/25\n",
            "32847/32847 [==============================] - 7s 225us/step - loss: 0.3707 - acc: 0.8638\n",
            "Epoch 4/25\n",
            "32847/32847 [==============================] - 7s 224us/step - loss: 0.3698 - acc: 0.8659\n",
            "Epoch 5/25\n",
            "32847/32847 [==============================] - 7s 226us/step - loss: 0.3683 - acc: 0.8682\n",
            "Epoch 6/25\n",
            "32847/32847 [==============================] - 7s 225us/step - loss: 0.3662 - acc: 0.8702\n",
            "Epoch 7/25\n",
            "32847/32847 [==============================] - 7s 224us/step - loss: 0.3656 - acc: 0.8712\n",
            "Epoch 8/25\n",
            "32847/32847 [==============================] - 7s 226us/step - loss: 0.3650 - acc: 0.8697\n",
            "Epoch 9/25\n",
            "32847/32847 [==============================] - 7s 224us/step - loss: 0.3665 - acc: 0.8693\n",
            "Epoch 10/25\n",
            "32847/32847 [==============================] - 7s 224us/step - loss: 0.3659 - acc: 0.8706\n",
            "Epoch 11/25\n",
            "32847/32847 [==============================] - 7s 224us/step - loss: 0.3647 - acc: 0.8716\n",
            "Epoch 12/25\n",
            "32847/32847 [==============================] - 7s 223us/step - loss: 0.3638 - acc: 0.8706\n",
            "Epoch 13/25\n",
            "32847/32847 [==============================] - 7s 223us/step - loss: 0.3649 - acc: 0.8722\n",
            "Epoch 14/25\n",
            "32847/32847 [==============================] - 7s 223us/step - loss: 0.3639 - acc: 0.8724\n",
            "Epoch 15/25\n",
            "32847/32847 [==============================] - 7s 224us/step - loss: 0.3654 - acc: 0.8703\n",
            "Epoch 16/25\n",
            "32847/32847 [==============================] - 7s 223us/step - loss: 0.3635 - acc: 0.8702\n",
            "Epoch 17/25\n",
            "32847/32847 [==============================] - 7s 221us/step - loss: 0.3661 - acc: 0.8717\n",
            "Epoch 18/25\n",
            "32847/32847 [==============================] - 7s 222us/step - loss: 0.3641 - acc: 0.8723\n",
            "Epoch 19/25\n",
            "32847/32847 [==============================] - 7s 223us/step - loss: 0.3639 - acc: 0.8729\n",
            "Epoch 20/25\n",
            "32847/32847 [==============================] - 7s 224us/step - loss: 0.3636 - acc: 0.8722\n",
            "Epoch 21/25\n",
            "32847/32847 [==============================] - 7s 224us/step - loss: 0.3632 - acc: 0.8730\n",
            "Epoch 22/25\n",
            "32847/32847 [==============================] - 7s 225us/step - loss: 0.3614 - acc: 0.8718\n",
            "Epoch 23/25\n",
            "32847/32847 [==============================] - 7s 223us/step - loss: 0.3642 - acc: 0.8729\n",
            "Epoch 24/25\n",
            "32847/32847 [==============================] - 7s 224us/step - loss: 0.3603 - acc: 0.8730\n",
            "Epoch 25/25\n",
            "32847/32847 [==============================] - 7s 223us/step - loss: 0.3617 - acc: 0.8722\n",
            "16424/16424 [==============================] - 2s 139us/step\n",
            "32847/32847 [==============================] - 2s 60us/step\n",
            "Epoch 1/25\n",
            "32847/32847 [==============================] - 11s 326us/step - loss: 0.4926 - acc: 0.8109\n",
            "Epoch 2/25\n",
            "32847/32847 [==============================] - 7s 220us/step - loss: 0.4794 - acc: 0.8164\n",
            "Epoch 3/25\n",
            "32847/32847 [==============================] - 7s 221us/step - loss: 0.4795 - acc: 0.8164\n",
            "Epoch 4/25\n",
            "32847/32847 [==============================] - 7s 222us/step - loss: 0.4299 - acc: 0.8238\n",
            "Epoch 5/25\n",
            "32847/32847 [==============================] - 7s 223us/step - loss: 0.3853 - acc: 0.8564\n",
            "Epoch 6/25\n",
            "32847/32847 [==============================] - 7s 223us/step - loss: 0.3757 - acc: 0.8631\n",
            "Epoch 7/25\n",
            "32847/32847 [==============================] - 7s 222us/step - loss: 0.3718 - acc: 0.8667\n",
            "Epoch 8/25\n",
            "32847/32847 [==============================] - 7s 221us/step - loss: 0.3710 - acc: 0.8678\n",
            "Epoch 9/25\n",
            "32847/32847 [==============================] - 7s 222us/step - loss: 0.3711 - acc: 0.8703\n",
            "Epoch 10/25\n",
            "32847/32847 [==============================] - 7s 221us/step - loss: 0.3707 - acc: 0.8697\n",
            "Epoch 11/25\n",
            "32847/32847 [==============================] - 7s 223us/step - loss: 0.3695 - acc: 0.8716\n",
            "Epoch 12/25\n",
            "32847/32847 [==============================] - 7s 223us/step - loss: 0.3681 - acc: 0.8719\n",
            "Epoch 13/25\n",
            "32847/32847 [==============================] - 7s 224us/step - loss: 0.3680 - acc: 0.8713\n",
            "Epoch 14/25\n",
            "32847/32847 [==============================] - 7s 224us/step - loss: 0.3683 - acc: 0.8717\n",
            "Epoch 15/25\n",
            "32847/32847 [==============================] - 7s 223us/step - loss: 0.3670 - acc: 0.8723\n",
            "Epoch 16/25\n",
            "32847/32847 [==============================] - 7s 221us/step - loss: 0.3658 - acc: 0.8708\n",
            "Epoch 17/25\n",
            "32847/32847 [==============================] - 7s 222us/step - loss: 0.3673 - acc: 0.8727\n",
            "Epoch 18/25\n",
            "32847/32847 [==============================] - 7s 222us/step - loss: 0.3670 - acc: 0.8737\n",
            "Epoch 19/25\n",
            "32847/32847 [==============================] - 7s 222us/step - loss: 0.3683 - acc: 0.8708\n",
            "Epoch 20/25\n",
            "32847/32847 [==============================] - 7s 223us/step - loss: 0.3670 - acc: 0.8720\n",
            "Epoch 21/25\n",
            "32847/32847 [==============================] - 7s 221us/step - loss: 0.3659 - acc: 0.8718\n",
            "Epoch 22/25\n",
            "32847/32847 [==============================] - 7s 225us/step - loss: 0.3650 - acc: 0.8721\n",
            "Epoch 23/25\n",
            "32847/32847 [==============================] - 7s 224us/step - loss: 0.3637 - acc: 0.8720\n",
            "Epoch 24/25\n",
            "32847/32847 [==============================] - 7s 224us/step - loss: 0.3652 - acc: 0.8721\n",
            "Epoch 25/25\n",
            "32847/32847 [==============================] - 7s 225us/step - loss: 0.3640 - acc: 0.8721\n",
            "16424/16424 [==============================] - 2s 140us/step\n",
            "32847/32847 [==============================] - 2s 57us/step\n",
            "Epoch 1/25\n",
            "32848/32848 [==============================] - 11s 324us/step - loss: 0.4968 - acc: 0.8187\n",
            "Epoch 2/25\n",
            "32848/32848 [==============================] - 7s 226us/step - loss: 0.4758 - acc: 0.8187\n",
            "Epoch 3/25\n",
            "32848/32848 [==============================] - 7s 224us/step - loss: 0.4758 - acc: 0.8187\n",
            "Epoch 4/25\n",
            "32848/32848 [==============================] - 7s 226us/step - loss: 0.4758 - acc: 0.8187\n",
            "Epoch 5/25\n",
            "32848/32848 [==============================] - 7s 225us/step - loss: 0.4758 - acc: 0.8187\n",
            "Epoch 6/25\n",
            "32848/32848 [==============================] - 7s 223us/step - loss: 0.4759 - acc: 0.8187\n",
            "Epoch 7/25\n",
            "32848/32848 [==============================] - 7s 222us/step - loss: 0.4758 - acc: 0.8187\n",
            "Epoch 8/25\n",
            "32848/32848 [==============================] - 7s 222us/step - loss: 0.4758 - acc: 0.8187\n",
            "Epoch 9/25\n",
            "32848/32848 [==============================] - 7s 228us/step - loss: 0.4759 - acc: 0.8187\n",
            "Epoch 10/25\n",
            "32848/32848 [==============================] - 7s 224us/step - loss: 0.4759 - acc: 0.8187\n",
            "Epoch 11/25\n",
            "32848/32848 [==============================] - 7s 224us/step - loss: 0.4758 - acc: 0.8187\n",
            "Epoch 12/25\n",
            "32848/32848 [==============================] - 7s 223us/step - loss: 0.4758 - acc: 0.8187\n",
            "Epoch 13/25\n",
            "32848/32848 [==============================] - 7s 222us/step - loss: 0.4759 - acc: 0.8187\n",
            "Epoch 14/25\n",
            "32848/32848 [==============================] - 7s 223us/step - loss: 0.4759 - acc: 0.8187\n",
            "Epoch 15/25\n",
            "32848/32848 [==============================] - 7s 227us/step - loss: 0.4759 - acc: 0.8187\n",
            "Epoch 16/25\n",
            "32848/32848 [==============================] - 7s 228us/step - loss: 0.4759 - acc: 0.8187\n",
            "Epoch 17/25\n",
            "32848/32848 [==============================] - 8s 229us/step - loss: 0.4759 - acc: 0.8187\n",
            "Epoch 18/25\n",
            "32848/32848 [==============================] - 7s 223us/step - loss: 0.4758 - acc: 0.8187\n",
            "Epoch 19/25\n",
            "32848/32848 [==============================] - 7s 224us/step - loss: 0.4758 - acc: 0.8187\n",
            "Epoch 20/25\n",
            "32848/32848 [==============================] - 7s 224us/step - loss: 0.4759 - acc: 0.8187\n",
            "Epoch 21/25\n",
            "32848/32848 [==============================] - 7s 223us/step - loss: 0.4758 - acc: 0.8187\n",
            "Epoch 22/25\n",
            "32848/32848 [==============================] - 7s 222us/step - loss: 0.4758 - acc: 0.8187\n",
            "Epoch 23/25\n",
            "32848/32848 [==============================] - 7s 221us/step - loss: 0.4759 - acc: 0.8187\n",
            "Epoch 24/25\n",
            "32848/32848 [==============================] - 7s 222us/step - loss: 0.4758 - acc: 0.8187\n",
            "Epoch 25/25\n",
            "32848/32848 [==============================] - 7s 222us/step - loss: 0.4758 - acc: 0.8187\n",
            "16423/16423 [==============================] - 2s 142us/step\n",
            "32848/32848 [==============================] - 2s 58us/step\n",
            "Epoch 1/25\n",
            "32847/32847 [==============================] - 11s 326us/step - loss: 0.4387 - acc: 0.8270\n",
            "Epoch 2/25\n",
            "32847/32847 [==============================] - 7s 223us/step - loss: 0.3847 - acc: 0.8547\n",
            "Epoch 3/25\n",
            "32847/32847 [==============================] - 7s 225us/step - loss: 0.3758 - acc: 0.8605\n",
            "Epoch 4/25\n",
            "32847/32847 [==============================] - 7s 222us/step - loss: 0.3742 - acc: 0.8639\n",
            "Epoch 5/25\n",
            "32847/32847 [==============================] - 7s 222us/step - loss: 0.3721 - acc: 0.8665\n",
            "Epoch 6/25\n",
            "32847/32847 [==============================] - 7s 222us/step - loss: 0.3728 - acc: 0.8676\n",
            "Epoch 7/25\n",
            "32847/32847 [==============================] - 7s 225us/step - loss: 0.3706 - acc: 0.8683\n",
            "Epoch 8/25\n",
            "32847/32847 [==============================] - 7s 224us/step - loss: 0.3709 - acc: 0.8663\n",
            "Epoch 9/25\n",
            "32847/32847 [==============================] - 7s 224us/step - loss: 0.3720 - acc: 0.8672\n",
            "Epoch 10/25\n",
            "32847/32847 [==============================] - 7s 222us/step - loss: 0.3735 - acc: 0.8686\n",
            "Epoch 11/25\n",
            "32847/32847 [==============================] - 7s 224us/step - loss: 0.3722 - acc: 0.8696\n",
            "Epoch 12/25\n",
            "32847/32847 [==============================] - 7s 224us/step - loss: 0.3715 - acc: 0.8698\n",
            "Epoch 13/25\n",
            "32847/32847 [==============================] - 7s 223us/step - loss: 0.3710 - acc: 0.8691\n",
            "Epoch 14/25\n",
            "32847/32847 [==============================] - 7s 225us/step - loss: 0.3702 - acc: 0.8688\n",
            "Epoch 15/25\n",
            "32847/32847 [==============================] - 7s 223us/step - loss: 0.3717 - acc: 0.8701\n",
            "Epoch 16/25\n",
            "32847/32847 [==============================] - 7s 223us/step - loss: 0.3718 - acc: 0.8694\n",
            "Epoch 17/25\n",
            "32847/32847 [==============================] - 7s 225us/step - loss: 0.3701 - acc: 0.8688\n",
            "Epoch 18/25\n",
            "32847/32847 [==============================] - 7s 224us/step - loss: 0.3723 - acc: 0.8691\n",
            "Epoch 19/25\n",
            "32847/32847 [==============================] - 7s 215us/step - loss: 0.3715 - acc: 0.8688\n",
            "Epoch 20/25\n",
            "32847/32847 [==============================] - 7s 222us/step - loss: 0.3705 - acc: 0.8695\n",
            "Epoch 21/25\n",
            "32847/32847 [==============================] - 7s 223us/step - loss: 0.3728 - acc: 0.8706\n",
            "Epoch 22/25\n",
            "32847/32847 [==============================] - 7s 226us/step - loss: 0.3701 - acc: 0.8696\n",
            "Epoch 23/25\n",
            "32847/32847 [==============================] - 7s 224us/step - loss: 0.3712 - acc: 0.8689\n",
            "Epoch 24/25\n",
            "32847/32847 [==============================] - 7s 225us/step - loss: 0.3700 - acc: 0.8709\n",
            "Epoch 25/25\n",
            "32847/32847 [==============================] - 7s 225us/step - loss: 0.3719 - acc: 0.8704\n",
            "16424/16424 [==============================] - 2s 146us/step\n",
            "32847/32847 [==============================] - 2s 58us/step\n",
            "Epoch 1/25\n",
            "32847/32847 [==============================] - 11s 333us/step - loss: 0.4862 - acc: 0.8164\n",
            "Epoch 2/25\n",
            "32847/32847 [==============================] - 7s 224us/step - loss: 0.4460 - acc: 0.8205\n",
            "Epoch 3/25\n",
            "32847/32847 [==============================] - 7s 228us/step - loss: 0.3872 - acc: 0.8524\n",
            "Epoch 4/25\n",
            "32847/32847 [==============================] - 7s 228us/step - loss: 0.3793 - acc: 0.8611\n",
            "Epoch 5/25\n",
            "32847/32847 [==============================] - 7s 228us/step - loss: 0.3777 - acc: 0.8628\n",
            "Epoch 6/25\n",
            "32847/32847 [==============================] - 8s 230us/step - loss: 0.3749 - acc: 0.8642\n",
            "Epoch 7/25\n",
            "32847/32847 [==============================] - 8s 230us/step - loss: 0.3758 - acc: 0.8639\n",
            "Epoch 8/25\n",
            "32847/32847 [==============================] - 7s 226us/step - loss: 0.3745 - acc: 0.8660\n",
            "Epoch 9/25\n",
            "32847/32847 [==============================] - 7s 227us/step - loss: 0.3747 - acc: 0.8652\n",
            "Epoch 10/25\n",
            "32847/32847 [==============================] - 7s 224us/step - loss: 0.3747 - acc: 0.8662\n",
            "Epoch 11/25\n",
            "32847/32847 [==============================] - 7s 224us/step - loss: 0.3733 - acc: 0.8662\n",
            "Epoch 12/25\n",
            "32847/32847 [==============================] - 7s 226us/step - loss: 0.3737 - acc: 0.8660\n",
            "Epoch 13/25\n",
            "32847/32847 [==============================] - 7s 227us/step - loss: 0.3745 - acc: 0.8662\n",
            "Epoch 14/25\n",
            "32847/32847 [==============================] - 8s 229us/step - loss: 0.3735 - acc: 0.8678\n",
            "Epoch 15/25\n",
            "32847/32847 [==============================] - 7s 224us/step - loss: 0.3740 - acc: 0.8672\n",
            "Epoch 16/25\n",
            "32847/32847 [==============================] - 7s 223us/step - loss: 0.3728 - acc: 0.8673\n",
            "Epoch 17/25\n",
            "32847/32847 [==============================] - 7s 224us/step - loss: 0.3728 - acc: 0.8678\n",
            "Epoch 18/25\n",
            "32847/32847 [==============================] - 7s 227us/step - loss: 0.3733 - acc: 0.8660\n",
            "Epoch 19/25\n",
            "32847/32847 [==============================] - 7s 223us/step - loss: 0.3752 - acc: 0.8670\n",
            "Epoch 20/25\n",
            "32847/32847 [==============================] - 7s 224us/step - loss: 0.3727 - acc: 0.8676\n",
            "Epoch 21/25\n",
            "32847/32847 [==============================] - 7s 223us/step - loss: 0.3746 - acc: 0.8661\n",
            "Epoch 22/25\n",
            "32847/32847 [==============================] - 7s 223us/step - loss: 0.3743 - acc: 0.8656\n",
            "Epoch 23/25\n",
            "32847/32847 [==============================] - 7s 224us/step - loss: 0.3747 - acc: 0.8670\n",
            "Epoch 24/25\n",
            "32847/32847 [==============================] - 7s 223us/step - loss: 0.3736 - acc: 0.8685\n",
            "Epoch 25/25\n",
            "32847/32847 [==============================] - 7s 224us/step - loss: 0.3726 - acc: 0.8675\n",
            "16424/16424 [==============================] - 2s 147us/step\n",
            "32847/32847 [==============================] - 2s 59us/step\n",
            "Epoch 1/25\n",
            "32848/32848 [==============================] - 11s 335us/step - loss: 0.4228 - acc: 0.8404\n",
            "Epoch 2/25\n",
            "32848/32848 [==============================] - 7s 226us/step - loss: 0.3646 - acc: 0.8689\n",
            "Epoch 3/25\n",
            "32848/32848 [==============================] - 7s 228us/step - loss: 0.3611 - acc: 0.8694\n",
            "Epoch 4/25\n",
            "32848/32848 [==============================] - 7s 225us/step - loss: 0.3605 - acc: 0.8705\n",
            "Epoch 5/25\n",
            "32848/32848 [==============================] - 7s 228us/step - loss: 0.3602 - acc: 0.8720\n",
            "Epoch 6/25\n",
            "32848/32848 [==============================] - 7s 226us/step - loss: 0.3587 - acc: 0.8722\n",
            "Epoch 7/25\n",
            "32848/32848 [==============================] - 7s 226us/step - loss: 0.3561 - acc: 0.8739\n",
            "Epoch 8/25\n",
            "32848/32848 [==============================] - 7s 224us/step - loss: 0.3605 - acc: 0.8723\n",
            "Epoch 9/25\n",
            "32848/32848 [==============================] - 7s 225us/step - loss: 0.3584 - acc: 0.8722\n",
            "Epoch 10/25\n",
            "32848/32848 [==============================] - 7s 224us/step - loss: 0.3593 - acc: 0.8734\n",
            "Epoch 11/25\n",
            "32848/32848 [==============================] - 7s 225us/step - loss: 0.3584 - acc: 0.8740\n",
            "Epoch 12/25\n",
            "32848/32848 [==============================] - 7s 226us/step - loss: 0.3567 - acc: 0.8746\n",
            "Epoch 13/25\n",
            "32848/32848 [==============================] - 7s 224us/step - loss: 0.3563 - acc: 0.8738\n",
            "Epoch 14/25\n",
            "32848/32848 [==============================] - 7s 225us/step - loss: 0.3587 - acc: 0.8744\n",
            "Epoch 15/25\n",
            "32848/32848 [==============================] - 7s 225us/step - loss: 0.3569 - acc: 0.8737\n",
            "Epoch 16/25\n",
            "32848/32848 [==============================] - 7s 224us/step - loss: 0.3575 - acc: 0.8735\n",
            "Epoch 17/25\n",
            "32848/32848 [==============================] - 7s 226us/step - loss: 0.3591 - acc: 0.8741\n",
            "Epoch 18/25\n",
            "32848/32848 [==============================] - 7s 225us/step - loss: 0.3590 - acc: 0.8730\n",
            "Epoch 19/25\n",
            "32848/32848 [==============================] - 7s 224us/step - loss: 0.3569 - acc: 0.8737\n",
            "Epoch 20/25\n",
            "32848/32848 [==============================] - 7s 224us/step - loss: 0.3585 - acc: 0.8736\n",
            "Epoch 21/25\n",
            "32848/32848 [==============================] - 8s 232us/step - loss: 0.3586 - acc: 0.8734\n",
            "Epoch 22/25\n",
            "32848/32848 [==============================] - 8s 232us/step - loss: 0.3582 - acc: 0.8744\n",
            "Epoch 23/25\n",
            "32848/32848 [==============================] - 8s 229us/step - loss: 0.3602 - acc: 0.8740\n",
            "Epoch 24/25\n",
            "32848/32848 [==============================] - 7s 226us/step - loss: 0.3573 - acc: 0.8732\n",
            "Epoch 25/25\n",
            "32848/32848 [==============================] - 7s 224us/step - loss: 0.3598 - acc: 0.8733\n",
            "16423/16423 [==============================] - 2s 150us/step\n",
            "32848/32848 [==============================] - 2s 59us/step\n",
            "Epoch 1/25\n",
            "32847/32847 [==============================] - 11s 337us/step - loss: 0.4998 - acc: 0.8144\n",
            "Epoch 2/25\n",
            "32847/32847 [==============================] - 7s 228us/step - loss: 0.4787 - acc: 0.8178\n",
            "Epoch 3/25\n",
            "32847/32847 [==============================] - 7s 224us/step - loss: 0.4788 - acc: 0.8178\n",
            "Epoch 4/25\n",
            "32847/32847 [==============================] - 7s 225us/step - loss: 0.4788 - acc: 0.8178\n",
            "Epoch 5/25\n",
            "32847/32847 [==============================] - 7s 225us/step - loss: 0.4788 - acc: 0.8178\n",
            "Epoch 6/25\n",
            "32847/32847 [==============================] - 8s 229us/step - loss: 0.4788 - acc: 0.8178\n",
            "Epoch 7/25\n",
            "32847/32847 [==============================] - 7s 226us/step - loss: 0.4788 - acc: 0.8178\n",
            "Epoch 8/25\n",
            "32847/32847 [==============================] - 7s 228us/step - loss: 0.4788 - acc: 0.8178\n",
            "Epoch 9/25\n",
            "32847/32847 [==============================] - 7s 228us/step - loss: 0.4788 - acc: 0.8178\n",
            "Epoch 10/25\n",
            "32847/32847 [==============================] - 7s 228us/step - loss: 0.4788 - acc: 0.8178\n",
            "Epoch 11/25\n",
            "32847/32847 [==============================] - 8s 230us/step - loss: 0.4788 - acc: 0.8178\n",
            "Epoch 12/25\n",
            "32847/32847 [==============================] - 7s 227us/step - loss: 0.4788 - acc: 0.8178\n",
            "Epoch 13/25\n",
            "32847/32847 [==============================] - 7s 226us/step - loss: 0.4787 - acc: 0.8178\n",
            "Epoch 14/25\n",
            "32847/32847 [==============================] - 8s 229us/step - loss: 0.4788 - acc: 0.8178\n",
            "Epoch 15/25\n",
            "32847/32847 [==============================] - 7s 228us/step - loss: 0.4788 - acc: 0.8178\n",
            "Epoch 16/25\n",
            "32847/32847 [==============================] - 7s 227us/step - loss: 0.4788 - acc: 0.8178\n",
            "Epoch 17/25\n",
            "32847/32847 [==============================] - 7s 227us/step - loss: 0.4788 - acc: 0.8178\n",
            "Epoch 18/25\n",
            "32847/32847 [==============================] - 7s 228us/step - loss: 0.4788 - acc: 0.8178\n",
            "Epoch 19/25\n",
            "32847/32847 [==============================] - 8s 228us/step - loss: 0.4788 - acc: 0.8178\n",
            "Epoch 20/25\n",
            "32847/32847 [==============================] - 7s 228us/step - loss: 0.4789 - acc: 0.8178\n",
            "Epoch 21/25\n",
            "32847/32847 [==============================] - 8s 229us/step - loss: 0.4788 - acc: 0.8178\n",
            "Epoch 22/25\n",
            "32847/32847 [==============================] - 8s 229us/step - loss: 0.4788 - acc: 0.8178\n",
            "Epoch 23/25\n",
            "32847/32847 [==============================] - 7s 228us/step - loss: 0.4788 - acc: 0.8178\n",
            "Epoch 24/25\n",
            "32847/32847 [==============================] - 7s 227us/step - loss: 0.4788 - acc: 0.8178\n",
            "Epoch 25/25\n",
            "32847/32847 [==============================] - 8s 229us/step - loss: 0.4788 - acc: 0.8178\n",
            "16424/16424 [==============================] - 3s 158us/step\n",
            "32847/32847 [==============================] - 2s 62us/step\n",
            "Epoch 1/25\n",
            "32847/32847 [==============================] - 12s 350us/step - loss: 0.5032 - acc: 0.8154\n",
            "Epoch 2/25\n",
            "32847/32847 [==============================] - 8s 232us/step - loss: 0.4813 - acc: 0.8164\n",
            "Epoch 3/25\n",
            "32847/32847 [==============================] - 8s 231us/step - loss: 0.4812 - acc: 0.8164\n",
            "Epoch 4/25\n",
            "32847/32847 [==============================] - 8s 230us/step - loss: 0.4813 - acc: 0.8164\n",
            "Epoch 5/25\n",
            "32847/32847 [==============================] - 8s 230us/step - loss: 0.4812 - acc: 0.8164\n",
            "Epoch 6/25\n",
            "32847/32847 [==============================] - 8s 232us/step - loss: 0.4813 - acc: 0.8164\n",
            "Epoch 7/25\n",
            "32847/32847 [==============================] - 8s 229us/step - loss: 0.4812 - acc: 0.8164\n",
            "Epoch 8/25\n",
            "32847/32847 [==============================] - 7s 224us/step - loss: 0.4813 - acc: 0.8164\n",
            "Epoch 9/25\n",
            "32847/32847 [==============================] - 8s 229us/step - loss: 0.4813 - acc: 0.8164\n",
            "Epoch 10/25\n",
            "32847/32847 [==============================] - 8s 231us/step - loss: 0.4813 - acc: 0.8164\n",
            "Epoch 11/25\n",
            "32847/32847 [==============================] - 8s 233us/step - loss: 0.4812 - acc: 0.8164\n",
            "Epoch 12/25\n",
            "32847/32847 [==============================] - 8s 231us/step - loss: 0.4813 - acc: 0.8164\n",
            "Epoch 13/25\n",
            "32847/32847 [==============================] - 7s 226us/step - loss: 0.4813 - acc: 0.8164\n",
            "Epoch 14/25\n",
            "32847/32847 [==============================] - 8s 231us/step - loss: 0.4813 - acc: 0.8164\n",
            "Epoch 15/25\n",
            "32847/32847 [==============================] - 7s 228us/step - loss: 0.4812 - acc: 0.8164\n",
            "Epoch 16/25\n",
            "32847/32847 [==============================] - 8s 233us/step - loss: 0.4813 - acc: 0.8164\n",
            "Epoch 17/25\n",
            "32847/32847 [==============================] - 7s 226us/step - loss: 0.4812 - acc: 0.8164\n",
            "Epoch 18/25\n",
            "32847/32847 [==============================] - 8s 230us/step - loss: 0.4812 - acc: 0.8164\n",
            "Epoch 19/25\n",
            "32847/32847 [==============================] - 7s 228us/step - loss: 0.4813 - acc: 0.8164\n",
            "Epoch 20/25\n",
            "32847/32847 [==============================] - 8s 228us/step - loss: 0.4812 - acc: 0.8164\n",
            "Epoch 21/25\n",
            "32847/32847 [==============================] - 7s 226us/step - loss: 0.4812 - acc: 0.8164\n",
            "Epoch 22/25\n",
            "32847/32847 [==============================] - 7s 228us/step - loss: 0.4813 - acc: 0.8164\n",
            "Epoch 23/25\n",
            "32847/32847 [==============================] - 7s 225us/step - loss: 0.4812 - acc: 0.8164\n",
            "Epoch 24/25\n",
            "32847/32847 [==============================] - 7s 228us/step - loss: 0.4812 - acc: 0.8164\n",
            "Epoch 25/25\n",
            "32847/32847 [==============================] - 7s 227us/step - loss: 0.4812 - acc: 0.8164\n",
            "16424/16424 [==============================] - 3s 157us/step\n",
            "32847/32847 [==============================] - 2s 61us/step\n",
            "Epoch 1/25\n",
            "32848/32848 [==============================] - 11s 346us/step - loss: 0.4980 - acc: 0.8184\n",
            "Epoch 2/25\n",
            "32848/32848 [==============================] - 7s 228us/step - loss: 0.4779 - acc: 0.8187\n",
            "Epoch 3/25\n",
            "32848/32848 [==============================] - 8s 228us/step - loss: 0.4779 - acc: 0.8187\n",
            "Epoch 4/25\n",
            "32848/32848 [==============================] - 8s 229us/step - loss: 0.4779 - acc: 0.8187\n",
            "Epoch 5/25\n",
            "32848/32848 [==============================] - 7s 228us/step - loss: 0.4778 - acc: 0.8187\n",
            "Epoch 6/25\n",
            "32848/32848 [==============================] - 8s 231us/step - loss: 0.4779 - acc: 0.8187\n",
            "Epoch 7/25\n",
            "32848/32848 [==============================] - 7s 228us/step - loss: 0.4778 - acc: 0.8187\n",
            "Epoch 8/25\n",
            "32848/32848 [==============================] - 8s 231us/step - loss: 0.4778 - acc: 0.8187\n",
            "Epoch 9/25\n",
            "32848/32848 [==============================] - 8s 230us/step - loss: 0.4779 - acc: 0.8187\n",
            "Epoch 10/25\n",
            "32848/32848 [==============================] - 8s 228us/step - loss: 0.4778 - acc: 0.8187\n",
            "Epoch 11/25\n",
            "32848/32848 [==============================] - 7s 228us/step - loss: 0.4778 - acc: 0.8187\n",
            "Epoch 12/25\n",
            "32848/32848 [==============================] - 7s 228us/step - loss: 0.4778 - acc: 0.8187\n",
            "Epoch 13/25\n",
            "32848/32848 [==============================] - 7s 228us/step - loss: 0.4778 - acc: 0.8187\n",
            "Epoch 14/25\n",
            "32848/32848 [==============================] - 8s 229us/step - loss: 0.4779 - acc: 0.8187\n",
            "Epoch 15/25\n",
            "32848/32848 [==============================] - 8s 230us/step - loss: 0.4779 - acc: 0.8187\n",
            "Epoch 16/25\n",
            "32848/32848 [==============================] - 8s 229us/step - loss: 0.4779 - acc: 0.8187\n",
            "Epoch 17/25\n",
            "32848/32848 [==============================] - 8s 230us/step - loss: 0.4779 - acc: 0.8187\n",
            "Epoch 18/25\n",
            "32848/32848 [==============================] - 8s 232us/step - loss: 0.4778 - acc: 0.8187\n",
            "Epoch 19/25\n",
            "32848/32848 [==============================] - 8s 231us/step - loss: 0.4778 - acc: 0.8187\n",
            "Epoch 20/25\n",
            "32848/32848 [==============================] - 8s 233us/step - loss: 0.4779 - acc: 0.8187\n",
            "Epoch 21/25\n",
            "32848/32848 [==============================] - 8s 230us/step - loss: 0.4779 - acc: 0.8187\n",
            "Epoch 22/25\n",
            "32848/32848 [==============================] - 8s 232us/step - loss: 0.4778 - acc: 0.8187\n",
            "Epoch 23/25\n",
            "32848/32848 [==============================] - 8s 230us/step - loss: 0.4778 - acc: 0.8187\n",
            "Epoch 24/25\n",
            "32848/32848 [==============================] - 8s 231us/step - loss: 0.4778 - acc: 0.8187\n",
            "Epoch 25/25\n",
            "32848/32848 [==============================] - 8s 232us/step - loss: 0.4778 - acc: 0.8187\n",
            "16423/16423 [==============================] - 3s 161us/step\n",
            "32848/32848 [==============================] - 2s 62us/step\n",
            "Epoch 1/25\n",
            "32847/32847 [==============================] - 11s 348us/step - loss: 0.4034 - acc: 0.8410\n",
            "Epoch 2/25\n",
            "32847/32847 [==============================] - 8s 230us/step - loss: 0.3441 - acc: 0.8651\n",
            "Epoch 3/25\n",
            "32847/32847 [==============================] - 8s 230us/step - loss: 0.3395 - acc: 0.8663\n",
            "Epoch 4/25\n",
            "32847/32847 [==============================] - 8s 230us/step - loss: 0.3375 - acc: 0.8682\n",
            "Epoch 5/25\n",
            "32847/32847 [==============================] - 8s 231us/step - loss: 0.3355 - acc: 0.8690\n",
            "Epoch 6/25\n",
            "32847/32847 [==============================] - 8s 230us/step - loss: 0.3339 - acc: 0.8704\n",
            "Epoch 7/25\n",
            "32847/32847 [==============================] - 8s 232us/step - loss: 0.3328 - acc: 0.8726\n",
            "Epoch 8/25\n",
            "32847/32847 [==============================] - 7s 226us/step - loss: 0.3301 - acc: 0.8724\n",
            "Epoch 9/25\n",
            "32847/32847 [==============================] - 7s 227us/step - loss: 0.3290 - acc: 0.8723\n",
            "Epoch 10/25\n",
            "32847/32847 [==============================] - 8s 228us/step - loss: 0.3250 - acc: 0.8741\n",
            "Epoch 11/25\n",
            "32847/32847 [==============================] - 7s 228us/step - loss: 0.3234 - acc: 0.8720\n",
            "Epoch 12/25\n",
            "32847/32847 [==============================] - 7s 228us/step - loss: 0.3204 - acc: 0.8741\n",
            "Epoch 13/25\n",
            "32847/32847 [==============================] - 7s 225us/step - loss: 0.3193 - acc: 0.8754\n",
            "Epoch 14/25\n",
            "32847/32847 [==============================] - 7s 228us/step - loss: 0.3174 - acc: 0.8769\n",
            "Epoch 15/25\n",
            "32847/32847 [==============================] - 7s 228us/step - loss: 0.3164 - acc: 0.8783\n",
            "Epoch 16/25\n",
            "32847/32847 [==============================] - 7s 228us/step - loss: 0.3155 - acc: 0.8782\n",
            "Epoch 17/25\n",
            "32847/32847 [==============================] - 7s 227us/step - loss: 0.3139 - acc: 0.8786\n",
            "Epoch 18/25\n",
            "32847/32847 [==============================] - 7s 227us/step - loss: 0.3143 - acc: 0.8790\n",
            "Epoch 19/25\n",
            "32847/32847 [==============================] - 7s 228us/step - loss: 0.3135 - acc: 0.8800\n",
            "Epoch 20/25\n",
            "32847/32847 [==============================] - 7s 227us/step - loss: 0.3141 - acc: 0.8793\n",
            "Epoch 21/25\n",
            "32847/32847 [==============================] - 8s 229us/step - loss: 0.3117 - acc: 0.8793\n",
            "Epoch 22/25\n",
            "32847/32847 [==============================] - 8s 230us/step - loss: 0.3121 - acc: 0.8808\n",
            "Epoch 23/25\n",
            "32847/32847 [==============================] - 8s 229us/step - loss: 0.3119 - acc: 0.8792\n",
            "Epoch 24/25\n",
            "32847/32847 [==============================] - 8s 230us/step - loss: 0.3113 - acc: 0.8797\n",
            "Epoch 25/25\n",
            "32847/32847 [==============================] - 7s 228us/step - loss: 0.3107 - acc: 0.8794\n",
            "16424/16424 [==============================] - 3s 166us/step\n",
            "32847/32847 [==============================] - 2s 61us/step\n",
            "Epoch 1/25\n",
            "32847/32847 [==============================] - 11s 349us/step - loss: 0.3899 - acc: 0.8448\n",
            "Epoch 2/25\n",
            "32847/32847 [==============================] - 8s 234us/step - loss: 0.3428 - acc: 0.8639\n",
            "Epoch 3/25\n",
            "32847/32847 [==============================] - 8s 229us/step - loss: 0.3366 - acc: 0.8671\n",
            "Epoch 4/25\n",
            "32847/32847 [==============================] - 8s 229us/step - loss: 0.3329 - acc: 0.8691\n",
            "Epoch 5/25\n",
            "32847/32847 [==============================] - 7s 228us/step - loss: 0.3303 - acc: 0.8684\n",
            "Epoch 6/25\n",
            "32847/32847 [==============================] - 8s 231us/step - loss: 0.3292 - acc: 0.8697\n",
            "Epoch 7/25\n",
            "32847/32847 [==============================] - 8s 232us/step - loss: 0.3251 - acc: 0.8706\n",
            "Epoch 8/25\n",
            "32847/32847 [==============================] - 7s 228us/step - loss: 0.3215 - acc: 0.8743\n",
            "Epoch 9/25\n",
            "32847/32847 [==============================] - 8s 230us/step - loss: 0.3207 - acc: 0.8740\n",
            "Epoch 10/25\n",
            "32847/32847 [==============================] - 8s 232us/step - loss: 0.3179 - acc: 0.8751\n",
            "Epoch 11/25\n",
            "32847/32847 [==============================] - 8s 231us/step - loss: 0.3174 - acc: 0.8768\n",
            "Epoch 12/25\n",
            "32847/32847 [==============================] - 8s 232us/step - loss: 0.3161 - acc: 0.8753\n",
            "Epoch 13/25\n",
            "31328/32847 [===========================>..] - ETA: 0s - loss: 0.3145 - acc: 0.8774"
          ],
          "name": "stdout"
        }
      ]
    },
    {
      "metadata": {
        "id": "_pAHdqwkdoaa",
        "colab_type": "code",
        "colab": {}
      },
      "cell_type": "code",
      "source": [
        "print(\"Best: %f using %s\" % (grid_result.best_score_, grid_result.best_params_))\n",
        "\n",
        "means = grid_result.cv_results_['mean_test_score']\n",
        "stds = grid_result.cv_results_['std_test_score']\n",
        "params = grid_result.cv_results_['params']\n",
        "\n",
        "for mean, stdev, param in zip(means, stds, params):\n",
        "    print(\"%f (%f) with: %r\" % (mean, stdev, param))"
      ],
      "execution_count": 0,
      "outputs": []
    },
    {
      "metadata": {
        "id": "ytfg2uVldoXv",
        "colab_type": "code",
        "colab": {}
      },
      "cell_type": "code",
      "source": [
        ""
      ],
      "execution_count": 0,
      "outputs": []
    },
    {
      "metadata": {
        "id": "yB_e70SDdoVC",
        "colab_type": "code",
        "colab": {}
      },
      "cell_type": "code",
      "source": [
        ""
      ],
      "execution_count": 0,
      "outputs": []
    },
    {
      "metadata": {
        "id": "M1P6bEpEdoSi",
        "colab_type": "code",
        "colab": {}
      },
      "cell_type": "code",
      "source": [
        ""
      ],
      "execution_count": 0,
      "outputs": []
    },
    {
      "metadata": {
        "id": "0XBamLcNdoOM",
        "colab_type": "code",
        "colab": {}
      },
      "cell_type": "code",
      "source": [
        ""
      ],
      "execution_count": 0,
      "outputs": []
    },
    {
      "metadata": {
        "id": "L-7dPAlgSUkR",
        "colab_type": "text"
      },
      "cell_type": "markdown",
      "source": [
        "Part from assignment 2"
      ]
    },
    {
      "metadata": {
        "id": "zxRu_S5_pgvb",
        "colab_type": "code",
        "colab": {}
      },
      "cell_type": "code",
      "source": [
        "train, test = train_test_split(BackOrders_Out, test_size=0.2, random_state=12345)\n",
        "print(train.shape)\n",
        "print(test.shape)"
      ],
      "execution_count": 0,
      "outputs": []
    },
    {
      "metadata": {
        "id": "5Ipi32u5pgsg",
        "colab_type": "code",
        "colab": {}
      },
      "cell_type": "code",
      "source": [
        "# removing sku column\n",
        "# train = train.iloc[:, :-\"sku\"]\n",
        "train = train.drop(\"sku\", axis=1)\n",
        "# train.head(5)\n",
        "test = test.drop(\"sku\", axis=1)\n",
        "# train.head(5)"
      ],
      "execution_count": 0,
      "outputs": []
    },
    {
      "metadata": {
        "id": "ESrot4P9uZ7f",
        "colab_type": "text"
      },
      "cell_type": "markdown",
      "source": [
        "Let us consider  went_on_backorder =  'yes' as rare class and separate the two classes to fit an autoencoder"
      ]
    },
    {
      "metadata": {
        "id": "cLRTpQ6UQZ6v",
        "colab_type": "code",
        "colab": {}
      },
      "cell_type": "code",
      "source": [
        "#Now consider only the non-fraud records for training\n",
        "train_No = train.loc[train[\"went_on_backorder\"] == \"No\"]\n",
        "print(train_No.shape)\n",
        "\n",
        "# #Now consider only the non-fraud records for training\n",
        "train_Yes = train.loc[train[\"went_on_backorder\"] == \"Yes\"]\n",
        "# train_Yes = train_Yes[:,\"went_on_backorder\"]\n",
        "print(train_Yes.shape)"
      ],
      "execution_count": 0,
      "outputs": []
    },
    {
      "metadata": {
        "id": "VZn3wSjkpgou",
        "colab_type": "code",
        "colab": {}
      },
      "cell_type": "code",
      "source": [
        "X_train_No = train_No.iloc[:, :-1] #removing target column\n",
        "print(X_train_No.shape)"
      ],
      "execution_count": 0,
      "outputs": []
    },
    {
      "metadata": {
        "id": "KDqhzH4zv_DV",
        "colab_type": "text"
      },
      "cell_type": "markdown",
      "source": [
        "Clubbing test data with went_on_backorder =  'yes' of train data to ensure that the model is only trained on went_on_backorder =  'no'"
      ]
    },
    {
      "metadata": {
        "id": "SRatKW5Npglb",
        "colab_type": "code",
        "colab": {}
      },
      "cell_type": "code",
      "source": [
        "test1 = pd.concat([train_Yes, test])\n",
        "print(test1.shape)"
      ],
      "execution_count": 0,
      "outputs": []
    },
    {
      "metadata": {
        "id": "PE5TqS34yIEL",
        "colab_type": "code",
        "colab": {}
      },
      "cell_type": "code",
      "source": [
        "X_test,X_eval = train_test_split(test1, test_size=0.2, random_state=1111)"
      ],
      "execution_count": 0,
      "outputs": []
    },
    {
      "metadata": {
        "id": "DP5S7obFyH_g",
        "colab_type": "code",
        "colab": {}
      },
      "cell_type": "code",
      "source": [
        "#Separating the independent and the class variable\n",
        "y_test = X_test.iloc[:,-1]\n",
        "X_test = X_test.iloc[:, :-1]"
      ],
      "execution_count": 0,
      "outputs": []
    },
    {
      "metadata": {
        "id": "pZIPN6Bzw0Lp",
        "colab_type": "text"
      },
      "cell_type": "markdown",
      "source": [
        "Converting \"category\" columns to dummy variables"
      ]
    },
    {
      "metadata": {
        "id": "dyC-JZI-wzJE",
        "colab_type": "code",
        "colab": {}
      },
      "cell_type": "code",
      "source": [
        "X_train_No = pd.get_dummies(X_train_No)\n",
        "X_test = pd.get_dummies(X_test)"
      ],
      "execution_count": 0,
      "outputs": []
    },
    {
      "metadata": {
        "id": "cXKlDW6Vw7AQ",
        "colab_type": "text"
      },
      "cell_type": "markdown",
      "source": [
        "Scaling the datasets"
      ]
    },
    {
      "metadata": {
        "id": "6HBtJiDiwzHv",
        "colab_type": "code",
        "colab": {}
      },
      "cell_type": "code",
      "source": [
        "x = X_train_No.values #returns a numpy array\n",
        "min_max_scaler_train = preprocessing.MinMaxScaler()\n",
        "x_scaled = min_max_scaler_train.fit_transform(x)\n",
        "X_train_No_scaled = pd.DataFrame(x_scaled, columns=X_train_No.columns)\n"
      ],
      "execution_count": 0,
      "outputs": []
    },
    {
      "metadata": {
        "id": "CZ6Lrcf3wzEe",
        "colab_type": "code",
        "colab": {}
      },
      "cell_type": "code",
      "source": [
        "x = X_test.values #returns a numpy array\n",
        "min_max_scaler_test = preprocessing.MinMaxScaler()\n",
        "x_scaled = min_max_scaler_test.fit_transform(x)\n",
        "X_test_scaled = pd.DataFrame(x_scaled, columns=X_test.columns)"
      ],
      "execution_count": 0,
      "outputs": []
    },
    {
      "metadata": {
        "id": "ERZl-zDSxHMd",
        "colab_type": "text"
      },
      "cell_type": "markdown",
      "source": [
        "Training Autoencoders"
      ]
    },
    {
      "metadata": {
        "id": "8I6SsOd6wzBq",
        "colab_type": "code",
        "colab": {}
      },
      "cell_type": "code",
      "source": [
        "input_dim = X_train_No_scaled.shape[1]\n",
        "encoding_dim = 15\n"
      ],
      "execution_count": 0,
      "outputs": []
    },
    {
      "metadata": {
        "id": "c9hpY1WsxV7e",
        "colab_type": "text"
      },
      "cell_type": "markdown",
      "source": [
        "Simple autoencoder: similar to \"Fraud Detection Exercise\""
      ]
    },
    {
      "metadata": {
        "id": "LSRvELf9wy-y",
        "colab_type": "code",
        "colab": {}
      },
      "cell_type": "code",
      "source": [
        "autoencoder = Sequential()\n",
        "\n",
        "autoencoder.add(Dropout(0.2, input_shape=(input_dim,)))\n",
        "autoencoder.add(Dense(encoding_dim, activation='relu'))\n",
        "autoencoder.add(Dense(input_dim, activation='linear'))"
      ],
      "execution_count": 0,
      "outputs": []
    },
    {
      "metadata": {
        "id": "SYtz_zJXwy7H",
        "colab_type": "code",
        "colab": {}
      },
      "cell_type": "code",
      "source": [
        "nb_epoch = 40\n",
        "batch_size = 32\n",
        "\n",
        "autoencoder.compile(optimizer='adam', \n",
        "                    loss='mean_squared_error', \n",
        "                    metrics=['mse'])"
      ],
      "execution_count": 0,
      "outputs": []
    },
    {
      "metadata": {
        "id": "2j9RiABhwy2r",
        "colab_type": "code",
        "colab": {}
      },
      "cell_type": "code",
      "source": [
        "hist = []\n",
        "training_loss = []\n",
        "val_loss = []\n",
        "\n",
        "for _ in range(nb_epoch):\n",
        "    history = autoencoder.fit(X_train_No_scaled, X_train_No_scaled,\n",
        "                    epochs=1,\n",
        "                    batch_size=batch_size,\n",
        "                    shuffle=True,\n",
        "                     validation_split=0.3,\n",
        "                    verbose=1)\n",
        "#     print(type(history.history['loss']))\n",
        "    \n",
        "    hist.append(history)\n",
        "    \n",
        "    training_loss.append(history.history['loss'])\n",
        "    val_loss.append(history.history['val_loss'])"
      ],
      "execution_count": 0,
      "outputs": []
    },
    {
      "metadata": {
        "id": "8gI90ZMG-EQz",
        "colab_type": "code",
        "colab": {}
      },
      "cell_type": "code",
      "source": [
        "# Create count of the number of epochs\n",
        "epoch_count = range(1, len(training_loss) + 1)\n",
        "\n",
        "# Visualize loss history\n",
        "plt.plot(epoch_count, training_loss, 'r--')\n",
        "plt.plot(epoch_count, val_loss, 'b-')\n",
        "plt.legend(['Training Loss', 'Validation Loss'])\n",
        "plt.xlabel('Epoch')\n",
        "plt.ylabel('Loss')\n",
        "plt.show();"
      ],
      "execution_count": 0,
      "outputs": []
    },
    {
      "metadata": {
        "id": "kN3R2XvIxiT0",
        "colab_type": "text"
      },
      "cell_type": "markdown",
      "source": [
        "Fitting slightly complex autoencoder architecture"
      ]
    },
    {
      "metadata": {
        "id": "S8aGBP-Qwyx-",
        "colab_type": "code",
        "colab": {}
      },
      "cell_type": "code",
      "source": [
        "autoencoder = Sequential()\n",
        "\n",
        "autoencoder.add(Dropout(0.2, input_shape=(input_dim,)))\n",
        "autoencoder.add(Dense(encoding_dim, activation='relu'))\n",
        "autoencoder.add(Dense(int(encoding_dim / 2), activation='relu'))\n",
        "autoencoder.add(Dense(encoding_dim, activation='relu'))\n",
        "autoencoder.add(Dense(input_dim, activation='linear'))"
      ],
      "execution_count": 0,
      "outputs": []
    },
    {
      "metadata": {
        "id": "ZSPPU9VIxpLr",
        "colab_type": "code",
        "colab": {}
      },
      "cell_type": "code",
      "source": [
        "nb_epoch = 15\n",
        "batch_size = 32\n",
        "\n",
        "autoencoder.compile(optimizer='adam', \n",
        "                    loss='mean_squared_error', \n",
        "                    metrics=['mse'])"
      ],
      "execution_count": 0,
      "outputs": []
    },
    {
      "metadata": {
        "id": "xAmG64rJxpIa",
        "colab_type": "code",
        "colab": {}
      },
      "cell_type": "code",
      "source": [
        "hist = []\n",
        "training_loss = []\n",
        "val_loss = []\n",
        "\n",
        "for _ in range(nb_epoch):\n",
        "    history = autoencoder.fit(X_train_No_scaled, X_train_No_scaled,\n",
        "                    epochs=1,\n",
        "                    batch_size=batch_size,\n",
        "                    shuffle=True,\n",
        "                     validation_split=0.3,\n",
        "                    verbose=1)\n",
        "#     print(type(history.history['loss']))\n",
        "    \n",
        "    hist.append(history)\n",
        "    \n",
        "    training_loss.append(history.history['loss'])\n",
        "    val_loss.append(history.history['val_loss'])"
      ],
      "execution_count": 0,
      "outputs": []
    },
    {
      "metadata": {
        "id": "dXWgaW79B5Mv",
        "colab_type": "code",
        "colab": {}
      },
      "cell_type": "code",
      "source": [
        "# Create count of the number of epochs\n",
        "epoch_count = range(1, len(training_loss) + 1)\n",
        "\n",
        "# Visualize loss history\n",
        "plt.plot(epoch_count, training_loss, 'r--')\n",
        "plt.plot(epoch_count, val_loss, 'b-')\n",
        "plt.legend(['Training Loss', 'Validation Loss'])\n",
        "plt.xlabel('Epoch')\n",
        "plt.ylabel('Loss')\n",
        "plt.show();"
      ],
      "execution_count": 0,
      "outputs": []
    },
    {
      "metadata": {
        "id": "x4kflRLDyjjE",
        "colab_type": "text"
      },
      "cell_type": "markdown",
      "source": [
        "Testing is the trained autoencoder is able to differentiate between classes"
      ]
    },
    {
      "metadata": {
        "id": "nc0zNsvuxpDn",
        "colab_type": "code",
        "colab": {}
      },
      "cell_type": "code",
      "source": [
        "x_tr_inv = min_max_scaler_train.inverse_transform(X_train_No_scaled)\n",
        "X_train_No_Unscaled = pd.DataFrame(x_tr_inv, columns=X_train_No_scaled.columns)\n",
        "x_test_inv = min_max_scaler_test.inverse_transform(X_test_scaled)\n",
        "X_test_Unscaled = pd.DataFrame(x_test_inv, columns=X_test_scaled.columns)"
      ],
      "execution_count": 0,
      "outputs": []
    },
    {
      "metadata": {
        "id": "MeNbATq_xpB1",
        "colab_type": "code",
        "colab": {}
      },
      "cell_type": "code",
      "source": [
        "y_test1 = pd.DataFrame(y_test)\n",
        "\n",
        "df1= X_test_Unscaled\n",
        "y_test1 = y_test1.set_index(df1.index)\n",
        "df1['went_on_backorder'] = y_test1.iloc[:,0].values\n",
        "\n",
        "\n",
        "test_yes=df1.loc[df1[\"went_on_backorder\"] == \"Yes\"]\n",
        "print(test_yes.shape)\n",
        "\n",
        "test_no=df1.loc[df1[\"went_on_backorder\"] == \"No\"]\n",
        "print(test_no.shape)"
      ],
      "execution_count": 0,
      "outputs": []
    },
    {
      "metadata": {
        "id": "S42e5b4_xo-l",
        "colab_type": "code",
        "colab": {}
      },
      "cell_type": "code",
      "source": [
        "#Getting the errors from the went_on_order = 'no' data separately \n",
        "autoencoder.evaluate(test_no.iloc[:,:-1],test_no.iloc[:,:-1])"
      ],
      "execution_count": 0,
      "outputs": []
    },
    {
      "metadata": {
        "id": "1q5uF2OExo7Y",
        "colab_type": "code",
        "colab": {}
      },
      "cell_type": "code",
      "source": [
        "#Getting the errors from the non fraud data separately \n",
        "autoencoder.evaluate(test_yes.iloc[:,:-1],test_yes.iloc[:,:-1])"
      ],
      "execution_count": 0,
      "outputs": []
    },
    {
      "metadata": {
        "id": "nD6giWi1y2lK",
        "colab_type": "code",
        "colab": {}
      },
      "cell_type": "code",
      "source": [
        "#Obtaining predictions for non fraud records\n",
        "predictions_no=autoencoder.predict(test_no.iloc[:,:-1])\n",
        "predictions_yes=autoencoder.predict(test_yes.iloc[:,:-1])                                              "
      ],
      "execution_count": 0,
      "outputs": []
    },
    {
      "metadata": {
        "id": "GmTIxnrVzfKy",
        "colab_type": "code",
        "colab": {}
      },
      "cell_type": "code",
      "source": [
        "#Computing errors on the non-fraud data\n",
        "errors_no = np.mean(np.square(np.abs(test_no.iloc[:,:-1]-predictions_no)), axis=1)\n",
        "errors_no[0:5]"
      ],
      "execution_count": 0,
      "outputs": []
    },
    {
      "metadata": {
        "id": "1MIk9pSSy2hq",
        "colab_type": "code",
        "colab": {}
      },
      "cell_type": "code",
      "source": [
        "#Computing errors on the non-fraud data\n",
        "errors_yes = np.mean(np.square(np.abs(test_yes.iloc[:,:-1]-predictions_yes)), axis=1)\n",
        "errors_yes[0:5]"
      ],
      "execution_count": 0,
      "outputs": []
    },
    {
      "metadata": {
        "id": "Ql7QEM4ly2fa",
        "colab_type": "code",
        "colab": {}
      },
      "cell_type": "code",
      "source": [
        "#Computing the distribution of errors in both non-fraud and fraud data\n",
        "print(np.min(errors_no))\n",
        "print(np.max(errors_no))\n",
        "print(np.median(errors_no))\n",
        "\n",
        "print(np.min(errors_yes))\n",
        "print(np.max(errors_yes))\n",
        "print(np.median(errors_yes))"
      ],
      "execution_count": 0,
      "outputs": []
    },
    {
      "metadata": {
        "id": "f7U_KSD1y2cH",
        "colab_type": "code",
        "colab": {}
      },
      "cell_type": "code",
      "source": [
        "#PLotting the error box plots \n",
        "plt.subplot(1, 2, 1)\n",
        "sns.boxplot(y=errors_yes)\n",
        "\n",
        "\n",
        "plt.subplot(1, 2, 2)\n",
        "sns.boxplot(y=errors_no)"
      ],
      "execution_count": 0,
      "outputs": []
    },
    {
      "metadata": {
        "id": "Ms3s8IULzmo3",
        "colab_type": "code",
        "colab": {}
      },
      "cell_type": "code",
      "source": [
        "print(errors_yes.quantile(np.linspace(.1, 1, 9, 0)))\n",
        "print(errors_no.quantile(np.linspace(.1, 1, 9, 0)))"
      ],
      "execution_count": 0,
      "outputs": []
    },
    {
      "metadata": {
        "id": "ZVVmPeL8EHeH",
        "colab_type": "text"
      },
      "cell_type": "markdown",
      "source": [
        "Implementing autoencoders with hyperparameters Dropout with Maxnorm Constraints and Batch\n",
        "Normalization"
      ]
    },
    {
      "metadata": {
        "id": "ptrphMdUzmnD",
        "colab_type": "code",
        "colab": {}
      },
      "cell_type": "code",
      "source": [
        "autoencoder = Sequential()\n",
        "\n",
        "autoencoder.add(Dropout(0.2, input_shape=(input_dim,)))\n",
        "autoencoder.add(Dense(encoding_dim, activation='tanh', activity_regularizer=regularizers.l1(10e-5)))\n",
        "# autoencoder.add(BatchNormalization())\n",
        "autoencoder.add(Dropout(0.2))\n",
        "autoencoder.add(Dense(int(encoding_dim / 2), activation='relu', kernel_constraint=maxnorm(3)))\n",
        "autoencoder.add(BatchNormalization())\n",
        "# autoencoder.add(Dropout(0.2))\n",
        "autoencoder.add(Dense(encoding_dim, activation='tanh'))\n",
        "# autoencoder.add(BatchNormalization())\n",
        "autoencoder.add(Dense(input_dim, activation='linear'))"
      ],
      "execution_count": 0,
      "outputs": []
    },
    {
      "metadata": {
        "id": "wj9KDh2izmjS",
        "colab_type": "code",
        "colab": {}
      },
      "cell_type": "code",
      "source": [
        "autoencoder = Sequential()\n",
        "\n",
        "autoencoder.add(Dropout(0.2, input_shape=(input_dim,)))\n",
        "autoencoder.add(Dense(encoding_dim, activation='relu', kernel_constraint=maxnorm(3)))\n",
        "autoencoder.add(BatchNormalization())\n",
        "autoencoder.add(Dropout(0.2))\n",
        "autoencoder.add(Dense(int(encoding_dim / 2), activation='relu', kernel_constraint=maxnorm(3)))\n",
        "autoencoder.add(BatchNormalization())\n",
        "# autoencoder.add(Dropout(0.2))\n",
        "autoencoder.add(Dense(encoding_dim, activation='relu', kernel_constraint=maxnorm(3)))\n",
        "# autoencoder.add(BatchNormalization())\n",
        "autoencoder.add(Dense(input_dim, activation='linear'))"
      ],
      "execution_count": 0,
      "outputs": []
    },
    {
      "metadata": {
        "id": "dI0e1NTTzmfn",
        "colab_type": "code",
        "colab": {}
      },
      "cell_type": "code",
      "source": [
        "nb_epoch = 80\n",
        "batch_size = 32\n",
        "\n",
        "autoencoder.compile(optimizer='adam', \n",
        "                    loss='mean_squared_error', \n",
        "                    metrics=['mse'])"
      ],
      "execution_count": 0,
      "outputs": []
    },
    {
      "metadata": {
        "id": "NEjzZDztZJX2",
        "colab_type": "code",
        "colab": {}
      },
      "cell_type": "code",
      "source": [
        "hist = []\n",
        "training_loss = []\n",
        "val_loss = []\n",
        "\n",
        "for _ in range(nb_epoch):\n",
        "    history = autoencoder.fit(X_train_No_scaled, X_train_No_scaled,\n",
        "                    epochs=1,\n",
        "                    batch_size=batch_size,\n",
        "                    shuffle=True,\n",
        "                     validation_split=0.3,\n",
        "                    verbose=1)\n",
        "#     print(type(history.history['loss']))\n",
        "    \n",
        "    hist.append(history)\n",
        "    \n",
        "    training_loss.append(history.history['loss'])\n",
        "    val_loss.append(history.history['val_loss'])"
      ],
      "execution_count": 0,
      "outputs": []
    },
    {
      "metadata": {
        "id": "IUI2oX8SZJUu",
        "colab_type": "code",
        "colab": {}
      },
      "cell_type": "code",
      "source": [
        "# Create count of the number of epochs\n",
        "epoch_count = range(1, len(training_loss) + 1)\n",
        "\n",
        "# Visualize loss history\n",
        "plt.plot(epoch_count, training_loss, 'r--')\n",
        "plt.plot(epoch_count, val_loss, 'b-')\n",
        "plt.legend(['Training Loss', 'Validation Loss'])\n",
        "plt.xlabel('Epoch')\n",
        "plt.ylabel('Loss')\n",
        "plt.show();"
      ],
      "execution_count": 0,
      "outputs": []
    },
    {
      "metadata": {
        "id": "sk3UTaeYZJSf",
        "colab_type": "code",
        "colab": {}
      },
      "cell_type": "code",
      "source": [
        "# Create count of the number of epochs\n",
        "epoch_count = range(1, len(training_loss) + 1)\n",
        "\n",
        "# Visualize loss history\n",
        "plt.plot(epoch_count, training_loss, 'r--')\n",
        "plt.plot(epoch_count, val_loss, 'b-')\n",
        "plt.legend(['Training Loss', 'Validation Loss'])\n",
        "plt.xlabel('Epoch')\n",
        "plt.ylabel('Loss')\n",
        "plt.show();"
      ],
      "execution_count": 0,
      "outputs": []
    },
    {
      "metadata": {
        "id": "lsNeHreDcmH9",
        "colab_type": "text"
      },
      "cell_type": "markdown",
      "source": [
        "Experimenting with other hyperparameters\n",
        "1 - Learning rate"
      ]
    },
    {
      "metadata": {
        "id": "Q_S8a-ERcl2K",
        "colab_type": "code",
        "colab": {}
      },
      "cell_type": "code",
      "source": [
        "lr_values = np.logspace(-4, -1, num=6)\n",
        "lr_values"
      ],
      "execution_count": 0,
      "outputs": []
    },
    {
      "metadata": {
        "id": "A1wtmeb7ZJQN",
        "colab_type": "code",
        "colab": {}
      },
      "cell_type": "code",
      "source": [
        "nb_epoch = 20\n",
        "batch_size = 32\n",
        "\n",
        "def compile_fit(model, X, Y, lr_value):\n",
        "    \n",
        "    adam = optimizers.Adam(lr=lr_value)\n",
        "    \n",
        "    autoencoder.compile(optimizer=adam, \n",
        "                    loss='mean_squared_error', metrics=['mse'])\n",
        "    \n",
        "    history = autoencoder.fit(X, Y,\n",
        "                    epochs=nb_epoch,\n",
        "                    batch_size=batch_size,\n",
        "                    shuffle=True,\n",
        "                     validation_split=0.3,\n",
        "                    verbose=1)    \n",
        "    return history\n",
        "  \n"
      ],
      "execution_count": 0,
      "outputs": []
    },
    {
      "metadata": {
        "id": "045jF7YEZJKs",
        "colab_type": "code",
        "colab": {}
      },
      "cell_type": "code",
      "source": [
        "# history = []\n",
        "# for lr_value in lr_values:\n",
        "#   print(lr_value)\n",
        "#   history.append(compile_fit(autoencoder, X_train_No_scaled, X_train_No_scaled, lr_value))\n",
        "  \n",
        "  \n",
        "hist = []\n",
        "training_loss = []\n",
        "val_loss = []\n",
        "\n",
        "for lr_value in lr_values:\n",
        "    print(lr_value)\n",
        "    history = (compile_fit(autoencoder, X_train_No_scaled, X_train_No_scaled, lr_value))\n",
        "  \n",
        "    hist.append(history)\n",
        "  \n",
        "    training_loss.append(history.history['loss'])\n",
        "    val_loss.append(history.history['val_loss'])"
      ],
      "execution_count": 0,
      "outputs": []
    }
  ]
}