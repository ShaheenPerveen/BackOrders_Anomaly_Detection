{
  "nbformat": 4,
  "nbformat_minor": 0,
  "metadata": {
    "colab": {
      "name": "DL_Architect_Day01.ipynb",
      "version": "0.3.2",
      "provenance": [],
      "collapsed_sections": []
    },
    "kernelspec": {
      "name": "python3",
      "display_name": "Python 3"
    }
  },
  "cells": [
    {
      "metadata": {
        "id": "4j9_7AotGndr",
        "colab_type": "code",
        "colab": {}
      },
      "cell_type": "code",
      "source": [
        "# loading all libraries\n",
        "import pandas as pd\n",
        "import numpy as np\n",
        "import matplotlib.pyplot as plt\n",
        "import seaborn as sns\n",
        "from sklearn import preprocessing, metrics, cross_validation\n",
        "from sklearn.model_selection import train_test_split\n",
        "from keras.constraints import maxnorm\n",
        "from keras import optimizers\n",
        "from keras import regularizers\n",
        "from keras.constraints import maxnorm\n",
        "from keras.layers import Dropout, BatchNormalization\n",
        "from pylab import rcParams\n",
        "from keras.models import Sequential\n",
        "from keras.layers import Dense, Dropout"
      ],
      "execution_count": 0,
      "outputs": []
    },
    {
      "metadata": {
        "id": "D6uFWdjfryIX",
        "colab_type": "code",
        "colab": {}
      },
      "cell_type": "code",
      "source": [
        "from google.colab import drive"
      ],
      "execution_count": 0,
      "outputs": []
    },
    {
      "metadata": {
        "id": "0G2vb0x8ryBi",
        "colab_type": "code",
        "colab": {
          "base_uri": "https://localhost:8080/",
          "height": 122
        },
        "outputId": "e4935a51-7952-4ca3-e55c-c2e6f61aba54"
      },
      "cell_type": "code",
      "source": [
        "drive.mount('/content/drive')"
      ],
      "execution_count": 3,
      "outputs": [
        {
          "output_type": "stream",
          "text": [
            "Go to this URL in a browser: https://accounts.google.com/o/oauth2/auth?client_id=947318989803-6bn6qk8qdgf4n4g3pfee6491hc0brc4i.apps.googleusercontent.com&redirect_uri=urn%3Aietf%3Awg%3Aoauth%3A2.0%3Aoob&scope=email%20https%3A%2F%2Fwww.googleapis.com%2Fauth%2Fdocs.test%20https%3A%2F%2Fwww.googleapis.com%2Fauth%2Fdrive%20https%3A%2F%2Fwww.googleapis.com%2Fauth%2Fdrive.photos.readonly%20https%3A%2F%2Fwww.googleapis.com%2Fauth%2Fpeopleapi.readonly&response_type=code\n",
            "\n",
            "Enter your authorization code:\n",
            "··········\n",
            "Mounted at /content/drive\n"
          ],
          "name": "stdout"
        }
      ]
    },
    {
      "metadata": {
        "id": "Y1Br4RxfL6oj",
        "colab_type": "code",
        "colab": {
          "base_uri": "https://localhost:8080/",
          "height": 253
        },
        "outputId": "e8a34afa-5ef6-4ae4-95f2-d3bab619b109"
      },
      "cell_type": "code",
      "source": [
        "BackOrders = pd.read_csv(\"/content/drive/My Drive/Colab_Folder/BackOrders.csv\", na_values=[\"?\",\",\"])\n",
        "BackOrders.head(5)"
      ],
      "execution_count": 4,
      "outputs": [
        {
          "output_type": "execute_result",
          "data": {
            "text/html": [
              "<div>\n",
              "<style scoped>\n",
              "    .dataframe tbody tr th:only-of-type {\n",
              "        vertical-align: middle;\n",
              "    }\n",
              "\n",
              "    .dataframe tbody tr th {\n",
              "        vertical-align: top;\n",
              "    }\n",
              "\n",
              "    .dataframe thead th {\n",
              "        text-align: right;\n",
              "    }\n",
              "</style>\n",
              "<table border=\"1\" class=\"dataframe\">\n",
              "  <thead>\n",
              "    <tr style=\"text-align: right;\">\n",
              "      <th></th>\n",
              "      <th>sku</th>\n",
              "      <th>national_inv</th>\n",
              "      <th>lead_time</th>\n",
              "      <th>in_transit_qty</th>\n",
              "      <th>forecast_3_month</th>\n",
              "      <th>forecast_6_month</th>\n",
              "      <th>forecast_9_month</th>\n",
              "      <th>sales_1_month</th>\n",
              "      <th>sales_3_month</th>\n",
              "      <th>sales_6_month</th>\n",
              "      <th>...</th>\n",
              "      <th>pieces_past_due</th>\n",
              "      <th>perf_6_month_avg</th>\n",
              "      <th>perf_12_month_avg</th>\n",
              "      <th>local_bo_qty</th>\n",
              "      <th>deck_risk</th>\n",
              "      <th>oe_constraint</th>\n",
              "      <th>ppap_risk</th>\n",
              "      <th>stop_auto_buy</th>\n",
              "      <th>rev_stop</th>\n",
              "      <th>went_on_backorder</th>\n",
              "    </tr>\n",
              "  </thead>\n",
              "  <tbody>\n",
              "    <tr>\n",
              "      <th>0</th>\n",
              "      <td>1888279</td>\n",
              "      <td>117</td>\n",
              "      <td>NaN</td>\n",
              "      <td>0</td>\n",
              "      <td>0</td>\n",
              "      <td>0</td>\n",
              "      <td>0</td>\n",
              "      <td>0</td>\n",
              "      <td>0</td>\n",
              "      <td>15</td>\n",
              "      <td>...</td>\n",
              "      <td>0</td>\n",
              "      <td>-99.00</td>\n",
              "      <td>-99.00</td>\n",
              "      <td>0</td>\n",
              "      <td>No</td>\n",
              "      <td>No</td>\n",
              "      <td>Yes</td>\n",
              "      <td>Yes</td>\n",
              "      <td>No</td>\n",
              "      <td>No</td>\n",
              "    </tr>\n",
              "    <tr>\n",
              "      <th>1</th>\n",
              "      <td>1870557</td>\n",
              "      <td>7</td>\n",
              "      <td>2.0</td>\n",
              "      <td>0</td>\n",
              "      <td>0</td>\n",
              "      <td>0</td>\n",
              "      <td>0</td>\n",
              "      <td>0</td>\n",
              "      <td>0</td>\n",
              "      <td>0</td>\n",
              "      <td>...</td>\n",
              "      <td>0</td>\n",
              "      <td>0.50</td>\n",
              "      <td>0.28</td>\n",
              "      <td>0</td>\n",
              "      <td>Yes</td>\n",
              "      <td>No</td>\n",
              "      <td>No</td>\n",
              "      <td>Yes</td>\n",
              "      <td>No</td>\n",
              "      <td>No</td>\n",
              "    </tr>\n",
              "    <tr>\n",
              "      <th>2</th>\n",
              "      <td>1475481</td>\n",
              "      <td>258</td>\n",
              "      <td>15.0</td>\n",
              "      <td>10</td>\n",
              "      <td>10</td>\n",
              "      <td>77</td>\n",
              "      <td>184</td>\n",
              "      <td>46</td>\n",
              "      <td>132</td>\n",
              "      <td>256</td>\n",
              "      <td>...</td>\n",
              "      <td>0</td>\n",
              "      <td>0.54</td>\n",
              "      <td>0.70</td>\n",
              "      <td>0</td>\n",
              "      <td>No</td>\n",
              "      <td>No</td>\n",
              "      <td>No</td>\n",
              "      <td>Yes</td>\n",
              "      <td>No</td>\n",
              "      <td>No</td>\n",
              "    </tr>\n",
              "    <tr>\n",
              "      <th>3</th>\n",
              "      <td>1758220</td>\n",
              "      <td>46</td>\n",
              "      <td>2.0</td>\n",
              "      <td>0</td>\n",
              "      <td>0</td>\n",
              "      <td>0</td>\n",
              "      <td>0</td>\n",
              "      <td>1</td>\n",
              "      <td>2</td>\n",
              "      <td>6</td>\n",
              "      <td>...</td>\n",
              "      <td>0</td>\n",
              "      <td>0.75</td>\n",
              "      <td>0.90</td>\n",
              "      <td>0</td>\n",
              "      <td>Yes</td>\n",
              "      <td>No</td>\n",
              "      <td>No</td>\n",
              "      <td>Yes</td>\n",
              "      <td>No</td>\n",
              "      <td>No</td>\n",
              "    </tr>\n",
              "    <tr>\n",
              "      <th>4</th>\n",
              "      <td>1360312</td>\n",
              "      <td>2</td>\n",
              "      <td>2.0</td>\n",
              "      <td>0</td>\n",
              "      <td>4</td>\n",
              "      <td>6</td>\n",
              "      <td>10</td>\n",
              "      <td>2</td>\n",
              "      <td>2</td>\n",
              "      <td>5</td>\n",
              "      <td>...</td>\n",
              "      <td>0</td>\n",
              "      <td>0.97</td>\n",
              "      <td>0.92</td>\n",
              "      <td>0</td>\n",
              "      <td>No</td>\n",
              "      <td>No</td>\n",
              "      <td>No</td>\n",
              "      <td>Yes</td>\n",
              "      <td>No</td>\n",
              "      <td>No</td>\n",
              "    </tr>\n",
              "  </tbody>\n",
              "</table>\n",
              "<p>5 rows × 23 columns</p>\n",
              "</div>"
            ],
            "text/plain": [
              "       sku  national_inv  lead_time  in_transit_qty  forecast_3_month  \\\n",
              "0  1888279           117        NaN               0                 0   \n",
              "1  1870557             7        2.0               0                 0   \n",
              "2  1475481           258       15.0              10                10   \n",
              "3  1758220            46        2.0               0                 0   \n",
              "4  1360312             2        2.0               0                 4   \n",
              "\n",
              "   forecast_6_month  forecast_9_month  sales_1_month  sales_3_month  \\\n",
              "0                 0                 0              0              0   \n",
              "1                 0                 0              0              0   \n",
              "2                77               184             46            132   \n",
              "3                 0                 0              1              2   \n",
              "4                 6                10              2              2   \n",
              "\n",
              "   sales_6_month        ...         pieces_past_due  perf_6_month_avg  \\\n",
              "0             15        ...                       0            -99.00   \n",
              "1              0        ...                       0              0.50   \n",
              "2            256        ...                       0              0.54   \n",
              "3              6        ...                       0              0.75   \n",
              "4              5        ...                       0              0.97   \n",
              "\n",
              "  perf_12_month_avg  local_bo_qty  deck_risk  oe_constraint  ppap_risk  \\\n",
              "0            -99.00             0         No             No        Yes   \n",
              "1              0.28             0        Yes             No         No   \n",
              "2              0.70             0         No             No         No   \n",
              "3              0.90             0        Yes             No         No   \n",
              "4              0.92             0         No             No         No   \n",
              "\n",
              "  stop_auto_buy rev_stop went_on_backorder  \n",
              "0           Yes       No                No  \n",
              "1           Yes       No                No  \n",
              "2           Yes       No                No  \n",
              "3           Yes       No                No  \n",
              "4           Yes       No                No  \n",
              "\n",
              "[5 rows x 23 columns]"
            ]
          },
          "metadata": {
            "tags": []
          },
          "execution_count": 4
        }
      ]
    },
    {
      "metadata": {
        "id": "Z1ALbUsTMxjW",
        "colab_type": "code",
        "colab": {
          "base_uri": "https://localhost:8080/",
          "height": 317
        },
        "outputId": "ebd4c9e7-9925-4c6f-f5b3-0edabf742fd4"
      },
      "cell_type": "code",
      "source": [
        "BackOrders.describe() # missing values in lead_time"
      ],
      "execution_count": 5,
      "outputs": [
        {
          "output_type": "execute_result",
          "data": {
            "text/html": [
              "<div>\n",
              "<style scoped>\n",
              "    .dataframe tbody tr th:only-of-type {\n",
              "        vertical-align: middle;\n",
              "    }\n",
              "\n",
              "    .dataframe tbody tr th {\n",
              "        vertical-align: top;\n",
              "    }\n",
              "\n",
              "    .dataframe thead th {\n",
              "        text-align: right;\n",
              "    }\n",
              "</style>\n",
              "<table border=\"1\" class=\"dataframe\">\n",
              "  <thead>\n",
              "    <tr style=\"text-align: right;\">\n",
              "      <th></th>\n",
              "      <th>sku</th>\n",
              "      <th>national_inv</th>\n",
              "      <th>lead_time</th>\n",
              "      <th>in_transit_qty</th>\n",
              "      <th>forecast_3_month</th>\n",
              "      <th>forecast_6_month</th>\n",
              "      <th>forecast_9_month</th>\n",
              "      <th>sales_1_month</th>\n",
              "      <th>sales_3_month</th>\n",
              "      <th>sales_6_month</th>\n",
              "      <th>sales_9_month</th>\n",
              "      <th>min_bank</th>\n",
              "      <th>pieces_past_due</th>\n",
              "      <th>perf_6_month_avg</th>\n",
              "      <th>perf_12_month_avg</th>\n",
              "      <th>local_bo_qty</th>\n",
              "    </tr>\n",
              "  </thead>\n",
              "  <tbody>\n",
              "    <tr>\n",
              "      <th>count</th>\n",
              "      <td>6.158900e+04</td>\n",
              "      <td>61589.000000</td>\n",
              "      <td>58186.000000</td>\n",
              "      <td>61589.000000</td>\n",
              "      <td>6.158900e+04</td>\n",
              "      <td>6.158900e+04</td>\n",
              "      <td>6.158900e+04</td>\n",
              "      <td>61589.000000</td>\n",
              "      <td>61589.000000</td>\n",
              "      <td>6.158900e+04</td>\n",
              "      <td>6.158900e+04</td>\n",
              "      <td>61589.000000</td>\n",
              "      <td>61589.000000</td>\n",
              "      <td>61589.000000</td>\n",
              "      <td>61589.000000</td>\n",
              "      <td>61589.000000</td>\n",
              "    </tr>\n",
              "    <tr>\n",
              "      <th>mean</th>\n",
              "      <td>2.037188e+06</td>\n",
              "      <td>287.721882</td>\n",
              "      <td>7.559619</td>\n",
              "      <td>30.192843</td>\n",
              "      <td>1.692728e+02</td>\n",
              "      <td>3.150413e+02</td>\n",
              "      <td>4.535760e+02</td>\n",
              "      <td>44.742957</td>\n",
              "      <td>150.732631</td>\n",
              "      <td>2.835465e+02</td>\n",
              "      <td>4.196427e+02</td>\n",
              "      <td>43.087256</td>\n",
              "      <td>1.605400</td>\n",
              "      <td>-6.264182</td>\n",
              "      <td>-5.863664</td>\n",
              "      <td>1.205361</td>\n",
              "    </tr>\n",
              "    <tr>\n",
              "      <th>std</th>\n",
              "      <td>6.564178e+05</td>\n",
              "      <td>4233.906931</td>\n",
              "      <td>6.498952</td>\n",
              "      <td>792.869253</td>\n",
              "      <td>5.286742e+03</td>\n",
              "      <td>9.774362e+03</td>\n",
              "      <td>1.420201e+04</td>\n",
              "      <td>1373.805831</td>\n",
              "      <td>5224.959649</td>\n",
              "      <td>8.872270e+03</td>\n",
              "      <td>1.269858e+04</td>\n",
              "      <td>959.614135</td>\n",
              "      <td>42.309229</td>\n",
              "      <td>25.537906</td>\n",
              "      <td>24.844514</td>\n",
              "      <td>29.981155</td>\n",
              "    </tr>\n",
              "    <tr>\n",
              "      <th>min</th>\n",
              "      <td>1.068628e+06</td>\n",
              "      <td>-2999.000000</td>\n",
              "      <td>0.000000</td>\n",
              "      <td>0.000000</td>\n",
              "      <td>0.000000e+00</td>\n",
              "      <td>0.000000e+00</td>\n",
              "      <td>0.000000e+00</td>\n",
              "      <td>0.000000</td>\n",
              "      <td>0.000000</td>\n",
              "      <td>0.000000e+00</td>\n",
              "      <td>0.000000e+00</td>\n",
              "      <td>0.000000</td>\n",
              "      <td>0.000000</td>\n",
              "      <td>-99.000000</td>\n",
              "      <td>-99.000000</td>\n",
              "      <td>0.000000</td>\n",
              "    </tr>\n",
              "    <tr>\n",
              "      <th>25%</th>\n",
              "      <td>1.498574e+06</td>\n",
              "      <td>3.000000</td>\n",
              "      <td>4.000000</td>\n",
              "      <td>0.000000</td>\n",
              "      <td>0.000000e+00</td>\n",
              "      <td>0.000000e+00</td>\n",
              "      <td>0.000000e+00</td>\n",
              "      <td>0.000000</td>\n",
              "      <td>0.000000</td>\n",
              "      <td>0.000000e+00</td>\n",
              "      <td>0.000000e+00</td>\n",
              "      <td>0.000000</td>\n",
              "      <td>0.000000</td>\n",
              "      <td>0.620000</td>\n",
              "      <td>0.640000</td>\n",
              "      <td>0.000000</td>\n",
              "    </tr>\n",
              "    <tr>\n",
              "      <th>50%</th>\n",
              "      <td>1.898033e+06</td>\n",
              "      <td>10.000000</td>\n",
              "      <td>8.000000</td>\n",
              "      <td>0.000000</td>\n",
              "      <td>0.000000e+00</td>\n",
              "      <td>0.000000e+00</td>\n",
              "      <td>0.000000e+00</td>\n",
              "      <td>0.000000</td>\n",
              "      <td>2.000000</td>\n",
              "      <td>4.000000e+00</td>\n",
              "      <td>6.000000e+00</td>\n",
              "      <td>0.000000</td>\n",
              "      <td>0.000000</td>\n",
              "      <td>0.820000</td>\n",
              "      <td>0.800000</td>\n",
              "      <td>0.000000</td>\n",
              "    </tr>\n",
              "    <tr>\n",
              "      <th>75%</th>\n",
              "      <td>2.314826e+06</td>\n",
              "      <td>57.000000</td>\n",
              "      <td>8.000000</td>\n",
              "      <td>0.000000</td>\n",
              "      <td>1.200000e+01</td>\n",
              "      <td>2.500000e+01</td>\n",
              "      <td>3.600000e+01</td>\n",
              "      <td>6.000000</td>\n",
              "      <td>17.000000</td>\n",
              "      <td>3.400000e+01</td>\n",
              "      <td>5.100000e+01</td>\n",
              "      <td>3.000000</td>\n",
              "      <td>0.000000</td>\n",
              "      <td>0.960000</td>\n",
              "      <td>0.950000</td>\n",
              "      <td>0.000000</td>\n",
              "    </tr>\n",
              "    <tr>\n",
              "      <th>max</th>\n",
              "      <td>3.284895e+06</td>\n",
              "      <td>673445.000000</td>\n",
              "      <td>52.000000</td>\n",
              "      <td>170976.000000</td>\n",
              "      <td>1.126656e+06</td>\n",
              "      <td>2.094336e+06</td>\n",
              "      <td>3.062016e+06</td>\n",
              "      <td>295197.000000</td>\n",
              "      <td>934593.000000</td>\n",
              "      <td>1.799099e+06</td>\n",
              "      <td>2.631590e+06</td>\n",
              "      <td>192978.000000</td>\n",
              "      <td>7392.000000</td>\n",
              "      <td>1.000000</td>\n",
              "      <td>1.000000</td>\n",
              "      <td>2999.000000</td>\n",
              "    </tr>\n",
              "  </tbody>\n",
              "</table>\n",
              "</div>"
            ],
            "text/plain": [
              "                sku   national_inv     lead_time  in_transit_qty  \\\n",
              "count  6.158900e+04   61589.000000  58186.000000    61589.000000   \n",
              "mean   2.037188e+06     287.721882      7.559619       30.192843   \n",
              "std    6.564178e+05    4233.906931      6.498952      792.869253   \n",
              "min    1.068628e+06   -2999.000000      0.000000        0.000000   \n",
              "25%    1.498574e+06       3.000000      4.000000        0.000000   \n",
              "50%    1.898033e+06      10.000000      8.000000        0.000000   \n",
              "75%    2.314826e+06      57.000000      8.000000        0.000000   \n",
              "max    3.284895e+06  673445.000000     52.000000   170976.000000   \n",
              "\n",
              "       forecast_3_month  forecast_6_month  forecast_9_month  sales_1_month  \\\n",
              "count      6.158900e+04      6.158900e+04      6.158900e+04   61589.000000   \n",
              "mean       1.692728e+02      3.150413e+02      4.535760e+02      44.742957   \n",
              "std        5.286742e+03      9.774362e+03      1.420201e+04    1373.805831   \n",
              "min        0.000000e+00      0.000000e+00      0.000000e+00       0.000000   \n",
              "25%        0.000000e+00      0.000000e+00      0.000000e+00       0.000000   \n",
              "50%        0.000000e+00      0.000000e+00      0.000000e+00       0.000000   \n",
              "75%        1.200000e+01      2.500000e+01      3.600000e+01       6.000000   \n",
              "max        1.126656e+06      2.094336e+06      3.062016e+06  295197.000000   \n",
              "\n",
              "       sales_3_month  sales_6_month  sales_9_month       min_bank  \\\n",
              "count   61589.000000   6.158900e+04   6.158900e+04   61589.000000   \n",
              "mean      150.732631   2.835465e+02   4.196427e+02      43.087256   \n",
              "std      5224.959649   8.872270e+03   1.269858e+04     959.614135   \n",
              "min         0.000000   0.000000e+00   0.000000e+00       0.000000   \n",
              "25%         0.000000   0.000000e+00   0.000000e+00       0.000000   \n",
              "50%         2.000000   4.000000e+00   6.000000e+00       0.000000   \n",
              "75%        17.000000   3.400000e+01   5.100000e+01       3.000000   \n",
              "max    934593.000000   1.799099e+06   2.631590e+06  192978.000000   \n",
              "\n",
              "       pieces_past_due  perf_6_month_avg  perf_12_month_avg  local_bo_qty  \n",
              "count     61589.000000      61589.000000       61589.000000  61589.000000  \n",
              "mean          1.605400         -6.264182          -5.863664      1.205361  \n",
              "std          42.309229         25.537906          24.844514     29.981155  \n",
              "min           0.000000        -99.000000         -99.000000      0.000000  \n",
              "25%           0.000000          0.620000           0.640000      0.000000  \n",
              "50%           0.000000          0.820000           0.800000      0.000000  \n",
              "75%           0.000000          0.960000           0.950000      0.000000  \n",
              "max        7392.000000          1.000000           1.000000   2999.000000  "
            ]
          },
          "metadata": {
            "tags": []
          },
          "execution_count": 5
        }
      ]
    },
    {
      "metadata": {
        "id": "TiUhfqVmM4JD",
        "colab_type": "text"
      },
      "cell_type": "markdown",
      "source": [
        "Exploratory analysis to impute lead time"
      ]
    },
    {
      "metadata": {
        "id": "6rOia2s3NVpk",
        "colab_type": "code",
        "colab": {
          "base_uri": "https://localhost:8080/",
          "height": 2135
        },
        "outputId": "f62cc989-8ca7-4b16-8444-e3e2f8270da5"
      },
      "cell_type": "code",
      "source": [
        "columns = [\"went_on_backorder\", \"deck_risk\", \"oe_constraint\", \"ppap_risk\", \"stop_auto_buy\", \"rev_stop\"]\n",
        "\n",
        "for col in columns:\n",
        "  plt.figure()\n",
        "  sns.boxplot(x=\"lead_time\", y=col, data=BackOrders)\n",
        "\n"
      ],
      "execution_count": 8,
      "outputs": [
        {
          "output_type": "stream",
          "text": [
            "/usr/local/lib/python3.6/dist-packages/seaborn/categorical.py:454: FutureWarning: remove_na is deprecated and is a private function. Do not use.\n",
            "  box_data = remove_na(group_data)\n"
          ],
          "name": "stderr"
        },
        {
          "output_type": "display_data",
          "data": {
            "image/png": "[encoded data removed]",
            "text/plain": [
              "<matplotlib.figure.Figure at 0x7f01add65780>"
            ]
          },
          "metadata": {
            "tags": []
          }
        },
        {
          "output_type": "display_data",
          "data": {
            "image/png": "[encoded data removed]",
            "text/plain": [
              "<matplotlib.figure.Figure at 0x7f01add7c0b8>"
            ]
          },
          "metadata": {
            "tags": []
          }
        },
        {
          "output_type": "display_data",
          "data": {
            "image/png": "[encoded data removed]",
            "text/plain": [
              "<matplotlib.figure.Figure at 0x7f01adcca518>"
            ]
          },
          "metadata": {
            "tags": []
          }
        },
        {
          "output_type": "display_data",
          "data": {
            "image/png": "[encoded data removed]",
            "text/plain": [
              "<matplotlib.figure.Figure at 0x7f01adc22898>"
            ]
          },
          "metadata": {
            "tags": []
          }
        },
        {
          "output_type": "display_data",
          "data": {
            "image/png": "[encoded data removed]",
            "text/plain": [
              "<matplotlib.figure.Figure at 0x7f01adc00358>"
            ]
          },
          "metadata": {
            "tags": []
          }
        },
        {
          "output_type": "display_data",
          "data": {
            "image/png": "[encoded data removed]",
            "text/plain": [
              "<matplotlib.figure.Figure at 0x7f01adbf77b8>"
            ]
          },
          "metadata": {
            "tags": []
          }
        }
      ]
    },
    {
      "metadata": {
        "id": "Y3sAoBtwO7Zz",
        "colab_type": "text"
      },
      "cell_type": "markdown",
      "source": [
        "Evaluating fields hich can be used to impute lead time NA values"
      ]
    },
    {
      "metadata": {
        "id": "qLWARTG8O3r-",
        "colab_type": "code",
        "colab": {
          "base_uri": "https://localhost:8080/",
          "height": 493
        },
        "outputId": "435c9531-c017-4d46-c7e4-0ac1e81af58b"
      },
      "cell_type": "code",
      "source": [
        "print(BackOrders.groupby('stop_auto_buy', as_index=False)['lead_time'].mean())\n",
        "print(BackOrders.groupby('rev_stop', as_index=False)['lead_time'].mean())\n",
        "print(BackOrders.groupby('oe_constraint', as_index=False)['lead_time'].mean())\n",
        "print(BackOrders.groupby(['stop_auto_buy', 'oe_constraint'], as_index=False)['lead_time'].mean())\n",
        "print(BackOrders.groupby(['stop_auto_buy', 'rev_stop'], as_index=False)['lead_time'].mean())\n",
        "print(BackOrders.groupby(['rev_stop', 'oe_constraint'], as_index=False)['lead_time'].mean())\n",
        "print(BackOrders.groupby(['stop_auto_buy', 'rev_stop', 'oe_constraint'], as_index=False)['lead_time'].mean())"
      ],
      "execution_count": 9,
      "outputs": [
        {
          "output_type": "stream",
          "text": [
            "  stop_auto_buy  lead_time\n",
            "0            No  17.137931\n",
            "1           Yes   7.314827\n",
            "  rev_stop  lead_time\n",
            "0       No   7.559555\n",
            "1      Yes   7.846154\n",
            "  oe_constraint  lead_time\n",
            "0            No   7.560353\n",
            "1           Yes   4.000000\n",
            "  stop_auto_buy oe_constraint  lead_time\n",
            "0            No            No  17.137931\n",
            "1           Yes            No   7.315528\n",
            "2           Yes           Yes   4.000000\n",
            "  stop_auto_buy rev_stop  lead_time\n",
            "0            No       No  17.194444\n",
            "1            No      Yes   9.000000\n",
            "2           Yes       No   7.315002\n",
            "3           Yes      Yes   4.000000\n",
            "  rev_stop oe_constraint  lead_time\n",
            "0       No            No   7.560290\n",
            "1       No           Yes   4.000000\n",
            "2      Yes            No   7.846154\n",
            "  stop_auto_buy rev_stop oe_constraint  lead_time\n",
            "0            No       No            No  17.194444\n",
            "1            No      Yes            No   9.000000\n",
            "2           Yes       No            No   7.315703\n",
            "3           Yes       No           Yes   4.000000\n",
            "4           Yes      Yes            No   4.000000\n"
          ],
          "name": "stdout"
        }
      ]
    },
    {
      "metadata": {
        "id": "t-UV1wJYPKUG",
        "colab_type": "text"
      },
      "cell_type": "markdown",
      "source": [
        "Imputing lead_time"
      ]
    },
    {
      "metadata": {
        "id": "rPVmxtyiPIWD",
        "colab_type": "code",
        "colab": {}
      },
      "cell_type": "code",
      "source": [
        "\n",
        "BackOrders['lead_time'] = BackOrders.groupby(['stop_auto_buy', 'rev_stop', 'oe_constraint'])['lead_time'].transform(lambda x: x.fillna(x.mean()))\n"
      ],
      "execution_count": 0,
      "outputs": []
    },
    {
      "metadata": {
        "id": "I3dCZVj5Pc_U",
        "colab_type": "text"
      },
      "cell_type": "markdown",
      "source": [
        "Changing datatype of objects column to categories for dummification later on"
      ]
    },
    {
      "metadata": {
        "id": "CWseSxNVPd6s",
        "colab_type": "code",
        "colab": {}
      },
      "cell_type": "code",
      "source": [
        "\n",
        "def dtype_Convert(dtp1, col, data):\n",
        "    for i in range(len(dtp1)):\n",
        "        if dtp1[i] == \"object\":\n",
        "            data[col[i]]=data[col[i]].astype('category')"
      ],
      "execution_count": 0,
      "outputs": []
    },
    {
      "metadata": {
        "id": "tAAJ-sWGpUa3",
        "colab_type": "code",
        "colab": {}
      },
      "cell_type": "code",
      "source": [
        "dtp = pd.Series(BackOrders.dtypes)\n",
        "dtp1 = dtp.tolist()\n",
        "col = BackOrders.columns.tolist()"
      ],
      "execution_count": 0,
      "outputs": []
    },
    {
      "metadata": {
        "id": "QBQH_7_noI7j",
        "colab_type": "code",
        "colab": {}
      },
      "cell_type": "code",
      "source": [
        "dtype_Convert(dtp1, col, BackOrders)"
      ],
      "execution_count": 0,
      "outputs": []
    },
    {
      "metadata": {
        "id": "xbJim4Aephka",
        "colab_type": "text"
      },
      "cell_type": "markdown",
      "source": [
        "Outlier detection and treatment"
      ]
    },
    {
      "metadata": {
        "id": "ga4xY5k-pg87",
        "colab_type": "code",
        "colab": {
          "base_uri": "https://localhost:8080/",
          "height": 5575
        },
        "outputId": "23d9fbfa-0107-449e-c9af-b9234b423ab5"
      },
      "cell_type": "code",
      "source": [
        "cols = list(BackOrders.select_dtypes(include=['int', 'float']).columns)\n",
        "\n",
        "for col in cols:\n",
        "  plt.figure()\n",
        "  sns.boxplot(x=col, y=\"went_on_backorder\", data=BackOrders)"
      ],
      "execution_count": 14,
      "outputs": [
        {
          "output_type": "stream",
          "text": [
            "/usr/local/lib/python3.6/dist-packages/seaborn/categorical.py:454: FutureWarning: remove_na is deprecated and is a private function. Do not use.\n",
            "  box_data = remove_na(group_data)\n"
          ],
          "name": "stderr"
        },
        {
          "output_type": "display_data",
          "data": {
            "image/png": "[encoded data removed]",
            "text/plain": [
              "<matplotlib.figure.Figure at 0x7f01b06402e8>"
            ]
          },
          "metadata": {
            "tags": []
          }
        },
        {
          "output_type": "display_data",
          "data": {
            "image/png": "[encoded data removed]",
            "text/plain": [
              "<matplotlib.figure.Figure at 0x7f01b05de8d0>"
            ]
          },
          "metadata": {
            "tags": []
          }
        },
        {
          "output_type": "display_data",
          "data": {
            "image/png": "[encoded data removed]",
            "text/plain": [
              "<matplotlib.figure.Figure at 0x7f01b06eb3c8>"
            ]
          },
          "metadata": {
            "tags": []
          }
        },
        {
          "output_type": "display_data",
          "data": {
            "image/png": "[encoded data removed]",
            "text/plain": [
              "<matplotlib.figure.Figure at 0x7f01adaaee10>"
            ]
          },
          "metadata": {
            "tags": []
          }
        },
        {
          "output_type": "display_data",
          "data": {
            "image/png": "[encoded data removed]",
            "text/plain": [
              "<matplotlib.figure.Figure at 0x7f01ada2ec18>"
            ]
          },
          "metadata": {
            "tags": []
          }
        },
        {
          "output_type": "display_data",
          "data": {
            "image/png": "[encoded data removed]",
            "text/plain": [
              "<matplotlib.figure.Figure at 0x7f01ada7df60>"
            ]
          },
          "metadata": {
            "tags": []
          }
        },
        {
          "output_type": "display_data",
          "data": {
            "image/png": "[encoded data removed]",
            "text/plain": [
              "<matplotlib.figure.Figure at 0x7f01ad9b8198>"
            ]
          },
          "metadata": {
            "tags": []
          }
        },
        {
          "output_type": "display_data",
          "data": {
            "image/png": "[encoded data removed]",
            "text/plain": [
              "<matplotlib.figure.Figure at 0x7f01ad9896d8>"
            ]
          },
          "metadata": {
            "tags": []
          }
        },
        {
          "output_type": "display_data",
          "data": {
            "image/png": "[encoded data removed]",
            "text/plain": [
              "<matplotlib.figure.Figure at 0x7f01ad8e84e0>"
            ]
          },
          "metadata": {
            "tags": []
          }
        },
        {
          "output_type": "display_data",
          "data": {
            "image/png": "[encoded data removed]",
            "text/plain": [
              "<matplotlib.figure.Figure at 0x7f01ad8c9278>"
            ]
          },
          "metadata": {
            "tags": []
          }
        },
        {
          "output_type": "display_data",
          "data": {
            "image/png": "[encoded data removed]",
            "text/plain": [
              "<matplotlib.figure.Figure at 0x7f01ad817390>"
            ]
          },
          "metadata": {
            "tags": []
          }
        },
        {
          "output_type": "display_data",
          "data": {
            "image/png": "[encoded data removed]",
            "text/plain": [
              "<matplotlib.figure.Figure at 0x7f01ad7e5c18>"
            ]
          },
          "metadata": {
            "tags": []
          }
        },
        {
          "output_type": "display_data",
          "data": {
            "image/png": "[encoded data removed]",
            "text/plain": [
              "<matplotlib.figure.Figure at 0x7f01ad74ea20>"
            ]
          },
          "metadata": {
            "tags": []
          }
        },
        {
          "output_type": "display_data",
          "data": {
            "image/png": "[encoded data removed]",
            "text/plain": [
              "<matplotlib.figure.Figure at 0x7f01ad720e48>"
            ]
          },
          "metadata": {
            "tags": []
          }
        },
        {
          "output_type": "display_data",
          "data": {
            "image/png": "[encoded data removed]",
            "text/plain": [
              "<matplotlib.figure.Figure at 0x7f01ad700a90>"
            ]
          },
          "metadata": {
            "tags": []
          }
        },
        {
          "output_type": "display_data",
          "data": {
            "image/png": "[encoded data removed]",
            "text/plain": [
              "<matplotlib.figure.Figure at 0x7f01ad680b00>"
            ]
          },
          "metadata": {
            "tags": []
          }
        }
      ]
    },
    {
      "metadata": {
        "id": "Kn2wIdf6pg6p",
        "colab_type": "code",
        "colab": {}
      },
      "cell_type": "code",
      "source": [
        "cols = list(BackOrders.select_dtypes(include=['int', 'float']).columns)\n",
        "\n",
        "cols = [e for e in cols if e not in (\"local_bo_qty\", \"lead_time\", \"sku\")]\n"
      ],
      "execution_count": 0,
      "outputs": []
    },
    {
      "metadata": {
        "id": "svihfXUPpyVe",
        "colab_type": "text"
      },
      "cell_type": "markdown",
      "source": [
        "Using quantile methods for outier treatment.\n",
        "Outlier treatment on new data to compare with old dataset"
      ]
    },
    {
      "metadata": {
        "id": "XtT_VUxIpx9t",
        "colab_type": "code",
        "colab": {}
      },
      "cell_type": "code",
      "source": [
        "BackOrders_Out = pd.read_csv(\"/content/drive/My Drive/Colab_Folder/BackOrders.csv\", na_values=[\"?\",\",\"])\n",
        "BackOrders_Out['lead_time'] = BackOrders_Out.groupby(['stop_auto_buy', 'rev_stop', 'oe_constraint'])['lead_time'].transform(lambda x: x.fillna(x.mean()))"
      ],
      "execution_count": 0,
      "outputs": []
    },
    {
      "metadata": {
        "id": "9V9zAy8Npg4R",
        "colab_type": "code",
        "colab": {}
      },
      "cell_type": "code",
      "source": [
        "def outliers_iqr(cols, df):\n",
        "  for col in cols:\n",
        "    quartile_1 = df[col].quantile(0.25) \n",
        "    quartile_3 = df[col].quantile(0.75)\n",
        "    iqr = quartile_3 - quartile_1\n",
        "    lower_bound = quartile_1 - (iqr * 1.5)\n",
        "    upper_bound = quartile_3 + (iqr * 1.5)\n",
        "    median = df[col].median()\n",
        "    df[col] = df[col].mask(df[col] > upper_bound, median)\n",
        "    df[col] = df[col].mask(df[col] < lower_bound, median)   \n",
        "  return"
      ],
      "execution_count": 0,
      "outputs": []
    },
    {
      "metadata": {
        "id": "tTwO2eUbpg1K",
        "colab_type": "code",
        "colab": {}
      },
      "cell_type": "code",
      "source": [
        "outliers_iqr(cols, BackOrders_Out)"
      ],
      "execution_count": 0,
      "outputs": []
    },
    {
      "metadata": {
        "id": "BsC96-XIqyaA",
        "colab_type": "text"
      },
      "cell_type": "markdown",
      "source": [
        "Comparing summary to check effect of outlier treatment"
      ]
    },
    {
      "metadata": {
        "id": "kfQgtGQapgyU",
        "colab_type": "code",
        "colab": {
          "base_uri": "https://localhost:8080/",
          "height": 1224
        },
        "outputId": "1e4d45b8-3f51-44c1-b869-41cda1a7bba8"
      },
      "cell_type": "code",
      "source": [
        "\n",
        "print(pd.concat([pd.DataFrame(BackOrders.describe()), pd.DataFrame(BackOrders_Out.describe())]))"
      ],
      "execution_count": 19,
      "outputs": [
        {
          "output_type": "stream",
          "text": [
            "                sku   national_inv     lead_time  in_transit_qty  \\\n",
            "count  6.158900e+04   61589.000000  61589.000000    61589.000000   \n",
            "mean   2.037188e+06     287.721882      7.679858       30.192843   \n",
            "std    6.564178e+05    4233.906931      6.414996      792.869253   \n",
            "min    1.068628e+06   -2999.000000      0.000000        0.000000   \n",
            "25%    1.498574e+06       3.000000      4.000000        0.000000   \n",
            "50%    1.898033e+06      10.000000      8.000000        0.000000   \n",
            "75%    2.314826e+06      57.000000      8.000000        0.000000   \n",
            "max    3.284895e+06  673445.000000     52.000000   170976.000000   \n",
            "count  6.158900e+04   61589.000000  61589.000000    61589.000000   \n",
            "mean   2.037188e+06      18.053646      7.679858        0.000000   \n",
            "std    6.564178e+05      27.157908      6.414996        0.000000   \n",
            "min    1.068628e+06     -75.000000      0.000000        0.000000   \n",
            "25%    1.498574e+06       3.000000      4.000000        0.000000   \n",
            "50%    1.898033e+06      10.000000      8.000000        0.000000   \n",
            "75%    2.314826e+06      18.000000      8.000000        0.000000   \n",
            "max    3.284895e+06     138.000000     52.000000        0.000000   \n",
            "\n",
            "       forecast_3_month  forecast_6_month  forecast_9_month  sales_1_month  \\\n",
            "count      6.158900e+04      6.158900e+04      6.158900e+04   61589.000000   \n",
            "mean       1.692728e+02      3.150413e+02      4.535760e+02      44.742957   \n",
            "std        5.286742e+03      9.774362e+03      1.420201e+04    1373.805831   \n",
            "min        0.000000e+00      0.000000e+00      0.000000e+00       0.000000   \n",
            "25%        0.000000e+00      0.000000e+00      0.000000e+00       0.000000   \n",
            "50%        0.000000e+00      0.000000e+00      0.000000e+00       0.000000   \n",
            "75%        1.200000e+01      2.500000e+01      3.600000e+01       6.000000   \n",
            "max        1.126656e+06      2.094336e+06      3.062016e+06  295197.000000   \n",
            "count      6.158900e+04      6.158900e+04      6.158900e+04   61589.000000   \n",
            "mean       2.320950e+00      4.951923e+00      7.165874e+00       1.457013   \n",
            "std        5.767793e+00      1.163105e+01      1.664275e+01       2.981867   \n",
            "min        0.000000e+00      0.000000e+00      0.000000e+00       0.000000   \n",
            "25%        0.000000e+00      0.000000e+00      0.000000e+00       0.000000   \n",
            "50%        0.000000e+00      0.000000e+00      0.000000e+00       0.000000   \n",
            "75%        0.000000e+00      2.000000e+00      4.000000e+00       1.000000   \n",
            "max        3.000000e+01      6.200000e+01      9.000000e+01      15.000000   \n",
            "\n",
            "       sales_3_month  sales_6_month  sales_9_month       min_bank  \\\n",
            "count   61589.000000   6.158900e+04   6.158900e+04   61589.000000   \n",
            "mean      150.732631   2.835465e+02   4.196427e+02      43.087256   \n",
            "std      5224.959649   8.872270e+03   1.269858e+04     959.614135   \n",
            "min         0.000000   0.000000e+00   0.000000e+00       0.000000   \n",
            "25%         0.000000   0.000000e+00   0.000000e+00       0.000000   \n",
            "50%         2.000000   4.000000e+00   6.000000e+00       0.000000   \n",
            "75%        17.000000   3.400000e+01   5.100000e+01       3.000000   \n",
            "max    934593.000000   1.799099e+06   2.631590e+06  192978.000000   \n",
            "count   61589.000000   6.158900e+04   6.158900e+04   61589.000000   \n",
            "mean        4.641300   9.253958e+00   1.379295e+01       0.560636   \n",
            "std         8.218458   1.626324e+01   2.417860e+01       1.196627   \n",
            "min         0.000000   0.000000e+00   0.000000e+00       0.000000   \n",
            "25%         0.000000   0.000000e+00   0.000000e+00       0.000000   \n",
            "50%         2.000000   4.000000e+00   6.000000e+00       0.000000   \n",
            "75%         4.000000   9.000000e+00   1.300000e+01       1.000000   \n",
            "max        42.000000   8.500000e+01   1.270000e+02       7.000000   \n",
            "\n",
            "       pieces_past_due  perf_6_month_avg  perf_12_month_avg  local_bo_qty  \n",
            "count     61589.000000      61589.000000       61589.000000  61589.000000  \n",
            "mean          1.605400         -6.264182          -5.863664      1.205361  \n",
            "std          42.309229         25.537906          24.844514     29.981155  \n",
            "min           0.000000        -99.000000         -99.000000      0.000000  \n",
            "25%           0.000000          0.620000           0.640000      0.000000  \n",
            "50%           0.000000          0.820000           0.800000      0.000000  \n",
            "75%           0.000000          0.960000           0.950000      0.000000  \n",
            "max        7392.000000          1.000000           1.000000   2999.000000  \n",
            "count     61589.000000      61589.000000       61589.000000  61589.000000  \n",
            "mean          0.000000          0.803452           0.801813      1.205361  \n",
            "std           0.000000          0.187847           0.171256     29.981155  \n",
            "min           0.000000          0.110000           0.180000      0.000000  \n",
            "25%           0.000000          0.730000           0.740000      0.000000  \n",
            "50%           0.000000          0.820000           0.800000      0.000000  \n",
            "75%           0.000000          0.960000           0.950000      0.000000  \n",
            "max           0.000000          1.000000           1.000000   2999.000000  \n"
          ],
          "name": "stdout"
        }
      ]
    },
    {
      "metadata": {
        "id": "sffchwPttIWV",
        "colab_type": "code",
        "colab": {
          "base_uri": "https://localhost:8080/",
          "height": 427
        },
        "outputId": "1e97c9e4-29e9-4072-a5c8-150abdf43a2f"
      },
      "cell_type": "code",
      "source": [
        "#Plotting the frequencies of orders which went into backorder and which did not\n",
        "count_classes = pd.value_counts(BackOrders_Out['went_on_backorder'], sort = True)\n",
        "print(count_classes)\n",
        "\n",
        "#Drawing a barplot\n",
        "count_classes.plot(kind = 'bar', rot=0)\n",
        "\n",
        "#Giving titles and labels to the plot\n",
        "plt.title(\"Transaction class distribution\")\n",
        "plt.xlabel(\"Class\")\n",
        "plt.ylabel(\"Frequency\");"
      ],
      "execution_count": 21,
      "outputs": [
        {
          "output_type": "stream",
          "text": [
            "No     50296\n",
            "Yes    11293\n",
            "Name: went_on_backorder, dtype: int64\n"
          ],
          "name": "stdout"
        },
        {
          "output_type": "display_data",
          "data": {
            "image/png": "[encoded data removed]",
            "text/plain": [
              "<matplotlib.figure.Figure at 0x7f01ad403978>"
            ]
          },
          "metadata": {
            "tags": []
          }
        }
      ]
    },
    {
      "metadata": {
        "id": "k_JCyQ4stIJL",
        "colab_type": "code",
        "colab": {}
      },
      "cell_type": "code",
      "source": [
        ""
      ],
      "execution_count": 0,
      "outputs": []
    },
    {
      "metadata": {
        "id": "fnsk9gP_q9gv",
        "colab_type": "text"
      },
      "cell_type": "markdown",
      "source": [
        "Implementing \"Fraud detection autoencoder approach\""
      ]
    },
    {
      "metadata": {
        "id": "yFG0U8HZwCQV",
        "colab_type": "text"
      },
      "cell_type": "markdown",
      "source": [
        "Creating training and test set and separating two classes i.e. went_on_backorder = ['no', 'yes']"
      ]
    },
    {
      "metadata": {
        "id": "zxRu_S5_pgvb",
        "colab_type": "code",
        "colab": {
          "base_uri": "https://localhost:8080/",
          "height": 51
        },
        "outputId": "0c46c43b-e6a4-44fb-8d33-94febc362189"
      },
      "cell_type": "code",
      "source": [
        "train, test = train_test_split(BackOrders_Out, test_size=0.2, random_state=12345)\n",
        "print(train.shape)\n",
        "print(test.shape)"
      ],
      "execution_count": 22,
      "outputs": [
        {
          "output_type": "stream",
          "text": [
            "(49271, 23)\n",
            "(12318, 23)\n"
          ],
          "name": "stdout"
        }
      ]
    },
    {
      "metadata": {
        "id": "5Ipi32u5pgsg",
        "colab_type": "code",
        "colab": {}
      },
      "cell_type": "code",
      "source": [
        "# removing sku column\n",
        "# train = train.iloc[:, :-\"sku\"]\n",
        "train = train.drop(\"sku\", axis=1)\n",
        "# train.head(5)\n",
        "test = test.drop(\"sku\", axis=1)\n",
        "# train.head(5)"
      ],
      "execution_count": 0,
      "outputs": []
    },
    {
      "metadata": {
        "id": "ESrot4P9uZ7f",
        "colab_type": "text"
      },
      "cell_type": "markdown",
      "source": [
        "Let us consider  went_on_backorder =  'yes' as rare class and separate the two classes to fit an autoencoder"
      ]
    },
    {
      "metadata": {
        "id": "cLRTpQ6UQZ6v",
        "colab_type": "code",
        "outputId": "381fc1f6-fec0-46ea-aa8d-e5e5ef98fc1c",
        "colab": {
          "base_uri": "https://localhost:8080/",
          "height": 51
        }
      },
      "cell_type": "code",
      "source": [
        "#Now consider only the non-fraud records for training\n",
        "train_No = train.loc[train[\"went_on_backorder\"] == \"No\"]\n",
        "print(train_No.shape)\n",
        "\n",
        "# #Now consider only the non-fraud records for training\n",
        "train_Yes = train.loc[train[\"went_on_backorder\"] == \"Yes\"]\n",
        "# train_Yes = train_Yes[:,\"went_on_backorder\"]\n",
        "print(train_Yes.shape)"
      ],
      "execution_count": 24,
      "outputs": [
        {
          "output_type": "stream",
          "text": [
            "(40158, 22)\n",
            "(9113, 22)\n"
          ],
          "name": "stdout"
        }
      ]
    },
    {
      "metadata": {
        "id": "VZn3wSjkpgou",
        "colab_type": "code",
        "colab": {
          "base_uri": "https://localhost:8080/",
          "height": 34
        },
        "outputId": "69b20bbf-4ca6-4ff2-8f7c-ffb0c81bd952"
      },
      "cell_type": "code",
      "source": [
        "X_train_No = train_No.iloc[:, :-1] #removing target column\n",
        "print(X_train_No.shape)"
      ],
      "execution_count": 25,
      "outputs": [
        {
          "output_type": "stream",
          "text": [
            "(40158, 21)\n"
          ],
          "name": "stdout"
        }
      ]
    },
    {
      "metadata": {
        "id": "KDqhzH4zv_DV",
        "colab_type": "text"
      },
      "cell_type": "markdown",
      "source": [
        "Clubbing test data with went_on_backorder =  'yes' of train data to ensure that the model is only trained on went_on_backorder =  'no'"
      ]
    },
    {
      "metadata": {
        "id": "SRatKW5Npglb",
        "colab_type": "code",
        "colab": {
          "base_uri": "https://localhost:8080/",
          "height": 34
        },
        "outputId": "ec06d74a-2887-40c1-993b-960961c33d78"
      },
      "cell_type": "code",
      "source": [
        "test1 = pd.concat([train_Yes, test])\n",
        "print(test1.shape)"
      ],
      "execution_count": 27,
      "outputs": [
        {
          "output_type": "stream",
          "text": [
            "(21431, 22)\n"
          ],
          "name": "stdout"
        }
      ]
    },
    {
      "metadata": {
        "id": "PE5TqS34yIEL",
        "colab_type": "code",
        "colab": {}
      },
      "cell_type": "code",
      "source": [
        "X_test,X_eval = train_test_split(test1, test_size=0.2, random_state=1111)"
      ],
      "execution_count": 0,
      "outputs": []
    },
    {
      "metadata": {
        "id": "DP5S7obFyH_g",
        "colab_type": "code",
        "colab": {}
      },
      "cell_type": "code",
      "source": [
        "#Separating the independent and the class variable\n",
        "y_test = X_test.iloc[:,-1]\n",
        "X_test = X_test.iloc[:, :-1]"
      ],
      "execution_count": 0,
      "outputs": []
    },
    {
      "metadata": {
        "id": "pZIPN6Bzw0Lp",
        "colab_type": "text"
      },
      "cell_type": "markdown",
      "source": [
        "Converting \"category\" columns to dummy variables"
      ]
    },
    {
      "metadata": {
        "id": "dyC-JZI-wzJE",
        "colab_type": "code",
        "colab": {}
      },
      "cell_type": "code",
      "source": [
        "X_train_No = pd.get_dummies(X_train_No)\n",
        "X_test = pd.get_dummies(X_test)"
      ],
      "execution_count": 0,
      "outputs": []
    },
    {
      "metadata": {
        "id": "cXKlDW6Vw7AQ",
        "colab_type": "text"
      },
      "cell_type": "markdown",
      "source": [
        "Scaling the datasets"
      ]
    },
    {
      "metadata": {
        "id": "6HBtJiDiwzHv",
        "colab_type": "code",
        "colab": {}
      },
      "cell_type": "code",
      "source": [
        "x = X_train_No.values #returns a numpy array\n",
        "min_max_scaler_train = preprocessing.MinMaxScaler()\n",
        "x_scaled = min_max_scaler_train.fit_transform(x)\n",
        "X_train_No_scaled = pd.DataFrame(x_scaled, columns=X_train_No.columns)\n"
      ],
      "execution_count": 0,
      "outputs": []
    },
    {
      "metadata": {
        "id": "CZ6Lrcf3wzEe",
        "colab_type": "code",
        "colab": {}
      },
      "cell_type": "code",
      "source": [
        "x = X_test.values #returns a numpy array\n",
        "min_max_scaler_test = preprocessing.MinMaxScaler()\n",
        "x_scaled = min_max_scaler_test.fit_transform(x)\n",
        "X_test_scaled = pd.DataFrame(x_scaled, columns=X_test.columns)"
      ],
      "execution_count": 0,
      "outputs": []
    },
    {
      "metadata": {
        "id": "ERZl-zDSxHMd",
        "colab_type": "text"
      },
      "cell_type": "markdown",
      "source": [
        "Training Autoencoders"
      ]
    },
    {
      "metadata": {
        "id": "8I6SsOd6wzBq",
        "colab_type": "code",
        "colab": {}
      },
      "cell_type": "code",
      "source": [
        "input_dim = X_train_No_scaled.shape[1]\n",
        "encoding_dim = 15\n"
      ],
      "execution_count": 0,
      "outputs": []
    },
    {
      "metadata": {
        "id": "c9hpY1WsxV7e",
        "colab_type": "text"
      },
      "cell_type": "markdown",
      "source": [
        "Simple autoencoder: similar to \"Fraud Detection Exercise\""
      ]
    },
    {
      "metadata": {
        "id": "LSRvELf9wy-y",
        "colab_type": "code",
        "colab": {}
      },
      "cell_type": "code",
      "source": [
        "autoencoder = Sequential()\n",
        "\n",
        "autoencoder.add(Dropout(0.2, input_shape=(input_dim,)))\n",
        "autoencoder.add(Dense(encoding_dim, activation='relu'))\n",
        "autoencoder.add(Dense(input_dim, activation='linear'))"
      ],
      "execution_count": 0,
      "outputs": []
    },
    {
      "metadata": {
        "id": "SYtz_zJXwy7H",
        "colab_type": "code",
        "colab": {}
      },
      "cell_type": "code",
      "source": [
        "nb_epoch = 20\n",
        "batch_size = 32\n",
        "\n",
        "autoencoder.compile(optimizer='adam', \n",
        "                    loss='mean_squared_error', \n",
        "                    metrics=['mse'])"
      ],
      "execution_count": 0,
      "outputs": []
    },
    {
      "metadata": {
        "id": "2j9RiABhwy2r",
        "colab_type": "code",
        "colab": {
          "base_uri": "https://localhost:8080/",
          "height": 1057
        },
        "outputId": "04346f0f-30f3-491f-e0b7-42ed5b6d6543"
      },
      "cell_type": "code",
      "source": [
        "hist = []\n",
        "for _ in range(20):\n",
        "    hist.append(autoencoder.fit(X_train_No_scaled, X_train_No_scaled,\n",
        "                    epochs=1,\n",
        "                    batch_size=batch_size,\n",
        "                    shuffle=True,\n",
        "                     validation_split=0.3,\n",
        "                    verbose=1).history)"
      ],
      "execution_count": 40,
      "outputs": [
        {
          "output_type": "stream",
          "text": [
            "Train on 28110 samples, validate on 12048 samples\n",
            "Epoch 1/1\n",
            "28110/28110 [==============================] - 2s 70us/step - loss: 0.0407 - mean_squared_error: 0.0407 - val_loss: 0.0105 - val_mean_squared_error: 0.0105\n",
            "Train on 28110 samples, validate on 12048 samples\n",
            "Epoch 1/1\n",
            "28110/28110 [==============================] - 1s 52us/step - loss: 0.0149 - mean_squared_error: 0.0149 - val_loss: 0.0079 - val_mean_squared_error: 0.0079\n",
            "Train on 28110 samples, validate on 12048 samples\n",
            "Epoch 1/1\n",
            "28110/28110 [==============================] - 1s 51us/step - loss: 0.0119 - mean_squared_error: 0.0119 - val_loss: 0.0056 - val_mean_squared_error: 0.0056\n",
            "Train on 28110 samples, validate on 12048 samples\n",
            "Epoch 1/1\n",
            "28110/28110 [==============================] - 1s 51us/step - loss: 0.0105 - mean_squared_error: 0.0105 - val_loss: 0.0051 - val_mean_squared_error: 0.0051\n",
            "Train on 28110 samples, validate on 12048 samples\n",
            "Epoch 1/1\n",
            "28110/28110 [==============================] - 1s 52us/step - loss: 0.0104 - mean_squared_error: 0.0104 - val_loss: 0.0051 - val_mean_squared_error: 0.0051\n",
            "Train on 28110 samples, validate on 12048 samples\n",
            "Epoch 1/1\n",
            "28110/28110 [==============================] - 1s 51us/step - loss: 0.0103 - mean_squared_error: 0.0103 - val_loss: 0.0050 - val_mean_squared_error: 0.0050\n",
            "Train on 28110 samples, validate on 12048 samples\n",
            "Epoch 1/1\n",
            "28110/28110 [==============================] - 1s 51us/step - loss: 0.0101 - mean_squared_error: 0.0101 - val_loss: 0.0049 - val_mean_squared_error: 0.0049\n",
            "Train on 28110 samples, validate on 12048 samples\n",
            "Epoch 1/1\n",
            "28110/28110 [==============================] - 1s 51us/step - loss: 0.0102 - mean_squared_error: 0.0102 - val_loss: 0.0048 - val_mean_squared_error: 0.0048\n",
            "Train on 28110 samples, validate on 12048 samples\n",
            "Epoch 1/1\n",
            "28110/28110 [==============================] - 1s 51us/step - loss: 0.0101 - mean_squared_error: 0.0101 - val_loss: 0.0044 - val_mean_squared_error: 0.0044\n",
            "Train on 28110 samples, validate on 12048 samples\n",
            "Epoch 1/1\n",
            "28110/28110 [==============================] - 1s 51us/step - loss: 0.0099 - mean_squared_error: 0.0099 - val_loss: 0.0044 - val_mean_squared_error: 0.0044\n",
            "Train on 28110 samples, validate on 12048 samples\n",
            "Epoch 1/1\n",
            "28110/28110 [==============================] - 1s 51us/step - loss: 0.0095 - mean_squared_error: 0.0095 - val_loss: 0.0042 - val_mean_squared_error: 0.0042\n",
            "Train on 28110 samples, validate on 12048 samples\n",
            "Epoch 1/1\n",
            "28110/28110 [==============================] - 1s 51us/step - loss: 0.0090 - mean_squared_error: 0.0090 - val_loss: 0.0043 - val_mean_squared_error: 0.0043\n",
            "Train on 28110 samples, validate on 12048 samples\n",
            "Epoch 1/1\n",
            "28110/28110 [==============================] - 1s 51us/step - loss: 0.0088 - mean_squared_error: 0.0088 - val_loss: 0.0041 - val_mean_squared_error: 0.0041\n",
            "Train on 28110 samples, validate on 12048 samples\n",
            "Epoch 1/1\n",
            "28110/28110 [==============================] - 1s 51us/step - loss: 0.0087 - mean_squared_error: 0.0087 - val_loss: 0.0041 - val_mean_squared_error: 0.0041\n",
            "Train on 28110 samples, validate on 12048 samples\n",
            "Epoch 1/1\n",
            "28110/28110 [==============================] - 1s 51us/step - loss: 0.0086 - mean_squared_error: 0.0086 - val_loss: 0.0042 - val_mean_squared_error: 0.0042\n",
            "Train on 28110 samples, validate on 12048 samples\n",
            "Epoch 1/1\n",
            "28110/28110 [==============================] - 1s 51us/step - loss: 0.0087 - mean_squared_error: 0.0087 - val_loss: 0.0042 - val_mean_squared_error: 0.0042\n",
            "Train on 28110 samples, validate on 12048 samples\n",
            "Epoch 1/1\n",
            "28110/28110 [==============================] - 1s 51us/step - loss: 0.0086 - mean_squared_error: 0.0086 - val_loss: 0.0040 - val_mean_squared_error: 0.0040\n",
            "Train on 28110 samples, validate on 12048 samples\n",
            "Epoch 1/1\n",
            "28110/28110 [==============================] - 1s 51us/step - loss: 0.0084 - mean_squared_error: 0.0084 - val_loss: 0.0037 - val_mean_squared_error: 0.0037\n",
            "Train on 28110 samples, validate on 12048 samples\n",
            "Epoch 1/1\n",
            "28110/28110 [==============================] - 1s 51us/step - loss: 0.0086 - mean_squared_error: 0.0086 - val_loss: 0.0038 - val_mean_squared_error: 0.0038\n",
            "Train on 28110 samples, validate on 12048 samples\n",
            "Epoch 1/1\n",
            "28110/28110 [==============================] - 1s 51us/step - loss: 0.0085 - mean_squared_error: 0.0085 - val_loss: 0.0038 - val_mean_squared_error: 0.0038\n"
          ],
          "name": "stdout"
        }
      ]
    },
    {
      "metadata": {
        "id": "kN3R2XvIxiT0",
        "colab_type": "text"
      },
      "cell_type": "markdown",
      "source": [
        "Fitting slightly complex autoencoder architecture"
      ]
    },
    {
      "metadata": {
        "id": "S8aGBP-Qwyx-",
        "colab_type": "code",
        "colab": {}
      },
      "cell_type": "code",
      "source": [
        "autoencoder = Sequential()\n",
        "\n",
        "autoencoder.add(Dropout(0.2, input_shape=(input_dim,)))\n",
        "autoencoder.add(Dense(encoding_dim, activation='relu'))\n",
        "autoencoder.add(Dense(int(encoding_dim / 2), activation='relu'))\n",
        "autoencoder.add(Dense(encoding_dim, activation='relu'))\n",
        "autoencoder.add(Dense(input_dim, activation='linear'))"
      ],
      "execution_count": 0,
      "outputs": []
    },
    {
      "metadata": {
        "id": "ZSPPU9VIxpLr",
        "colab_type": "code",
        "colab": {}
      },
      "cell_type": "code",
      "source": [
        "nb_epoch = 25\n",
        "batch_size = 32\n",
        "\n",
        "autoencoder.compile(optimizer='adam', \n",
        "                    loss='mean_squared_error', \n",
        "                    metrics=['mse'])"
      ],
      "execution_count": 0,
      "outputs": []
    },
    {
      "metadata": {
        "id": "xAmG64rJxpIa",
        "colab_type": "code",
        "colab": {}
      },
      "cell_type": "code",
      "source": [
        "hist = []\n",
        "for _ in range(nb_epoch):\n",
        "    hist.append(autoencoder.fit(X_train_No_scaled, X_train_No_scaled,\n",
        "                    epochs=1,\n",
        "                    batch_size=batch_size,\n",
        "                    shuffle=True,\n",
        "                     validation_split=0.3,\n",
        "                    verbose=1).history)"
      ],
      "execution_count": 0,
      "outputs": []
    },
    {
      "metadata": {
        "id": "x4kflRLDyjjE",
        "colab_type": "text"
      },
      "cell_type": "markdown",
      "source": [
        "Testing is the trained autoencoder is able to differentiate between classes"
      ]
    },
    {
      "metadata": {
        "id": "nc0zNsvuxpDn",
        "colab_type": "code",
        "colab": {}
      },
      "cell_type": "code",
      "source": [
        "x_tr_inv = min_max_scaler_train.inverse_transform(X_train_No_scaled)\n",
        "X_train_No_Unscaled = pd.DataFrame(x_tr_inv, columns=X_train_No_scaled.columns)\n",
        "x_test_inv = min_max_scaler_test.inverse_transform(X_test_scaled)\n",
        "X_test_Unscaled = pd.DataFrame(x_test_inv, columns=X_test_scaled.columns)"
      ],
      "execution_count": 0,
      "outputs": []
    },
    {
      "metadata": {
        "id": "MeNbATq_xpB1",
        "colab_type": "code",
        "colab": {}
      },
      "cell_type": "code",
      "source": [
        "y_test1 = pd.DataFrame(y_test)\n",
        "\n",
        "df1= X_test_Unscaled\n",
        "y_test1 = y_test1.set_index(df1.index)\n",
        "df1['went_on_backorder'] = y_test1.iloc[:,0].values\n",
        "\n",
        "\n",
        "test_yes=df1.loc[df1[\"went_on_backorder\"] == \"Yes\"]\n",
        "print(test_yes.shape)\n",
        "\n",
        "test_no=df1.loc[df1[\"went_on_backorder\"] == \"No\"]\n",
        "print(test_no.shape)"
      ],
      "execution_count": 0,
      "outputs": []
    },
    {
      "metadata": {
        "id": "S42e5b4_xo-l",
        "colab_type": "code",
        "colab": {}
      },
      "cell_type": "code",
      "source": [
        "#Getting the errors from the went_on_order = 'no' data separately \n",
        "autoencoder.evaluate(test_no.iloc[:,:-1],test_no.iloc[:,:-1])"
      ],
      "execution_count": 0,
      "outputs": []
    },
    {
      "metadata": {
        "id": "1q5uF2OExo7Y",
        "colab_type": "code",
        "colab": {}
      },
      "cell_type": "code",
      "source": [
        "#Getting the errors from the non fraud data separately \n",
        "autoencoder.evaluate(test_yes.iloc[:,:-1],test_yes.iloc[:,:-1])"
      ],
      "execution_count": 0,
      "outputs": []
    },
    {
      "metadata": {
        "id": "nD6giWi1y2lK",
        "colab_type": "code",
        "colab": {}
      },
      "cell_type": "code",
      "source": [
        "#Obtaining predictions for non fraud records\n",
        "predictions_no=autoencoder.predict(test_no.iloc[:,:-1])\n",
        "predictions_yes=autoencoder.predict(test_yes.iloc[:,:-1])                                              "
      ],
      "execution_count": 0,
      "outputs": []
    },
    {
      "metadata": {
        "id": "1MIk9pSSy2hq",
        "colab_type": "code",
        "colab": {}
      },
      "cell_type": "code",
      "source": [
        ""
      ],
      "execution_count": 0,
      "outputs": []
    },
    {
      "metadata": {
        "id": "Ql7QEM4ly2fa",
        "colab_type": "code",
        "colab": {}
      },
      "cell_type": "code",
      "source": [
        ""
      ],
      "execution_count": 0,
      "outputs": []
    },
    {
      "metadata": {
        "id": "f7U_KSD1y2cH",
        "colab_type": "code",
        "colab": {}
      },
      "cell_type": "code",
      "source": [
        ""
      ],
      "execution_count": 0,
      "outputs": []
    }
  ]
}